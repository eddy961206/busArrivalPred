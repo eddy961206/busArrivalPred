{
 "cells": [
  {
   "metadata": {},
   "cell_type": "markdown",
   "source": "## 판다스 빈 행 어떻게 읽어오나? -> 알아서 안읽음",
   "id": "8832e2478466caa2"
  },
  {
   "cell_type": "code",
   "id": "initial_id",
   "metadata": {
    "collapsed": true,
    "ExecuteTime": {
     "end_time": "2024-09-03T01:33:39.644177Z",
     "start_time": "2024-09-03T01:33:39.626671Z"
    }
   },
   "source": [
    "import pandas as pd\n",
    "from io import StringIO\n",
    "\n",
    "# CSV 파일을 읽어올 때 빈 행을 포함하는 예시\n",
    "data = \"\"\"\n",
    "DAY_TYPE,BUSINFOUNIT_ID,LEN,DEP_TIME,TIME_GAP\n",
    "1,000010002,388,00:00,127\n",
    "\n",
    "3,000010004,259,00:00,43\n",
    "2,000010006,500,01:00,200\n",
    "\"\"\"\n",
    "\n",
    "# pandas로 CSV 데이터 읽기\n",
    "df = pd.read_csv(StringIO(data), dtype={'BUSINFOUNIT_ID':str})\n",
    "print(df)\n"
   ],
   "outputs": [
    {
     "name": "stdout",
     "output_type": "stream",
     "text": [
      "   DAY_TYPE BUSINFOUNIT_ID  LEN DEP_TIME  TIME_GAP\n",
      "0         1      000010002  388    00:00       127\n",
      "1         3      000010004  259    00:00        43\n",
      "2         2      000010006  500    01:00       200\n"
     ]
    }
   ],
   "execution_count": 9
  },
  {
   "metadata": {
    "ExecuteTime": {
     "end_time": "2024-09-03T01:32:43.890396Z",
     "start_time": "2024-09-03T01:32:43.871397Z"
    }
   },
   "cell_type": "code",
   "source": [
    "import pandas as pd\n",
    "# 결측값 ,, -> NaN 으로 됨\n",
    "data = \"\"\"\n",
    "DAY_TYPE,BUSINFOUNIT_ID,LEN,DEP_TIME,TIME_GAP\n",
    "1,000010002,388,00:00,127\n",
    "3,000010004,,00:00,43\n",
    "2,000010006,500,01:00,200\n",
    "\"\"\"\n",
    "\n",
    "df = pd.read_csv(StringIO(data), dtype={'BUSINFOUNIT_ID':str})\n",
    "print(df)"
   ],
   "id": "2c5edf86c2a04cbf",
   "outputs": [
    {
     "name": "stdout",
     "output_type": "stream",
     "text": [
      "   DAY_TYPE BUSINFOUNIT_ID    LEN DEP_TIME  TIME_GAP\n",
      "0         1      000010002  388.0    00:00       127\n",
      "1         3      000010004    NaN    00:00        43\n",
      "2         2      000010006  500.0    01:00       200\n"
     ]
    }
   ],
   "execution_count": 5
  },
  {
   "metadata": {},
   "cell_type": "code",
   "outputs": [],
   "execution_count": null,
   "source": "",
   "id": "faf3c799b2cfb88d"
  },
  {
   "metadata": {},
   "cell_type": "code",
   "outputs": [],
   "execution_count": null,
   "source": "",
   "id": "808a8f354623fc80"
  },
  {
   "metadata": {
    "ExecuteTime": {
     "end_time": "2024-09-09T08:23:26.026994Z",
     "start_time": "2024-09-09T08:23:26.009856Z"
    }
   },
   "cell_type": "code",
   "outputs": [
    {
     "name": "stdout",
     "output_type": "stream",
     "text": [
      "루트 디렉토리: ..\\..\\..\\..\\..\n"
     ]
    }
   ],
   "execution_count": 30,
   "source": [
    "import os\n",
    "root_dir = os.path.relpath('/')  # '/'를 절대 경로로 변환\n",
    "\n",
    "print(f\"루트 디렉토리: {root_dir}\")"
   ],
   "id": "3d98a5e406b60ec0"
  },
  {
   "metadata": {
    "ExecuteTime": {
     "end_time": "2024-09-09T08:26:06.887982Z",
     "start_time": "2024-09-09T08:26:06.879965Z"
    }
   },
   "cell_type": "code",
   "outputs": [
    {
     "name": "stdout",
     "output_type": "stream",
     "text": [
      "현재 디렉토리: D:\\WorkSpaces\\pyCharm_workspace\\busArrivalPred\\src\\preprocess\n",
      "../../: D:\\WorkSpaces\\pyCharm_workspace\\busArrivalPred\\src\\preprocess\n"
     ]
    }
   ],
   "execution_count": 38,
   "source": [
    "relative_path = './'\n",
    "current_dir = os.getcwd()\n",
    "target_dir = os.path.abspath(os.path.join(current_dir, relative_path))\n",
    "\n",
    "print(f\"현재 디렉토리: {current_dir}\")\n",
    "print(f\"../../: {target_dir}\")"
   ],
   "id": "d5959532018ccf86"
  },
  {
   "metadata": {},
   "cell_type": "code",
   "outputs": [],
   "execution_count": null,
   "source": "",
   "id": "48af25a2f2cb0f85"
  },
  {
   "metadata": {},
   "cell_type": "code",
   "outputs": [],
   "execution_count": null,
   "source": "",
   "id": "909d6872c66b1f70"
  },
  {
   "metadata": {},
   "cell_type": "markdown",
   "source": "# LSTM 빈칸 -1 채우기",
   "id": "82c75094e90f6faf"
  },
  {
   "metadata": {
    "ExecuteTime": {
     "end_time": "2024-09-19T06:41:50.898332Z",
     "start_time": "2024-09-19T06:41:50.868812Z"
    }
   },
   "cell_type": "code",
   "source": [
    "import pandas as pd\n",
    "import numpy as np\n",
    "\n",
    "# 원본 데이터 생성\n",
    "data = {\n",
    "    'DAY_TYPE': [3, 3, 3, 3, 3, 3, 3, 3],\n",
    "    'BUSINFOUNIT_ID': ['000010783'] * 8,\n",
    "    'LEN': [292] * 8,\n",
    "    'DEP_TIME': pd.date_range(start='2024-06-04 07:00:00', periods=8, freq='1min'),\n",
    "}\n",
    "data_pd = pd.DataFrame(data)\n",
    "\n",
    "# 예측 결과 생성 (실제 모델 예측 대신 임의의 값 사용)\n",
    "predictions_min = [[71], [75], [68]]\n",
    "\n",
    "# 설정\n",
    "config = {'seq_length': 5}\n",
    "\n",
    "# 예측 결과를 데이터프레임으로 변환\n",
    "predictions_min_flat = [item[0] for item in predictions_min]\n",
    "predictions_df = pd.DataFrame({'TIME_GAP_ESTIMATE': np.round(predictions_min_flat, 0).astype(int)})\n",
    "\n",
    "print(\"Original data:\")\n",
    "print(data_pd)\n",
    "print(\"\\nPredictions:\")\n",
    "print(predictions_df)"
   ],
   "id": "b38cb94a4a48bb0b",
   "outputs": [
    {
     "name": "stdout",
     "output_type": "stream",
     "text": [
      "Original data:\n",
      "   DAY_TYPE BUSINFOUNIT_ID  LEN            DEP_TIME\n",
      "0         3      000010783  292 2024-06-04 07:00:00\n",
      "1         3      000010783  292 2024-06-04 07:01:00\n",
      "2         3      000010783  292 2024-06-04 07:02:00\n",
      "3         3      000010783  292 2024-06-04 07:03:00\n",
      "4         3      000010783  292 2024-06-04 07:04:00\n",
      "5         3      000010783  292 2024-06-04 07:05:00\n",
      "6         3      000010783  292 2024-06-04 07:06:00\n",
      "7         3      000010783  292 2024-06-04 07:07:00\n",
      "\n",
      "Predictions:\n",
      "   TIME_GAP_ESTIMATE\n",
      "0                 71\n",
      "1                 75\n",
      "2                 68\n"
     ]
    }
   ],
   "execution_count": 25
  },
  {
   "metadata": {
    "ExecuteTime": {
     "end_time": "2024-09-19T06:41:51.912938Z",
     "start_time": "2024-09-19T06:41:51.896944Z"
    }
   },
   "cell_type": "code",
   "source": [
    "\n",
    "# 원본 데이터프레임의 인덱스와 매칭\n",
    "data_pd = data_pd.reset_index(drop=True)\n",
    "predictions_df.index = data_pd.index[config['seq_length']:len(predictions_df) + config['seq_length']]\n",
    "\n",
    "print(\"\\nPredictions with adjusted index:\")\n",
    "print(predictions_df)\n"
   ],
   "id": "a1467bc75352eabc",
   "outputs": [
    {
     "name": "stdout",
     "output_type": "stream",
     "text": [
      "\n",
      "Predictions with adjusted index:\n",
      "   TIME_GAP_ESTIMATE\n",
      "5                 71\n",
      "6                 75\n",
      "7                 68\n"
     ]
    }
   ],
   "execution_count": 26
  },
  {
   "metadata": {
    "ExecuteTime": {
     "end_time": "2024-09-19T06:41:52.515166Z",
     "start_time": "2024-09-19T06:41:52.497171Z"
    }
   },
   "cell_type": "code",
   "source": [
    "\n",
    "# 예측 결과를 원본 데이터프레임에 추가\n",
    "data_pd['TIME_GAP_ESTIMATE'] = -1  # 모든 행을 -1로 초기화\n",
    "data_pd.loc[predictions_df.index, 'TIME_GAP_ESTIMATE'] = predictions_df['TIME_GAP_ESTIMATE']\n",
    "\n",
    "print(\"\\nFinal result:\")\n",
    "print(data_pd)\n"
   ],
   "id": "7ce57e6743ff9cae",
   "outputs": [
    {
     "name": "stdout",
     "output_type": "stream",
     "text": [
      "\n",
      "Final result:\n",
      "   DAY_TYPE BUSINFOUNIT_ID  LEN            DEP_TIME  TIME_GAP_ESTIMATE\n",
      "0         3      000010783  292 2024-06-04 07:00:00                 -1\n",
      "1         3      000010783  292 2024-06-04 07:01:00                 -1\n",
      "2         3      000010783  292 2024-06-04 07:02:00                 -1\n",
      "3         3      000010783  292 2024-06-04 07:03:00                 -1\n",
      "4         3      000010783  292 2024-06-04 07:04:00                 -1\n",
      "5         3      000010783  292 2024-06-04 07:05:00                 71\n",
      "6         3      000010783  292 2024-06-04 07:06:00                 75\n",
      "7         3      000010783  292 2024-06-04 07:07:00                 68\n"
     ]
    }
   ],
   "execution_count": 27
  },
  {
   "metadata": {},
   "cell_type": "code",
   "outputs": [],
   "execution_count": null,
   "source": "",
   "id": "fc760596f9e5a5bc"
  },
  {
   "metadata": {},
   "cell_type": "markdown",
   "source": "## 그룹화된 데이터가 매우 적거나",
   "id": "f9bf3853a181e66a"
  },
  {
   "metadata": {
    "ExecuteTime": {
     "end_time": "2024-09-19T08:32:53.993121Z",
     "start_time": "2024-09-19T08:32:53.378714Z"
    }
   },
   "cell_type": "code",
   "source": [
    "import pandas as pd\n",
    "\n",
    "data = {\n",
    "    'BUSROUTE_ID': ['210000009', '210000009', '210000009', '210000009', '210000009',\n",
    "                    '210000010', '210000010', '210000010', '210000010', '210000010'],\n",
    "    'BUSINFOUNIT_ID': ['000011248', '000011248', '000011248', '000011248', '000011248',\n",
    "                       '000011249', '000011249', '000011249', '000011249', '000011249'],\n",
    "    'DEP_TIME': ['2024-06-04 07:00:00', '2024-06-04 07:01:00', '2024-06-04 07:02:00', '2024-06-04 07:03:00', '2024-06-04 07:04:00',\n",
    "                 '2024-06-04 08:00:00', '2024-06-04 08:01:00', '2024-06-04 08:02:00', '2024-06-04 08:03:00', '2024-06-04 08:04:00'],\n",
    "    'LEN': [500, 550, 600, 620, 700, 400, 450, 480, 500, 550],\n",
    "    'TIME_GAP': [60, 70, 80, 90, 100, 50, 60, 70, 80, 90]\n",
    "}\n",
    "data_pd = pd.DataFrame(data)\n",
    "print(data_pd)"
   ],
   "id": "e27d262f786922b8",
   "outputs": [
    {
     "name": "stdout",
     "output_type": "stream",
     "text": [
      "  BUSROUTE_ID BUSINFOUNIT_ID             DEP_TIME  LEN  TIME_GAP\n",
      "0   210000009      000011248  2024-06-04 07:00:00  500        60\n",
      "1   210000009      000011248  2024-06-04 07:01:00  550        70\n",
      "2   210000009      000011248  2024-06-04 07:02:00  600        80\n",
      "3   210000009      000011248  2024-06-04 07:03:00  620        90\n",
      "4   210000009      000011248  2024-06-04 07:04:00  700       100\n",
      "5   210000010      000011249  2024-06-04 08:00:00  400        50\n",
      "6   210000010      000011249  2024-06-04 08:01:00  450        60\n",
      "7   210000010      000011249  2024-06-04 08:02:00  480        70\n",
      "8   210000010      000011249  2024-06-04 08:03:00  500        80\n",
      "9   210000010      000011249  2024-06-04 08:04:00  550        90\n"
     ]
    }
   ],
   "execution_count": 2
  },
  {
   "metadata": {
    "ExecuteTime": {
     "end_time": "2024-09-19T08:33:09.689001Z",
     "start_time": "2024-09-19T08:33:09.678995Z"
    }
   },
   "cell_type": "code",
   "source": [
    "# 특정 그룹에 3개 데이터만 있는 경우\n",
    "group_data = {\n",
    "    'BUSROUTE_ID': ['210000011', '210000011', '210000011'],\n",
    "    'BUSINFOUNIT_ID': ['000011250', '000011250', '000011250'],\n",
    "    'DEP_TIME': ['2024-06-04 09:00:00', '2024-06-04 09:01:00', '2024-06-04 09:02:00'],\n",
    "    'LEN': [450, 500, 550],\n",
    "    'TIME_GAP': [50, 55, 60]\n",
    "}\n",
    "group_df = pd.DataFrame(group_data)\n",
    "print(group_df)"
   ],
   "id": "aa7b8360a6140c38",
   "outputs": [
    {
     "name": "stdout",
     "output_type": "stream",
     "text": [
      "  BUSROUTE_ID BUSINFOUNIT_ID             DEP_TIME  LEN  TIME_GAP\n",
      "0   210000011      000011250  2024-06-04 09:00:00  450        50\n",
      "1   210000011      000011250  2024-06-04 09:01:00  500        55\n",
      "2   210000011      000011250  2024-06-04 09:02:00  550        60\n"
     ]
    }
   ],
   "execution_count": 3
  },
  {
   "metadata": {
    "ExecuteTime": {
     "end_time": "2024-09-19T08:35:15.629195Z",
     "start_time": "2024-09-19T08:35:15.623174Z"
    }
   },
   "cell_type": "code",
   "source": [
    "import numpy as np\n",
    "\n",
    "# 시퀀스 길이와 실제 데이터 길이가 다를 경우, 패딩 추가\n",
    "seq_length = 5\n",
    "features = np.array([[450], [500], [550]])  # 그룹 내 실제 데이터\n",
    "\n",
    "# 부족한 시퀀스에 0으로 패딩 추가\n",
    "if len(features) < seq_length:\n",
    "    padding = np.zeros((seq_length - len(features), features.shape[1]))\n",
    "    padded_sequence = np.vstack((features, padding))\n",
    "\n",
    "print(padded_sequence)\n"
   ],
   "id": "50bc8cb5f327c2f7",
   "outputs": [
    {
     "name": "stdout",
     "output_type": "stream",
     "text": [
      "[[450.]\n",
      " [500.]\n",
      " [550.]\n",
      " [  0.]\n",
      " [  0.]]\n"
     ]
    }
   ],
   "execution_count": 4
  },
  {
   "metadata": {},
   "cell_type": "code",
   "outputs": [],
   "execution_count": null,
   "source": "",
   "id": "d919fc822d112b4"
  },
  {
   "metadata": {},
   "cell_type": "code",
   "outputs": [],
   "execution_count": null,
   "source": "",
   "id": "300693acc28593a9"
  },
  {
   "metadata": {},
   "cell_type": "markdown",
   "source": "# csv 정렬",
   "id": "357b9f63bbad9ca5"
  },
  {
   "metadata": {
    "ExecuteTime": {
     "end_time": "2024-09-20T00:49:59.217943Z",
     "start_time": "2024-09-20T00:49:58.366526Z"
    }
   },
   "cell_type": "code",
   "source": [
    "import pandas as pd\n",
    "import os\n",
    "csv = '../../dataset/inference/route/LSTM/inf_0604.csv'\n",
    "dtype_spec = {\n",
    "    'DAY_TYPE': 'int8',\n",
    "    'BUSROUTE_ID': 'str',\n",
    "    'BUSINFOUNIT_ID': 'str',\n",
    "    'LEN': 'int32',\n",
    "    'DEP_TIME': 'str',\n",
    "    # 'TIME_GAP': 'int32',\n",
    "    'TIME_GAP': 'float32',  # int32는 NaN 값을 처리할 수 없으므로 float32로 변경\n",
    "    # 'SPEED': 'int32'\n",
    "    # 'SPEED': 'float32'\n",
    "}\n",
    "usecols = ['DAY_TYPE', 'BUSROUTE_ID', 'BUSINFOUNIT_ID', 'LEN', 'DEP_TIME', 'TIME_GAP']\n",
    "\n",
    "data_pd = pd.read_csv(csv, skipinitialspace=True, usecols=usecols, dtype=dtype_spec)\n",
    "data_pd.sort_values(by=['BUSROUTE_ID', 'BUSINFOUNIT_ID', 'DEP_TIME'], inplace=True)\n",
    "\n",
    "# 결과 저장\n",
    "results_folder = f'../../dataset/inference/route/LSTM'\n",
    "os.makedirs(results_folder, exist_ok=True)\n",
    "result_file = os.path.join(results_folder, 'inf_0604_sort.csv')\n",
    "data_pd.to_csv(result_file, index=False)\n",
    "print(f\"정렬 파일 저장 완료: {result_file}\")\n"
   ],
   "id": "97af31017d3c21fb",
   "outputs": [
    {
     "name": "stdout",
     "output_type": "stream",
     "text": [
      "정렬 파일 저장 완료: ../../../dataset/inference/route/LSTM\\inf_0604_sort.csv\n"
     ]
    }
   ],
   "execution_count": 7
  },
  {
   "metadata": {},
   "cell_type": "code",
   "outputs": [],
   "execution_count": null,
   "source": "",
   "id": "edd987e7c6f443e5"
  },
  {
   "metadata": {},
   "cell_type": "markdown",
   "source": "# 시간대 필터링 저장",
   "id": "1168aa7b72eec18b"
  },
  {
   "metadata": {
    "ExecuteTime": {
     "end_time": "2024-10-04T08:17:47.636911Z",
     "start_time": "2024-10-04T08:17:47.447400Z"
    }
   },
   "cell_type": "code",
   "source": [
    "import pandas as pd\n",
    "import os\n",
    "\n",
    "csv = '../../dataset/inference/route/241007_모든노선_8.1~8.14_평일_특성추가/inf_filtered.csv'\n",
    "# dtype_spec = {\n",
    "#     'DAY_TYPE': 'int8',\n",
    "#     'BUSROUTE_ID': 'str',\n",
    "#     'BUSINFOUNIT_ID': 'str',\n",
    "#     'LEN': 'int32',\n",
    "#     'DEP_TIME': 'str',\n",
    "#     # 'TIME_GAP': 'int32',\n",
    "#     'TIME_GAP': 'float32',  # int32는 NaN 값을 처리할 수 없으므로 float32로 변경\n",
    "#     # 'SPEED': 'int32'\n",
    "#     'SPEED': 'float32'\n",
    "# }\n",
    "# usecols = ['BUSROUTE_ID', 'BUSINFOUNIT_ID', 'LEN', 'DEP_TIME', 'SPEED', 'TIME_GAP']\n",
    "dtype_spec = {\n",
    "        'DAY_TYPE': 'int8',\n",
    "        'BUSROUTE_ID': 'str',\n",
    "        'PEEK_ALLOC': 'int16',\n",
    "        'NPEEK_ALLOC': 'int16',\n",
    "        'ROUTE_LEN': 'int32',\n",
    "        'BUSSTOP_CNT': 'int16',\n",
    "        'BUSINFOUNIT_ID': 'str',\n",
    "        'INFOUNIT_SEQ': 'int16',\n",
    "        'LEN': 'int32',\n",
    "        'GPS_COORDX': 'float32',\n",
    "        'GPS_COORDY': 'float32',\n",
    "        'COLLECT_DATE': 'str',\n",
    "        'DEP_TIME': 'str',\n",
    "        'TIME_GAP': 'int32',\n",
    "        'SPEED': 'int32'\n",
    "    }\n",
    "usecols = [\n",
    "    'DAY_TYPE', 'BUSROUTE_ID', 'PEEK_ALLOC', 'NPEEK_ALLOC',\n",
    "    'ROUTE_LEN', 'BUSSTOP_CNT', 'BUSINFOUNIT_ID', 'INFOUNIT_SEQ',\n",
    "    'LEN', 'GPS_COORDX', 'GPS_COORDY', 'DEP_TIME', 'TIME_GAP'\n",
    "]\n",
    "data_pd = pd.read_csv(csv, skipinitialspace=True, usecols=usecols, dtype=dtype_spec)\n",
    "\n",
    "# SPEED 컬럼의 NaN 또는 빈 값 제거\n",
    "data_pd = data_pd.dropna(subset=['SPEED'])\n",
    "data_pd = data_pd[data_pd['SPEED'] != '']\n",
    "# TIME_GAP 컬럼의 NaN 또는 빈 값 제거\n",
    "data_pd = data_pd.dropna(subset=['TIME_GAP'])\n",
    "data_pd = data_pd[data_pd['TIME_GAP'] != '']\n",
    "\n",
    "data_pd.reset_index(drop=True, inplace=True)\n",
    "\n",
    "# TIME_GAP 컬럼 정수로\n",
    "data_pd['TIME_GAP'] = data_pd['TIME_GAP'].astype('int32')\n",
    "# SPEED 컬럼 정수로 반올림\n",
    "data_pd['SPEED'] = data_pd['SPEED'].round().astype('int32')\n",
    "\n",
    "# 2. 필요한 시간대 필터링 (07:00~09:00, 13:00~15:00, 18:00~20:00)\n",
    "valid_times = (\n",
    "    ((data_pd['DEP_TIME'] >= '07:00') & (data_pd['DEP_TIME'] <= '09:00')) |\n",
    "    ((data_pd['DEP_TIME'] >= '13:00') & (data_pd['DEP_TIME'] <= '15:00')) |\n",
    "    ((data_pd['DEP_TIME'] >= '18:00') & (data_pd['DEP_TIME'] <= '20:00'))\n",
    ")\n",
    "\n",
    "# 3. 해당 시간대의 데이터만 추출\n",
    "data_pd = data_pd[valid_times]\n",
    "\n",
    "# 중복 제거\n",
    "data_pd = data_pd.drop_duplicates(subset=['BUSROUTE_ID', 'BUSINFOUNIT_ID', 'DEP_TIME'], keep='first')\n",
    "\n",
    "# 결과 저장\n",
    "input_filename = os.path.basename(csv)\n",
    "output_filename = os.path.splitext(input_filename)[0] + '_filtered.csv'\n",
    "result_file = os.path.join(os.path.dirname(csv), output_filename)\n",
    "data_pd.to_csv(result_file, index=False)"
   ],
   "id": "d928c071007523b0",
   "outputs": [],
   "execution_count": 4
  },
  {
   "metadata": {},
   "cell_type": "code",
   "outputs": [],
   "execution_count": null,
   "source": "",
   "id": "b7236d107a8e2e8"
  },
  {
   "metadata": {},
   "cell_type": "markdown",
   "source": "# 스케일러",
   "id": "4685549fc98bf29c"
  },
  {
   "metadata": {
    "ExecuteTime": {
     "end_time": "2024-09-23T08:07:43.394979Z",
     "start_time": "2024-09-23T08:07:43.359536Z"
    }
   },
   "cell_type": "code",
   "source": [
    "import pandas as pd\n",
    "from sklearn.preprocessing import StandardScaler\n",
    "\n",
    "# 샘플 데이터 생성\n",
    "train_data = pd.DataFrame({'feature1': [1, 2, 3, 4, 5],\n",
    "                           'feature2': [10, 20, 30, 40, 50]})\n",
    "test_data = pd.DataFrame({'feature1': [6, 7, 8],\n",
    "                          'feature2': [60, 70, 80]})\n",
    "\n",
    "# StandardScaler 객체 생성\n",
    "scaler = StandardScaler()\n",
    "\n",
    "# 1. fit 메서드: 학습 데이터의 평균과 표준 편차 계산\n",
    "scaler.fit(train_data) \n",
    "\n",
    "# 2. transform 메서드: 학습 데이터와 테스트 데이터 스케일 조정\n",
    "scaled_train_data = scaler.transform(train_data)\n",
    "scaled_test_data = scaler.transform(test_data)\n",
    "\n",
    "# 결과 출력\n",
    "print(\"Original Train Data:\\n\", train_data)\n",
    "print(\"\\nScaled Train Data:\\n\", scaled_train_data)\n",
    "print(\"\\nOriginal Test Data:\\n\", test_data)\n",
    "print(\"\\nScaled Test Data:\\n\", scaled_test_data)\n",
    "\n",
    "# 평균과 표준편차 출력\n",
    "print(\"\\nMean:\\n\", scaler.mean_)\n",
    "print(\"\\nStandard Deviation:\\n\", scaler.scale_)"
   ],
   "id": "36c02563f63993cf",
   "outputs": [
    {
     "name": "stdout",
     "output_type": "stream",
     "text": [
      "\n",
      "Original Train Data:\n",
      "    feature1  feature2\n",
      "0         1        10\n",
      "1         2        20\n",
      "2         3        30\n",
      "3         4        40\n",
      "4         5        50\n",
      "\n",
      "Scaled Train Data:\n",
      " [[-1.41421356 -1.41421356]\n",
      " [-0.70710678 -0.70710678]\n",
      " [ 0.          0.        ]\n",
      " [ 0.70710678  0.70710678]\n",
      " [ 1.41421356  1.41421356]]\n",
      "\n",
      "Original Test Data:\n",
      "    feature1  feature2\n",
      "0         6        60\n",
      "1         7        70\n",
      "2         8        80\n",
      "\n",
      "Scaled Test Data:\n",
      " [[2.12132034 2.12132034]\n",
      " [2.82842712 2.82842712]\n",
      " [3.53553391 3.53553391]]\n",
      "\n",
      "Mean:\n",
      " [ 3. 30.]\n",
      "\n",
      "Standard Deviation:\n",
      " [ 1.41421356 14.14213562]\n"
     ]
    }
   ],
   "execution_count": 3
  },
  {
   "metadata": {},
   "cell_type": "code",
   "outputs": [],
   "execution_count": null,
   "source": "",
   "id": "84dead418144471e"
  },
  {
   "metadata": {},
   "cell_type": "markdown",
   "source": "# 해시 인코딩",
   "id": "73428ae69ff67123"
  },
  {
   "metadata": {
    "ExecuteTime": {
     "end_time": "2024-10-08T07:14:50.231251Z",
     "start_time": "2024-10-08T07:14:50.218250Z"
    }
   },
   "cell_type": "code",
   "source": [
    "import hashlib\n",
    "\n",
    "def hash_function(value, hash_size):\n",
    "    # 문자열로 변환 후 해시 적용\n",
    "    if not isinstance(value, str):\n",
    "        value = str(value)\n",
    "    # MD5 해시 함수 적용 후, 16진수를 10진수로 변환\n",
    "    hashed_value = int(hashlib.md5(value.encode()).hexdigest(), 16)\n",
    "    # hash_size 크기에 맞게 나머지 연산을 통해 고정된 범위로 변환\n",
    "    return hashed_value % hash_size\n",
    "\n",
    "# 해시 사이즈 설정 (예: 100)\n",
    "hash_size = 100\n",
    "\n",
    "# BUSROUTE_ID와 BUSINFOUNIT_ID 각각에 해시 인코딩 적용\n",
    "busroute_ids = ['1001', '1002', '1003', '1001']\n",
    "businfounit_ids = ['A001', 'B002', 'A001', 'B003']\n",
    "\n",
    "# 해시 인코딩 결과\n",
    "hashed_busroute_ids = [hash_function(busroute_id, hash_size) for busroute_id in busroute_ids]\n",
    "hashed_businfounit_ids = [hash_function(businfounit_id, hash_size) for businfounit_id in businfounit_ids]\n",
    "\n",
    "# 결과 출력\n",
    "print(\"Hashed BUSROUTE_IDs:\", hashed_busroute_ids)\n",
    "print(\"Hashed BUSINFOUNIT_IDs:\", hashed_businfounit_ids)\n"
   ],
   "id": "e4cee3f3b03e487d",
   "outputs": [
    {
     "name": "stdout",
     "output_type": "stream",
     "text": [
      "Hashed BUSROUTE_IDs: [6, 10, 48, 6]\n",
      "Hashed BUSINFOUNIT_IDs: [46, 3, 46, 36]\n"
     ]
    }
   ],
   "execution_count": 23
  },
  {
   "metadata": {},
   "cell_type": "code",
   "outputs": [],
   "execution_count": null,
   "source": "",
   "id": "ce2ac1972e53fced"
  }
 ],
 "metadata": {
  "kernelspec": {
   "display_name": "Python 3",
   "language": "python",
   "name": "python3"
  },
  "language_info": {
   "codemirror_mode": {
    "name": "ipython",
    "version": 2
   },
   "file_extension": ".py",
   "mimetype": "text/x-python",
   "name": "python",
   "nbconvert_exporter": "python",
   "pygments_lexer": "ipython2",
   "version": "2.7.6"
  }
 },
 "nbformat": 4,
 "nbformat_minor": 5
}
