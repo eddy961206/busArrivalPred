{
 "cells": [
  {
   "metadata": {},
   "cell_type": "markdown",
   "source": "# 임베딩 레이어",
   "id": "fc697a10206adb0"
  },
  {
   "cell_type": "code",
   "id": "initial_id",
   "metadata": {
    "collapsed": true,
    "ExecuteTime": {
     "end_time": "2024-08-27T00:54:52.872048Z",
     "start_time": "2024-08-27T00:54:49.466198Z"
    }
   },
   "source": [
    "import torch\n",
    "import torch.nn as nn\n",
    "\n",
    "# 임베딩 레이어 생성\n",
    "num_embeddings = 1000  # 어휘 크기 - 임베딩할 고유한 토큰(예: 단어)의 총 개수입니다.\n",
    "embedding_dim = 50     # 임베딩 차원 - 각 토큰을 표현할 벡터의 차원\n",
    "embedding_layer = nn.Embedding(num_embeddings=num_embeddings, embedding_dim=embedding_dim)\n",
    "\n",
    "# 입력 데이터 (예: 단어 인덱스)\n",
    "input_data = torch.LongTensor([1, 4, 3, 2])\n",
    "\n",
    "# 임베딩 적용\n",
    "embedded_data = embedding_layer(input_data)\n",
    "\n",
    "print(\"입력 데이터 shape:\", input_data.shape)\n",
    "print(\"임베딩된 데이터 shape:\", embedded_data.shape)"
   ],
   "outputs": [
    {
     "name": "stdout",
     "output_type": "stream",
     "text": [
      "입력 데이터 shape: torch.Size([4])\n",
      "임베딩된 데이터 shape: torch.Size([4, 50])\n"
     ]
    }
   ],
   "execution_count": 1
  },
  {
   "metadata": {
    "ExecuteTime": {
     "end_time": "2024-08-27T00:57:10.648933Z",
     "start_time": "2024-08-27T00:57:10.634924Z"
    }
   },
   "cell_type": "code",
   "source": "embedding_layer",
   "id": "3c86e42b8b057c65",
   "outputs": [
    {
     "data": {
      "text/plain": [
       "Embedding(1000, 50)"
      ]
     },
     "execution_count": 2,
     "metadata": {},
     "output_type": "execute_result"
    }
   ],
   "execution_count": 2
  },
  {
   "metadata": {
    "ExecuteTime": {
     "end_time": "2024-08-27T00:57:42.139743Z",
     "start_time": "2024-08-27T00:57:42.121235Z"
    }
   },
   "cell_type": "code",
   "source": "input_data",
   "id": "9bbbeeb327f34ee8",
   "outputs": [
    {
     "data": {
      "text/plain": [
       "tensor([1, 4, 3, 2])"
      ]
     },
     "execution_count": 3,
     "metadata": {},
     "output_type": "execute_result"
    }
   ],
   "execution_count": 3
  },
  {
   "metadata": {},
   "cell_type": "code",
   "outputs": [],
   "execution_count": null,
   "source": "",
   "id": "14d909d3e7cc887f"
  },
  {
   "metadata": {},
   "cell_type": "markdown",
   "source": "# 라벨인코더랑 임베딩 레이어랑 무슨 관계",
   "id": "cb77e02602b7572f"
  },
  {
   "metadata": {
    "ExecuteTime": {
     "end_time": "2024-08-27T01:04:45.189847Z",
     "start_time": "2024-08-27T01:04:45.166835Z"
    }
   },
   "cell_type": "code",
   "source": [
    "import numpy as np\n",
    "from sklearn.preprocessing import LabelEncoder\n",
    "import torch\n",
    "import torch.nn as nn\n",
    "\n",
    "# 예시 데이터\n",
    "route_ids = ['10002120', '10003130', '10001110', '10002120', '10003130']\n",
    "\n",
    "# 1. LabelEncoder를 사용하여 노선 ID를 정수로 변환\n",
    "le = LabelEncoder()\n",
    "encoded_routes = le.fit_transform(route_ids)\n",
    "\n",
    "print(\"le.classes_ : \", le.classes_)\n",
    "print(\"인코딩된 노선 ID:\", encoded_routes)"
   ],
   "id": "349af2193bb47976",
   "outputs": [
    {
     "name": "stdout",
     "output_type": "stream",
     "text": [
      "le.classes_ :  ['10001110' '10002120' '10003130']\n",
      "인코딩된 노선 ID: [1 2 0 1 2]\n"
     ]
    }
   ],
   "execution_count": 5
  },
  {
   "metadata": {
    "ExecuteTime": {
     "end_time": "2024-08-27T01:05:13.528592Z",
     "start_time": "2024-08-27T01:05:13.515592Z"
    }
   },
   "cell_type": "code",
   "source": [
    "# 2. 딥러닝 모델 정의 (간단한 예시)\n",
    "class SimpleModel(nn.Module):\n",
    "    def __init__(self, num_routes, embedding_dim, hidden_dim, output_dim):\n",
    "        super(SimpleModel, self).__init__()\n",
    "        self.embedding = nn.Embedding(num_routes, embedding_dim)\n",
    "        self.fc1 = nn.Linear(embedding_dim, hidden_dim)\n",
    "        self.fc2 = nn.Linear(hidden_dim, output_dim)\n",
    "        \n",
    "    def forward(self, x):\n",
    "        x = self.embedding(x)\n",
    "        x = torch.relu(self.fc1(x))\n",
    "        x = self.fc2(x)\n",
    "        return x"
   ],
   "id": "30e029b7f5b3aa31",
   "outputs": [],
   "execution_count": 6
  },
  {
   "metadata": {
    "ExecuteTime": {
     "end_time": "2024-08-27T01:05:56.663569Z",
     "start_time": "2024-08-27T01:05:55.229775Z"
    }
   },
   "cell_type": "code",
   "source": [
    "\n",
    "# 모델 파라미터\n",
    "num_routes = len(le.classes_)\n",
    "embedding_dim = 10\n",
    "hidden_dim = 20\n",
    "output_dim = 5  # 예시로, 5개의 출력 클래스가 있다고 가정\n",
    "\n",
    "# 모델 인스턴스 생성\n",
    "model = SimpleModel(num_routes, embedding_dim, hidden_dim, output_dim)\n",
    "\n",
    "# 3. 학습 과정 (간략히 표현)\n",
    "criterion = nn.CrossEntropyLoss()\n",
    "optimizer = torch.optim.Adam(model.parameters())\n",
    "\n",
    "# 가상의 타겟 데이터\n",
    "y = torch.tensor([0, 1, 2, 0, 1])\n",
    "\n",
    "# 학습 루프\n",
    "for epoch in range(3):\n",
    "    optimizer.zero_grad()\n",
    "    outputs = model(torch.tensor(encoded_routes))\n",
    "    loss = criterion(outputs, y)\n",
    "    loss.backward()\n",
    "    optimizer.step()\n",
    "\n",
    "print(\"학습 완료\")"
   ],
   "id": "21a04228ea51ccd9",
   "outputs": [
    {
     "name": "stdout",
     "output_type": "stream",
     "text": [
      "학습 완료\n"
     ]
    }
   ],
   "execution_count": 7
  },
  {
   "metadata": {
    "ExecuteTime": {
     "end_time": "2024-08-27T01:52:49.873223Z",
     "start_time": "2024-08-27T01:52:49.858223Z"
    }
   },
   "cell_type": "code",
   "source": [
    "\n",
    "# 4. 추론 과정\n",
    "new_route_id = '10001110'\n",
    "encoded_new_route = le.transform([new_route_id])\n",
    "print(encoded_new_route)"
   ],
   "id": "42bcfbe79c9f3be9",
   "outputs": [
    {
     "name": "stdout",
     "output_type": "stream",
     "text": [
      "[0]\n"
     ]
    }
   ],
   "execution_count": 13
  },
  {
   "metadata": {
    "ExecuteTime": {
     "end_time": "2024-08-27T01:52:50.122800Z",
     "start_time": "2024-08-27T01:52:50.088949Z"
    }
   },
   "cell_type": "code",
   "source": [
    "\n",
    "prediction = model(torch.tensor(encoded_new_route))\n",
    "print(f\"노선 ID {new_route_id}에 대한 예측:\", prediction)"
   ],
   "id": "777766fc2f4037ef",
   "outputs": [
    {
     "name": "stdout",
     "output_type": "stream",
     "text": [
      "노선 ID 10001110에 대한 예측: tensor([[ 0.1844, -0.0940,  0.1843, -0.2632, -0.5334]],\n",
      "       grad_fn=<AddmmBackward0>)\n"
     ]
    }
   ],
   "execution_count": 14
  },
  {
   "metadata": {
    "ExecuteTime": {
     "end_time": "2024-08-27T01:52:50.369689Z",
     "start_time": "2024-08-27T01:52:50.353671Z"
    }
   },
   "cell_type": "code",
   "source": [
    "\n",
    "# 5. 예측 결과 해석 (예: 가장 높은 확률의 클래스 선택)\n",
    "predicted_class = torch.argmax(prediction, dim=1).item()\n",
    "print(f\"예측된 클래스: {predicted_class}\")"
   ],
   "id": "3e5cb97ea43bb0cb",
   "outputs": [
    {
     "name": "stdout",
     "output_type": "stream",
     "text": [
      "예측된 클래스: 0\n"
     ]
    }
   ],
   "execution_count": 15
  },
  {
   "metadata": {},
   "cell_type": "code",
   "outputs": [],
   "execution_count": null,
   "source": "",
   "id": "886f0d6274c2a50c"
  },
  {
   "metadata": {},
   "cell_type": "markdown",
   "source": "# LabelEncoder 새로운 종류 들어오면?\n",
   "id": "9d524398a4ea8a5d"
  },
  {
   "metadata": {},
   "cell_type": "code",
   "outputs": [],
   "execution_count": null,
   "source": "",
   "id": "ee8b9a636dd3aa0d"
  },
  {
   "metadata": {
    "ExecuteTime": {
     "end_time": "2024-08-27T02:04:23.988455Z",
     "start_time": "2024-08-27T02:04:23.975453Z"
    }
   },
   "cell_type": "code",
   "source": [
    "import numpy as np\n",
    "from sklearn.preprocessing import LabelEncoder\n",
    "\n",
    "# 기존에 학습된 상태\n",
    "label_encoder_route = LabelEncoder()\n",
    "original_data = [1001, 1002, 1003]\n",
    "label_encoder_route.classes_ = np.array(original_data)\n",
    "print(f'label_encoder_route.classes_ : {label_encoder_route.classes_}')\n",
    "\n",
    "encoded_original_data = label_encoder_route.fit_transform(original_data)\n",
    "print(f'encoded_original_data: {encoded_original_data}')\n",
    "\n",
    "test_original_data = [1002, 1003, 1001, 1003]\n",
    "encoded_test_original_data = label_encoder_route.transform(test_original_data)\n",
    "print(f'encoded_test_original_data: {encoded_test_original_data}')\n"
   ],
   "id": "bb851332e9674296",
   "outputs": [
    {
     "name": "stdout",
     "output_type": "stream",
     "text": [
      "label_encoder_route.classes_ : [1001 1002 1003]\n",
      "encoded_original_data: [0 1 2]\n",
      "encoded_test_original_data: [1 2 0 2]\n"
     ]
    }
   ],
   "execution_count": 35
  },
  {
   "metadata": {
    "ExecuteTime": {
     "end_time": "2024-08-27T02:04:25.162237Z",
     "start_time": "2024-08-27T02:04:25.142008Z"
    }
   },
   "cell_type": "code",
   "source": [
    "\n",
    "# 새로운 구간 ID 추가\n",
    "new_routes = [1004]\n",
    "label_encoder_route.classes_ = np.append(label_encoder_route.classes_, new_routes)\n",
    "print(f'new label_encoder_route.classes_ : {label_encoder_route.classes_}')\n",
    "\n",
    "# 새로운 데이터셋\n",
    "new_data = {'BUSROUTE_ID': [1001, 1002, 1003, 1004]}\n",
    "# 인코딩 수행\n",
    "encoded_ids = label_encoder_route.transform(new_data['BUSROUTE_ID'])\n",
    "print(\"Encoded IDs:\", encoded_ids)\n",
    "\n",
    "test_added_data = {'BUSROUTE_ID': [1002, 1003, 1001, 1003, 1004, 1004]}\n",
    "encoded_test_added_data = label_encoder_route.transform(test_added_data['BUSROUTE_ID'])\n",
    "print(f'encoded_test_added_data: {encoded_test_added_data}')"
   ],
   "id": "be976cf7ed6da54b",
   "outputs": [
    {
     "name": "stdout",
     "output_type": "stream",
     "text": [
      "new label_encoder_route.classes_ : [1001 1002 1003 1004]\n",
      "Encoded IDs: [0 1 2 3]\n",
      "encoded_test_added_data: [1 2 0 2 3 3]\n"
     ]
    }
   ],
   "execution_count": 36
  },
  {
   "metadata": {},
   "cell_type": "markdown",
   "source": "# 판다스 isin",
   "id": "429d89ab039a8511"
  },
  {
   "metadata": {
    "ExecuteTime": {
     "end_time": "2024-08-27T06:47:39.656802Z",
     "start_time": "2024-08-27T06:47:39.649801Z"
    }
   },
   "cell_type": "code",
   "source": [
    "import pandas as pd\n",
    "\n",
    "# 테스트용 데이터 생성\n",
    "test_data = pd.DataFrame({'BUSINFOUNIT_ID': [1, 2, 3, 4, 5]})\n",
    "label_encoder_classes = ['3', '4', '6']\n",
    "print('test_data : \\n', test_data)\n",
    "\n",
    "# BUSINFOUNIT_ID를 문자열로 변환\n",
    "new_data_ids = test_data['BUSINFOUNIT_ID'].astype(str)\n",
    "print('new_data_ids : \\n', new_data_ids)"
   ],
   "id": "337f389453ddcf39",
   "outputs": [
    {
     "name": "stdout",
     "output_type": "stream",
     "text": [
      "test_data : \n",
      "    BUSINFOUNIT_ID\n",
      "0               1\n",
      "1               2\n",
      "2               3\n",
      "3               4\n",
      "4               5\n",
      "new_data_ids : \n",
      " 0    1\n",
      "1    2\n",
      "2    3\n",
      "3    4\n",
      "4    5\n",
      "Name: BUSINFOUNIT_ID, dtype: object\n"
     ]
    }
   ],
   "execution_count": 81
  },
  {
   "metadata": {
    "ExecuteTime": {
     "end_time": "2024-08-27T06:47:40.141409Z",
     "start_time": "2024-08-27T06:47:40.125186Z"
    }
   },
   "cell_type": "code",
   "source": [
    "# isin 함수 사용\n",
    "valid_ids = new_data_ids.isin(label_encoder_classes)\n",
    "\n",
    "# 결과 출력\n",
    "print(valid_ids)\n",
    "print(test_data[valid_ids])"
   ],
   "id": "8509f72214fe5490",
   "outputs": [
    {
     "name": "stdout",
     "output_type": "stream",
     "text": [
      "0    False\n",
      "1    False\n",
      "2     True\n",
      "3     True\n",
      "4    False\n",
      "Name: BUSINFOUNIT_ID, dtype: bool\n",
      "   BUSINFOUNIT_ID\n",
      "2               3\n",
      "3               4\n"
     ]
    }
   ],
   "execution_count": 82
  },
  {
   "metadata": {
    "ExecuteTime": {
     "end_time": "2024-08-27T06:47:40.723320Z",
     "start_time": "2024-08-27T06:47:40.706312Z"
    }
   },
   "cell_type": "code",
   "source": [
    "test_data = test_data[valid_ids]\n",
    "print('인덱스 리셋 전 test_data : \\n', test_data)\n",
    "\n",
    "test_data.reset_index(drop=True, inplace=True)\n",
    "print('인덱스 리셋 후 test_data : \\n', test_data)"
   ],
   "id": "10617797b3d18530",
   "outputs": [
    {
     "name": "stdout",
     "output_type": "stream",
     "text": [
      "인덱스 리셋 전 test_data : \n",
      "    BUSINFOUNIT_ID\n",
      "2               3\n",
      "3               4\n",
      "인덱스 리셋 후 test_data : \n",
      "    BUSINFOUNIT_ID\n",
      "0               3\n",
      "1               4\n"
     ]
    }
   ],
   "execution_count": 83
  },
  {
   "metadata": {},
   "cell_type": "code",
   "outputs": [],
   "execution_count": null,
   "source": "",
   "id": "a07d8791ab4d4c1"
  },
  {
   "metadata": {},
   "cell_type": "markdown",
   "source": "# 판다스 reset_index",
   "id": "3470486a47725f09"
  },
  {
   "metadata": {
    "ExecuteTime": {
     "end_time": "2024-08-27T06:40:30.415221Z",
     "start_time": "2024-08-27T06:40:30.395270Z"
    }
   },
   "cell_type": "code",
   "source": [
    "df = pd.DataFrame([[1,2],[3,4],[5,6]],['row1','row2','row3'],['col1','col2'])\n",
    "print(df)"
   ],
   "id": "96eb85ff67f2bbd",
   "outputs": [
    {
     "name": "stdout",
     "output_type": "stream",
     "text": [
      "      col1  col2\n",
      "row1     1     2\n",
      "row2     3     4\n",
      "row3     5     6\n"
     ]
    }
   ],
   "execution_count": 65
  },
  {
   "metadata": {
    "ExecuteTime": {
     "end_time": "2024-08-27T06:40:30.866987Z",
     "start_time": "2024-08-27T06:40:30.848657Z"
    }
   },
   "cell_type": "code",
   "source": "print(df.reset_index())",
   "id": "10c65458295ef5f",
   "outputs": [
    {
     "name": "stdout",
     "output_type": "stream",
     "text": [
      "  index  col1  col2\n",
      "0  row1     1     2\n",
      "1  row2     3     4\n",
      "2  row3     5     6\n"
     ]
    }
   ],
   "execution_count": 66
  },
  {
   "metadata": {
    "ExecuteTime": {
     "end_time": "2024-08-27T06:42:38.070327Z",
     "start_time": "2024-08-27T06:42:38.046295Z"
    }
   },
   "cell_type": "code",
   "source": "print(df.reset_index(drop=True))",
   "id": "90ca8f49ef7a5bb5",
   "outputs": [
    {
     "name": "stdout",
     "output_type": "stream",
     "text": [
      "   col1  col2\n",
      "0     1     2\n",
      "1     3     4\n",
      "2     5     6\n"
     ]
    }
   ],
   "execution_count": 68
  },
  {
   "metadata": {
    "ExecuteTime": {
     "end_time": "2024-08-27T06:42:40.821082Z",
     "start_time": "2024-08-27T06:42:40.801768Z"
    }
   },
   "cell_type": "code",
   "source": [
    "df.reset_index(inplace=True)\n",
    "print(df)"
   ],
   "id": "2c25d036028d8699",
   "outputs": [
    {
     "name": "stdout",
     "output_type": "stream",
     "text": [
      "  index  col1  col2\n",
      "0  row1     1     2\n",
      "1  row2     3     4\n",
      "2  row3     5     6\n"
     ]
    }
   ],
   "execution_count": 69
  },
  {
   "metadata": {
    "ExecuteTime": {
     "end_time": "2024-08-27T06:42:57.450958Z",
     "start_time": "2024-08-27T06:42:57.438525Z"
    }
   },
   "cell_type": "code",
   "source": [
    "import pandas as pd\n",
    "\n",
    "# 기본 DataFrame 생성 및 확인\n",
    "\n",
    "# 간단한 데이터프레임 생성\n",
    "data = {\n",
    "    'A': [10, 20, 30, 40],\n",
    "    'B': ['a', 'b', 'c', 'd']\n",
    "}\n",
    "\n",
    "df = pd.DataFrame(data)\n",
    "print(\"원본 데이터프레임:\")\n",
    "print(df)\n"
   ],
   "id": "71720d2d007f6226",
   "outputs": [
    {
     "name": "stdout",
     "output_type": "stream",
     "text": [
      "원본 데이터프레임:\n",
      "    A  B\n",
      "0  10  a\n",
      "1  20  b\n",
      "2  30  c\n",
      "3  40  d\n"
     ]
    }
   ],
   "execution_count": 70
  },
  {
   "metadata": {
    "ExecuteTime": {
     "end_time": "2024-08-27T06:44:05.452047Z",
     "start_time": "2024-08-27T06:44:05.440047Z"
    }
   },
   "cell_type": "code",
   "source": [
    "## 인덱스 변경 및 reset_index 사용 전/후 비교\n",
    "# \n",
    "# 인덱스를 임의로 변경\n",
    "df.index = [100, 101, 102, 103]\n",
    "print(\"\\n인덱스를 변경한 데이터프레임:\")\n",
    "print(df)\n",
    "\n",
    "# 인덱스를 재설정\n",
    "df_reset = df.reset_index()\n",
    "print(\"\\nreset_index() 적용 후:\")\n",
    "print(df_reset)\n"
   ],
   "id": "a40a8871312a4a53",
   "outputs": [
    {
     "name": "stdout",
     "output_type": "stream",
     "text": [
      "\n",
      "인덱스를 변경한 데이터프레임:\n",
      "      A  B\n",
      "100  10  a\n",
      "101  20  b\n",
      "102  30  c\n",
      "103  40  d\n",
      "\n",
      "reset_index() 적용 후:\n",
      "   index   A  B\n",
      "0    100  10  a\n",
      "1    101  20  b\n",
      "2    102  30  c\n",
      "3    103  40  d\n"
     ]
    }
   ],
   "execution_count": 71
  },
  {
   "metadata": {
    "ExecuteTime": {
     "end_time": "2024-08-27T06:44:34.690172Z",
     "start_time": "2024-08-27T06:44:34.671073Z"
    }
   },
   "cell_type": "code",
   "source": [
    "# 기존 인덱스를 삭제하고 새로운 인덱스 설정\n",
    "df_reset_drop = df.reset_index(drop=True)\n",
    "print(\"\\nreset_index(drop=True) 적용 후:\")\n",
    "print(df_reset_drop)\n"
   ],
   "id": "86c756e32998c34f",
   "outputs": [
    {
     "name": "stdout",
     "output_type": "stream",
     "text": [
      "\n",
      "reset_index(drop=True) 적용 후:\n",
      "    A  B\n",
      "0  10  a\n",
      "1  20  b\n",
      "2  30  c\n",
      "3  40  d\n"
     ]
    }
   ],
   "execution_count": 72
  },
  {
   "metadata": {},
   "cell_type": "code",
   "outputs": [],
   "execution_count": null,
   "source": "",
   "id": "13c747c00591e5d0"
  },
  {
   "metadata": {},
   "cell_type": "markdown",
   "source": "# torch.cat",
   "id": "b12dad2ae8766830"
  },
  {
   "metadata": {
    "ExecuteTime": {
     "end_time": "2024-08-27T07:22:29.907816Z",
     "start_time": "2024-08-27T07:22:29.900817Z"
    }
   },
   "cell_type": "code",
   "source": [
    "import torch\n",
    "\n",
    "batch_size, N, K = 3, 1, 2\n",
    "\n",
    "x = torch.rand(batch_size, N, K) # [M, N, K]\n",
    "y = torch.rand(batch_size, N, K) # [M, N, K]\n",
    "print(x.shape)\n",
    "print(y.shape)\n",
    "print(x)"
   ],
   "id": "37245397e432d8f8",
   "outputs": [
    {
     "name": "stdout",
     "output_type": "stream",
     "text": [
      "torch.Size([3, 1, 2])\n",
      "torch.Size([3, 1, 2])\n",
      "tensor([[[0.0622, 0.4037]],\n",
      "\n",
      "        [[0.3235, 1.0000]],\n",
      "\n",
      "        [[0.7639, 0.4057]]])\n"
     ]
    }
   ],
   "execution_count": 88
  },
  {
   "metadata": {
    "ExecuteTime": {
     "end_time": "2024-08-27T07:22:57.103413Z",
     "start_time": "2024-08-27T07:22:57.084412Z"
    }
   },
   "cell_type": "code",
   "source": [
    "\n",
    "output1 = torch.cat([x,y], dim=1) #[M, N+N, K]\n",
    "output2 = torch.cat([x,y], dim=2) #[M, N, K+K]\n",
    "print(output1.shape)\n",
    "print(output2.shape)\n",
    "print(output1)\n",
    "print(output2)\n"
   ],
   "id": "1f12329a36a53e57",
   "outputs": [
    {
     "name": "stdout",
     "output_type": "stream",
     "text": [
      "torch.Size([3, 2, 2])\n",
      "torch.Size([3, 1, 4])\n",
      "tensor([[[0.0622, 0.4037],\n",
      "         [0.4255, 0.7586]],\n",
      "\n",
      "        [[0.3235, 1.0000],\n",
      "         [0.0943, 0.2159]],\n",
      "\n",
      "        [[0.7639, 0.4057],\n",
      "         [0.5985, 0.4045]]])\n",
      "tensor([[[0.0622, 0.4037, 0.4255, 0.7586]],\n",
      "\n",
      "        [[0.3235, 1.0000, 0.0943, 0.2159]],\n",
      "\n",
      "        [[0.7639, 0.4057, 0.5985, 0.4045]]])\n"
     ]
    }
   ],
   "execution_count": 90
  },
  {
   "metadata": {},
   "cell_type": "code",
   "outputs": [],
   "execution_count": null,
   "source": "",
   "id": "783032ab452fabc3"
  },
  {
   "metadata": {},
   "cell_type": "markdown",
   "source": "# 원핫인코딩 reindex",
   "id": "753f9651a2cbfe84"
  },
  {
   "metadata": {
    "ExecuteTime": {
     "end_time": "2024-09-12T08:44:33.846799Z",
     "start_time": "2024-09-12T08:44:33.834759Z"
    }
   },
   "cell_type": "code",
   "source": [
    "import pandas as pd\n",
    "\n",
    "data_train = pd.DataFrame({\n",
    "    'DAY_TYPE': ['Monday', 'Tuesday', 'Wednesday', 'Thursday', 'Friday', 'Saturday', 'Sunday'],\n",
    "    'VALUE': [10, 20, 30, 40, 50, 60, 70]\n",
    "})\n",
    "print(data_train)"
   ],
   "id": "ce8e4861426164d9",
   "outputs": [
    {
     "name": "stdout",
     "output_type": "stream",
     "text": [
      "    DAY_TYPE  VALUE\n",
      "0     Monday     10\n",
      "1    Tuesday     20\n",
      "2  Wednesday     30\n",
      "3   Thursday     40\n",
      "4     Friday     50\n",
      "5   Saturday     60\n",
      "6     Sunday     70\n"
     ]
    }
   ],
   "execution_count": 1
  },
  {
   "metadata": {
    "ExecuteTime": {
     "end_time": "2024-08-27T10:56:01.344227Z",
     "start_time": "2024-08-27T10:56:01.325220Z"
    }
   },
   "cell_type": "code",
   "source": [
    "# 원핫 인코딩\n",
    "day_type_train = pd.get_dummies(data_train['DAY_TYPE'])\n",
    "\n",
    "print(day_type_train)\n",
    "print()\n",
    "print(day_type_train.shape)\n",
    "print(day_type_train.values)\n"
   ],
   "id": "49a75530861033b1",
   "outputs": [
    {
     "name": "stdout",
     "output_type": "stream",
     "text": [
      "   Friday  Monday  Saturday  Sunday  Thursday  Tuesday  Wednesday\n",
      "0   False    True     False   False     False    False      False\n",
      "1   False   False     False   False     False     True      False\n",
      "2   False   False     False   False     False    False       True\n",
      "3   False   False     False   False      True    False      False\n",
      "4    True   False     False   False     False    False      False\n",
      "5   False   False      True   False     False    False      False\n",
      "6   False   False     False    True     False    False      False\n",
      "\n",
      "(7, 7)\n",
      "[[False  True False False False False False]\n",
      " [False False False False False  True False]\n",
      " [False False False False False False  True]\n",
      " [False False False False  True False False]\n",
      " [ True False False False False False False]\n",
      " [False False  True False False False False]\n",
      " [False False False  True False False False]]\n"
     ]
    }
   ],
   "execution_count": 5
  },
  {
   "metadata": {
    "ExecuteTime": {
     "end_time": "2024-09-12T08:47:45.082358Z",
     "start_time": "2024-09-12T08:47:45.053209Z"
    }
   },
   "cell_type": "code",
   "source": [
    "import pandas as pd\n",
    "\n",
    "# 간단한 데이터프레임 생성\n",
    "data = pd.DataFrame({\n",
    "    'DATA_TYPE': ['PATRN', 'EVENT', 'PATRN', 'EVENT', 'PATRN']\n",
    "})\n",
    "\n",
    "# 원핫 인코딩 수행\n",
    "encoded_data = pd.get_dummies(data['DATA_TYPE'])\n",
    "\n",
    "# 인코딩된 데이터 확인\n",
    "print(\"원핫 인코딩된 데이터:\\n\", encoded_data)\n",
    "print(\"\\n컬럼 순서:\", encoded_data.columns.tolist())\n"
   ],
   "id": "c128bb98b809fc43",
   "outputs": [
    {
     "name": "stdout",
     "output_type": "stream",
     "text": [
      "원핫 인코딩된 데이터:\n",
      "    EVENT  PATRN\n",
      "0  False   True\n",
      "1   True  False\n",
      "2  False   True\n",
      "3   True  False\n",
      "4  False   True\n",
      "\n",
      "컬럼 순서: ['EVENT', 'PATRN']\n"
     ]
    }
   ],
   "execution_count": 4
  },
  {
   "metadata": {
    "ExecuteTime": {
     "end_time": "2024-08-27T10:54:22.014673Z",
     "start_time": "2024-08-27T10:54:21.999591Z"
    }
   },
   "cell_type": "code",
   "source": [
    "data_test = pd.DataFrame({\n",
    "    'DAY_TYPE': ['Monday'],  # 하루치 데이터만 포함\n",
    "    'VALUE': [15]\n",
    "})\n",
    "print(data_test)\n",
    "print()\n",
    "\n",
    "# 원핫 인코딩 (하루치 데이터만 존재)\n",
    "day_type_test = pd.get_dummies(data_test['DAY_TYPE'])\n",
    "\n",
    "print(day_type_test)\n",
    "print()\n",
    "print(day_type_test.shape)\n"
   ],
   "id": "9b329aa881f2254d",
   "outputs": [
    {
     "name": "stdout",
     "output_type": "stream",
     "text": [
      "  DAY_TYPE  VALUE\n",
      "0   Monday     15\n",
      "\n",
      "   Monday\n",
      "0    True\n",
      "\n",
      "(1, 1)\n"
     ]
    }
   ],
   "execution_count": 4
  },
  {
   "metadata": {
    "ExecuteTime": {
     "end_time": "2024-08-27T10:58:16.123497Z",
     "start_time": "2024-08-27T10:58:16.111492Z"
    }
   },
   "cell_type": "code",
   "source": [
    "all_days = [1, 2, 3, 4, 5, 6, 7]\n",
    "day_type_test_reindexed = day_type_test.reindex(columns=all_days, fill_value=0)\n",
    "\n",
    "print(day_type_test_reindexed)\n",
    "print(day_type_test_reindexed.values)\n"
   ],
   "id": "eec05092eb00594c",
   "outputs": [
    {
     "name": "stdout",
     "output_type": "stream",
     "text": [
      "   Sunday  Monday  Tuesday  Wednesday  Thursday  Friday  Saturday\n",
      "0       0    True        0          0         0       0         0\n",
      "[[0 True 0 0 0 0 0]]\n"
     ]
    }
   ],
   "execution_count": 6
  },
  {
   "metadata": {},
   "cell_type": "code",
   "outputs": [],
   "execution_count": null,
   "source": "",
   "id": "d1392ef184926d11"
  },
  {
   "metadata": {},
   "cell_type": "markdown",
   "source": "# 해시 인코딩",
   "id": "aed2c498960d6301"
  },
  {
   "metadata": {
    "ExecuteTime": {
     "end_time": "2024-08-30T05:35:28.039055Z",
     "start_time": "2024-08-30T05:35:28.028055Z"
    }
   },
   "cell_type": "code",
   "source": [
    "import numpy as np\n",
    "import pandas as pd\n",
    "from sklearn.feature_extraction.text import HashingVectorizer\n",
    "import matplotlib.pyplot as plt\n",
    "\n",
    "# 샘플 데이터 생성\n",
    "data = [\n",
    "    \"I love machine learning\",\n",
    "    \"I enjoy programming\",\n",
    "    \"Data science is interesting\",\n",
    "    \"Python is a great language\",\n",
    "    \"Neural networks are powerful\"\n",
    "]\n"
   ],
   "id": "6824167774aca3d6",
   "outputs": [],
   "execution_count": 4
  },
  {
   "metadata": {
    "ExecuteTime": {
     "end_time": "2024-08-30T05:35:28.371768Z",
     "start_time": "2024-08-30T05:35:28.348767Z"
    }
   },
   "cell_type": "code",
   "source": [
    "# HashingVectorizer 초기화 (4개의 피처로 해싱)\n",
    "n_features = 4\n",
    "vectorizer = HashingVectorizer(n_features=n_features, alternate_sign=False)\n",
    "\n",
    "# 텍스트를 해시 인코딩\n",
    "hashed_data = vectorizer.transform(data)\n",
    "\n",
    "# 결과 출력\n",
    "print(\"\\n해시 인코딩 결과:\")\n",
    "print(hashed_data.toarray())\n"
   ],
   "id": "a1767ac6008dc98b",
   "outputs": [
    {
     "name": "stdout",
     "output_type": "stream",
     "text": [
      "\n",
      "해시 인코딩 결과:\n",
      "[[0.57735027 0.57735027 0.57735027 0.        ]\n",
      " [0.         0.70710678 0.70710678 0.        ]\n",
      " [0.         0.9486833  0.         0.31622777]\n",
      " [0.40824829 0.81649658 0.40824829 0.        ]\n",
      " [0.40824829 0.81649658 0.         0.40824829]]\n"
     ]
    }
   ],
   "execution_count": 5
  },
  {
   "metadata": {
    "ExecuteTime": {
     "end_time": "2024-08-30T05:35:29.836463Z",
     "start_time": "2024-08-30T05:35:29.139739Z"
    }
   },
   "cell_type": "code",
   "source": [
    "# 결과 시각화\n",
    "plt.figure(figsize=(10, 5))\n",
    "plt.imshow(hashed_data.toarray(), cmap='Blues', aspect='auto')\n",
    "plt.title('Hash Encoding Visualization')\n",
    "plt.xlabel('Feature Index')\n",
    "plt.ylabel('Sample Index')\n",
    "plt.colorbar(label='Feature Value')\n",
    "plt.show()\n"
   ],
   "id": "c331b347f3e69b4e",
   "outputs": [
    {
     "data": {
      "text/plain": [
       "<Figure size 1000x500 with 2 Axes>"
      ],
      "image/png": "[encoded data removed]"
     },
     "metadata": {},
     "output_type": "display_data"
    }
   ],
   "execution_count": 6
  },
  {
   "metadata": {
    "ExecuteTime": {
     "end_time": "2024-08-30T05:35:30.959437Z",
     "start_time": "2024-08-30T05:35:30.646872Z"
    }
   },
   "cell_type": "code",
   "source": [
    "# 더 많은 샘플 데이터 생성\n",
    "more_data = [\n",
    "    \"Machine learning is fascinating\",\n",
    "    \"I love data science\",\n",
    "    \"Programming is fun\",\n",
    "    \"Artificial intelligence is the future\",\n",
    "    \"Big data analytics is important\",\n",
    "    \"Deep learning models are complex\",\n",
    "    \"Statistical analysis helps in decision making\",\n",
    "    \"Data visualization is crucial\",\n",
    "    \"Feature engineering improves model performance\",\n",
    "    \"Ensemble methods combine multiple models\"\n",
    "]\n",
    "\n",
    "# 기존 데이터와 합치기\n",
    "all_data = data + more_data\n",
    "\n",
    "# 해시 인코딩\n",
    "hashed_all_data = vectorizer.transform(all_data)\n",
    "\n",
    "# 결과 시각화\n",
    "plt.figure(figsize=(12, 6))\n",
    "plt.imshow(hashed_all_data.toarray(), cmap='Blues', aspect='auto')\n",
    "plt.title('Hash Encoding Visualization (More Data)')\n",
    "plt.xlabel('Feature Index')\n",
    "plt.ylabel('Sample Index')\n",
    "plt.colorbar(label='Feature Value')\n",
    "plt.show()\n"
   ],
   "id": "a4634f955d80c154",
   "outputs": [
    {
     "data": {
      "text/plain": [
       "<Figure size 1200x600 with 2 Axes>"
      ],
      "image/png": "[encoded data removed]"
     },
     "metadata": {},
     "output_type": "display_data"
    }
   ],
   "execution_count": 7
  },
  {
   "metadata": {
    "ExecuteTime": {
     "end_time": "2024-08-30T05:35:32.031317Z",
     "start_time": "2024-08-30T05:35:32.017312Z"
    }
   },
   "cell_type": "code",
   "source": [
    "# 해시 충돌 확인\n",
    "collision_count = np.sum(hashed_all_data.toarray() > 0, axis=0)\n",
    "\n",
    "print(\"\\n각 피처 인덱스별 사용 횟수 (충돌 횟수):\")\n",
    "for i, count in enumerate(collision_count):\n",
    "    print(f\"피처 {i}: {count}번 사용됨\")\n",
    "\n",
    "print(f\"\\n총 샘플 수: {len(all_data)}\")\n",
    "print(f\"피처 수: {n_features}\")\n",
    "print(f\"평균 충돌 횟수: {np.mean(collision_count):.2f}\")\n"
   ],
   "id": "441dea06bf10b80d",
   "outputs": [
    {
     "name": "stdout",
     "output_type": "stream",
     "text": [
      "\n",
      "각 피처 인덱스별 사용 횟수 (충돌 횟수):\n",
      "피처 0: 10번 사용됨\n",
      "피처 1: 13번 사용됨\n",
      "피처 2: 8번 사용됨\n",
      "피처 3: 8번 사용됨\n",
      "\n",
      "총 샘플 수: 15\n",
      "피처 수: 4\n",
      "평균 충돌 횟수: 9.75\n"
     ]
    }
   ],
   "execution_count": 8
  },
  {
   "metadata": {},
   "cell_type": "code",
   "outputs": [],
   "execution_count": null,
   "source": "",
   "id": "324d806b1a7eb649"
  },
  {
   "metadata": {},
   "cell_type": "markdown",
   "source": "# 데이터로더",
   "id": "7e6c8f97dfe676d5"
  },
  {
   "metadata": {
    "ExecuteTime": {
     "end_time": "2024-08-30T05:26:22.523758Z",
     "start_time": "2024-08-30T05:26:21.164495Z"
    }
   },
   "cell_type": "code",
   "source": [
    "import torch\n",
    "from torch.utils.data import Dataset, DataLoader\n",
    "\n",
    "# 간단한 데이터셋 클래스 정의\n",
    "class SimpleDataset(Dataset):\n",
    "    def __init__(self, data):\n",
    "        self.data = data\n",
    "    \n",
    "    def __len__(self):\n",
    "        return len(self.data)\n",
    "    \n",
    "    def __getitem__(self, idx):\n",
    "        return self.data[idx]\n",
    "\n",
    "# 샘플 데이터 생성\n",
    "data = [i for i in range(100)]\n",
    "\n",
    "# 데이터셋 인스턴스 생성\n",
    "dataset = SimpleDataset(data)\n",
    "\n",
    "# DataLoader 생성\n",
    "batch_size = 10\n",
    "dataloader = DataLoader(dataset, batch_size=batch_size, shuffle=True)\n",
    "\n",
    "# DataLoader 사용\n",
    "for batch in dataloader:\n",
    "    print(f\"Batch: {batch}\")\n",
    "    "
   ],
   "id": "85d29eb5c5fec747",
   "outputs": [
    {
     "name": "stdout",
     "output_type": "stream",
     "text": [
      "Batch: tensor([44, 25, 84, 11, 99, 51, 32, 76, 81, 41])\n",
      "Batch: tensor([ 2, 50, 72, 66,  3, 21,  9, 92, 37, 20])\n",
      "Batch: tensor([55, 74, 79, 40, 83, 16, 52, 85, 60, 69])\n",
      "Batch: tensor([22,  1,  5, 61, 12, 35, 94,  4, 80, 86])\n",
      "Batch: tensor([19, 27, 49, 39, 14, 17, 65, 30, 90, 97])\n",
      "Batch: tensor([64, 29, 57, 89, 82, 67, 18, 36, 42, 47])\n",
      "Batch: tensor([53, 10, 31, 91, 54, 77, 28,  8, 71, 13])\n",
      "Batch: tensor([ 6, 59, 34, 95, 62, 87, 23, 93,  0, 45])\n",
      "Batch: tensor([63, 46, 48, 88, 73, 38, 56, 96, 78, 98])\n",
      "Batch: tensor([68, 75, 43, 24,  7, 58, 15, 26, 70, 33])\n"
     ]
    }
   ],
   "execution_count": 1
  },
  {
   "metadata": {},
   "cell_type": "code",
   "outputs": [],
   "execution_count": null,
   "source": "",
   "id": "945b3beae2312783"
  },
  {
   "metadata": {},
   "cell_type": "markdown",
   "source": "# 0인 컬럼 제거",
   "id": "3e10ca46c98fad33"
  },
  {
   "metadata": {
    "ExecuteTime": {
     "end_time": "2024-08-30T07:55:12.261567Z",
     "start_time": "2024-08-30T07:55:12.237568Z"
    }
   },
   "cell_type": "code",
   "source": [
    "import pandas as pd\n",
    "import numpy as np\n",
    "\n",
    "# 샘플 데이터 생성\n",
    "data = {\n",
    "    'A': [1, 0, 3, 4, 5, 0],\n",
    "    'B': [10, 20, 0, 40, 50, 60],\n",
    "    'C': [100, 200, 300, 0, 500, 600]\n",
    "}\n",
    "\n",
    "df = pd.DataFrame(data)\n",
    "\n",
    "print(\"원본 데이터:\")\n",
    "print(df)\n",
    "\n",
    "# 0값이 있는 행 제거\n",
    "filtered_df = df.loc[(df != 0).all(axis=1)]\n",
    "\n",
    "print(\"\\n0값이 있는 행 제거 후:\")\n",
    "print(filtered_df)\n",
    "\n",
    "# 인덱스 리셋\n",
    "filtered_df = filtered_df.reset_index(drop=True)\n",
    "print(\"\\n인덱스 리셋 후:\")\n",
    "print(filtered_df)\n",
    "\n",
    "# 결과 확인\n",
    "print(\"\\n제거된 행 수:\", len(filtered_df))\n"
   ],
   "id": "6510cb6d38896093",
   "outputs": [
    {
     "name": "stdout",
     "output_type": "stream",
     "text": [
      "원본 데이터:\n",
      "   A   B    C\n",
      "0  1  10  100\n",
      "1  0  20  200\n",
      "2  3   0  300\n",
      "3  4  40    0\n",
      "4  5  50  500\n",
      "5  0  60  600\n",
      "\n",
      "0값이 있는 행 제거 후:\n",
      "   A   B    C\n",
      "0  1  10  100\n",
      "4  5  50  500\n",
      "\n",
      "인덱스 리셋 후:\n",
      "   A   B    C\n",
      "0  1  10  100\n",
      "1  5  50  500\n",
      "\n",
      "제거된 행 수: 2\n"
     ]
    }
   ],
   "execution_count": 13
  },
  {
   "metadata": {},
   "cell_type": "code",
   "outputs": [],
   "execution_count": null,
   "source": "",
   "id": "ed7ef27242130c83"
  },
  {
   "metadata": {},
   "cell_type": "markdown",
   "source": "# 이상치, 박스플롯, IQR 개념",
   "id": "ddc426586a47236c"
  },
  {
   "metadata": {
    "ExecuteTime": {
     "end_time": "2024-09-02T02:52:33.626651Z",
     "start_time": "2024-09-02T02:52:32.372378Z"
    }
   },
   "cell_type": "code",
   "source": [
    "import numpy as np\n",
    "import pandas as pd\n",
    "import matplotlib.pyplot as plt\n",
    "\n",
    "# 1. 예제 데이터 생성\n",
    "# 정상적인 분포를 가지는 데이터와 몇 개의 이상치를 포함한 데이터 생성\n",
    "np.random.seed(42)\n",
    "normal_data = np.random.normal(loc=50, scale=10, size=100) # 평균 50, 표준편차 10 정규분포 \n",
    "outliers = np.array([100, 110, 120])\n",
    "data = np.concatenate([normal_data, outliers])\n",
    "\n",
    "# 2. 데이터프레임 생성\n",
    "df = pd.DataFrame(data, columns=['Value'])\n",
    "\n",
    "# 3. 박스플롯 그리기\n",
    "plt.figure(figsize=(8, 6))\n",
    "plt.boxplot(df['Value'])\n",
    "plt.title('Boxplot with Outliers')\n",
    "plt.ylabel('Value')\n",
    "plt.show()\n",
    "\n",
    "# 4. IQR 계산 및 이상치 탐지\n",
    "Q1 = df['Value'].quantile(0.25)\n",
    "Q3 = df['Value'].quantile(0.75)\n",
    "IQR = Q3 - Q1\n",
    "lower_bound = Q1 - 1.5 * IQR\n",
    "upper_bound = Q3 + 1.5 * IQR\n",
    "\n",
    "# 상하위 이상치 개수 계산\n",
    "lower_outliers = df[df['Value'] < lower_bound]\n",
    "upper_outliers = df[df['Value'] > upper_bound]\n",
    "\n",
    "print(\"\\n이상치 데이터:\")\n",
    "# 이상치 탐지\n",
    "outliers = df[(df['Value'] < lower_bound) | (df['Value'] > upper_bound)]\n",
    "print(outliers)\n",
    "print(f\"이상치 개수: {len(outliers)}\")\n",
    "\n",
    "print(f\"상하위 이상치 기준점:\")\n",
    "print(f\" - Lower Bound (하위 이상치 기준점): {lower_bound:.2f}\")\n",
    "print(f\" - Upper Bound (상위 이상치 기준점): {upper_bound:.2f}\")\n",
    "\n",
    "print(f\"\\n이상치 개수:\")\n",
    "print(f\" - 상위 이상치 개수 (Upper Outliers): {len(upper_outliers)}\")\n",
    "print(f\" - 하위 이상치 개수 (Lower Outliers): {len(lower_outliers)}\")\n",
    "\n",
    "print(\"\\n상위 이상치 데이터 (상위 5개):\")\n",
    "print(upper_outliers.sort_values('Value', ascending=False).head())\n",
    "\n",
    "print(\"\\n하위 이상치 데이터 (상위 5개):\")\n",
    "print(lower_outliers.sort_values('Value', ascending=True).head())\n",
    "\n",
    "# 5. IQR과 이상치 범위 시각화\n",
    "plt.figure(figsize=(8, 6))\n",
    "plt.hist(df['Value'], bins=20, color='lightblue', edgecolor='black')\n",
    "plt.axvline(lower_bound, color='red', linestyle='dashed', linewidth=2, label=f'Lower Bound ({lower_bound:.2f})')\n",
    "plt.axvline(upper_bound, color='red', linestyle='dashed', linewidth=2, label=f'Upper Bound ({upper_bound:.2f})')\n",
    "plt.title('Histogram with IQR Outlier Boundaries')\n",
    "plt.xlabel('Value')\n",
    "plt.ylabel('Frequency')\n",
    "plt.legend()\n",
    "plt.show()\n"
   ],
   "id": "24a2157729a4333d",
   "outputs": [
    {
     "data": {
      "text/plain": [
       "<Figure size 800x600 with 1 Axes>"
      ],
      "image/png": "[encoded data removed]"
     },
     "metadata": {},
     "output_type": "display_data"
    },
    {
     "name": "stdout",
     "output_type": "stream",
     "text": [
      "\n",
      "이상치 데이터:\n",
      "          Value\n",
      "74    23.802549\n",
      "100  100.000000\n",
      "101  110.000000\n",
      "102  120.000000\n",
      "이상치 개수: 4\n",
      "상하위 이상치 기준점:\n",
      " - Lower Bound (하위 이상치 기준점): 27.54\n",
      " - Upper Bound (상위 이상치 기준점): 71.92\n",
      "\n",
      "이상치 개수:\n",
      " - 상위 이상치 개수 (Upper Outliers): 3\n",
      " - 하위 이상치 개수 (Lower Outliers): 1\n",
      "\n",
      "상위 이상치 데이터 (상위 5개):\n",
      "     Value\n",
      "102  120.0\n",
      "101  110.0\n",
      "100  100.0\n",
      "\n",
      "하위 이상치 데이터 (상위 5개):\n",
      "        Value\n",
      "74  23.802549\n"
     ]
    },
    {
     "data": {
      "text/plain": [
       "<Figure size 800x600 with 1 Axes>"
      ],
      "image/png": "[encoded data removed]"
     },
     "metadata": {},
     "output_type": "display_data"
    }
   ],
   "execution_count": 2
  },
  {
   "metadata": {},
   "cell_type": "code",
   "outputs": [],
   "execution_count": null,
   "source": "",
   "id": "91cd688635f7dc41"
  },
  {
   "metadata": {},
   "cell_type": "code",
   "outputs": [],
   "execution_count": null,
   "source": "",
   "id": "1dd45b5256c8f287"
  },
  {
   "metadata": {},
   "cell_type": "markdown",
   "source": "# 층화추출",
   "id": "9507fa688bd1cf5"
  },
  {
   "metadata": {
    "ExecuteTime": {
     "end_time": "2024-09-02T08:20:20.937563Z",
     "start_time": "2024-09-02T08:20:20.916670Z"
    }
   },
   "cell_type": "code",
   "source": [
    "import pandas as pd\n",
    "import numpy as np\n",
    "from tqdm import tqdm\n",
    "\n",
    "# 예제 데이터 생성\n",
    "data = {\n",
    "    '성별': ['남', '여', '남', '여', '남', '여', '남', '여', '남', '여'],\n",
    "    '나이': [20, 25, 30, 22, 28, 35, 27, 23, 32, 29],\n",
    "    '점수': [80, 90, 70, 95, 85, 92, 75, 88, 93, 82]\n",
    "}\n",
    "df = pd.DataFrame(data)\n",
    "print(df)"
   ],
   "id": "7f4ea162f738513e",
   "outputs": [
    {
     "name": "stdout",
     "output_type": "stream",
     "text": [
      "  성별  나이  점수\n",
      "0  남  20  80\n",
      "1  여  25  90\n",
      "2  남  30  70\n",
      "3  여  22  95\n",
      "4  남  28  85\n",
      "5  여  35  92\n",
      "6  남  27  75\n",
      "7  여  23  88\n",
      "8  남  32  93\n",
      "9  여  29  82\n"
     ]
    }
   ],
   "execution_count": 42
  },
  {
   "metadata": {
    "ExecuteTime": {
     "end_time": "2024-09-02T08:21:55.486888Z",
     "start_time": "2024-09-02T08:21:55.472582Z"
    }
   },
   "cell_type": "code",
   "source": [
    "\n",
    "# 층화 기준 컬럼\n",
    "stratify_cols = ['성별'] \n",
    "\n",
    "# 훈련, 검증, 테스트셋 비율\n",
    "train_ratio = 0.7\n",
    "val_ratio = 0.15\n",
    "\n",
    "# 데이터프레임 복사 (원본 데이터 보존)\n",
    "df_split = df.copy()\n",
    "df_split['dataset'] = ''\n",
    "\n",
    "# 층화 기준 컬럼의 고유한 조합 추출\n",
    "unique_combinations = df_split[stratify_cols].drop_duplicates()\n",
    "print(\"고유 조합 : \")\n",
    "print(unique_combinations)"
   ],
   "id": "7b4cb434a29b9a8e",
   "outputs": [
    {
     "name": "stdout",
     "output_type": "stream",
     "text": [
      "고유 조합 : \n",
      "  성별\n",
      "0  남\n",
      "1  여\n"
     ]
    }
   ],
   "execution_count": 46
  },
  {
   "metadata": {
    "ExecuteTime": {
     "end_time": "2024-09-02T08:21:59.748966Z",
     "start_time": "2024-09-02T08:21:59.680345Z"
    }
   },
   "cell_type": "code",
   "source": [
    "# 각 조합별로 반복\n",
    "for _, combination in tqdm(unique_combinations.iterrows(), total=len(unique_combinations)):\n",
    "    print(f\"\\n현재 조합: {combination.values}\")  # 현재 처리 중인 조합 출력\n",
    "\n",
    "    # 현재 조합에 해당하는 데이터 추출\n",
    "    group = df_split[(df_split[stratify_cols] == combination.values).all(axis=1)]\n",
    "    print(f\"추출된 데이터:\\n{group}\")  # 추출된 데이터 출력\n",
    "\n",
    "    # 데이터 개수 계산\n",
    "    n = len(group)\n",
    "    train_n = int(n * train_ratio)\n",
    "    val_n = int(n * val_ratio)\n",
    "    print(f\"전체 데이터 개수: {n}, 훈련셋: {train_n}, 검증셋: {val_n}\")\n",
    "\n",
    "    # 데이터 섞기\n",
    "    shuffled = group.sample(frac=1, random_state=42)\n",
    "    print(f\"섞인 데이터:\\n{shuffled}\")  # 섞인 데이터 출력\n",
    "    # 데이터셋 분할 및 dataset 컬럼 할당\n",
    "    df_split.loc[shuffled.index[:train_n], 'dataset'] = 'train'\n",
    "    df_split.loc[shuffled.index[train_n:train_n + val_n], 'dataset'] = 'val'\n",
    "    df_split.loc[shuffled.index[train_n + val_n:], 'dataset'] = 'test'\n",
    "    print(f\"dataset 컬럼 할당 후 데이터:\\n{df_split[df_split[stratify_cols] == combination.values].all(axis=1)}\")  # dataset 컬럼 할당 후 데이터 출력"
   ],
   "id": "23a62f658ee7b46c",
   "outputs": [
    {
     "name": "stderr",
     "output_type": "stream",
     "text": [
      "100%|██████████| 2/2 [00:00<00:00, 49.50it/s]"
     ]
    },
    {
     "name": "stdout",
     "output_type": "stream",
     "text": [
      "\n",
      "현재 조합: ['남']\n",
      "추출된 데이터:\n",
      "  성별  나이  점수 dataset\n",
      "0  남  20  80        \n",
      "2  남  30  70        \n",
      "4  남  28  85        \n",
      "6  남  27  75        \n",
      "8  남  32  93        \n",
      "전체 데이터 개수: 5, 훈련셋: 3, 검증셋: 0\n",
      "섞인 데이터:\n",
      "  성별  나이  점수 dataset\n",
      "2  남  30  70        \n",
      "8  남  32  93        \n",
      "4  남  28  85        \n",
      "0  남  20  80        \n",
      "6  남  27  75        \n",
      "dataset 컬럼 할당 후 데이터:\n",
      "0    True\n",
      "1    True\n",
      "2    True\n",
      "3    True\n",
      "4    True\n",
      "5    True\n",
      "6    True\n",
      "7    True\n",
      "8    True\n",
      "9    True\n",
      "dtype: bool\n",
      "\n",
      "현재 조합: ['여']\n",
      "추출된 데이터:\n",
      "  성별  나이  점수 dataset\n",
      "1  여  25  90        \n",
      "3  여  22  95        \n",
      "5  여  35  92        \n",
      "7  여  23  88        \n",
      "9  여  29  82        \n",
      "전체 데이터 개수: 5, 훈련셋: 3, 검증셋: 0\n",
      "섞인 데이터:\n",
      "  성별  나이  점수 dataset\n",
      "3  여  22  95        \n",
      "9  여  29  82        \n",
      "5  여  35  92        \n",
      "1  여  25  90        \n",
      "7  여  23  88        \n",
      "dataset 컬럼 할당 후 데이터:\n",
      "0    True\n",
      "1    True\n",
      "2    True\n",
      "3    True\n",
      "4    True\n",
      "5    True\n",
      "6    True\n",
      "7    True\n",
      "8    True\n",
      "9    True\n",
      "dtype: bool\n"
     ]
    },
    {
     "name": "stderr",
     "output_type": "stream",
     "text": [
      "\n"
     ]
    }
   ],
   "execution_count": 47
  },
  {
   "metadata": {
    "ExecuteTime": {
     "end_time": "2024-09-02T08:22:02.131905Z",
     "start_time": "2024-09-02T08:22:02.107905Z"
    }
   },
   "cell_type": "code",
   "source": [
    "# 최종 결과 출력\n",
    "print(\"\\n최종 결과:\\n\", df_split)"
   ],
   "id": "60f8074d1ee5495f",
   "outputs": [
    {
     "name": "stdout",
     "output_type": "stream",
     "text": [
      "\n",
      "최종 결과:\n",
      "   성별  나이  점수 dataset\n",
      "0  남  20  80    test\n",
      "1  여  25  90    test\n",
      "2  남  30  70   train\n",
      "3  여  22  95   train\n",
      "4  남  28  85   train\n",
      "5  여  35  92   train\n",
      "6  남  27  75    test\n",
      "7  여  23  88    test\n",
      "8  남  32  93   train\n",
      "9  여  29  82   train\n"
     ]
    }
   ],
   "execution_count": 48
  },
  {
   "metadata": {
    "ExecuteTime": {
     "end_time": "2024-09-02T08:22:02.959236Z",
     "start_time": "2024-09-02T08:22:02.946230Z"
    }
   },
   "cell_type": "code",
   "source": [
    "\n",
    "# 데이터셋 분할 비율 확인\n",
    "print(\"\\n데이터셋 분할 비율:\")\n",
    "print(df_split['dataset'].value_counts(normalize=True))"
   ],
   "id": "42e0a9c45874ea87",
   "outputs": [
    {
     "name": "stdout",
     "output_type": "stream",
     "text": [
      "\n",
      "데이터셋 분할 비율:\n",
      "dataset\n",
      "train    0.6\n",
      "test     0.4\n",
      "Name: proportion, dtype: float64\n"
     ]
    }
   ],
   "execution_count": 49
  },
  {
   "metadata": {},
   "cell_type": "markdown",
   "source": "# 층화추출 심화 예제",
   "id": "9c152c4e7982abcf"
  },
  {
   "metadata": {
    "ExecuteTime": {
     "end_time": "2024-09-02T08:58:22.975746Z",
     "start_time": "2024-09-02T08:58:22.931119Z"
    }
   },
   "cell_type": "code",
   "source": [
    "import pandas as pd\n",
    "import numpy as np\n",
    "from tqdm import tqdm\n",
    "\n",
    "# 더 다양한 데이터 생성\n",
    "np.random.seed(42)  # 랜덤 결과 재현 가능하도록 설정\n",
    "n_samples = 100\n",
    "\n",
    "data = {\n",
    "    '성별': np.random.choice(['남', '여'], size=n_samples),\n",
    "    '나이대': np.random.choice(['20대', '30대', '40대', '50대'], size=n_samples),\n",
    "    '지역': np.random.choice(['서울', '경기', '부산', '인천'], size=n_samples),\n",
    "    '점수': np.random.randint(50, 100, size=n_samples)\n",
    "}\n",
    "df = pd.DataFrame(data)\n",
    "print(df)"
   ],
   "id": "c45bbb4f1ebb11ff",
   "outputs": [
    {
     "name": "stdout",
     "output_type": "stream",
     "text": [
      "   성별  나이대  지역  점수\n",
      "0   남  40대  부산  82\n",
      "1   여  30대  인천  50\n",
      "2   남  30대  부산  68\n",
      "3   남  50대  서울  51\n",
      "4   남  30대  인천  93\n",
      ".. ..  ...  ..  ..\n",
      "95  여  30대  인천  85\n",
      "96  여  30대  경기  82\n",
      "97  여  50대  부산  53\n",
      "98  여  20대  서울  82\n",
      "99  남  40대  인천  63\n",
      "\n",
      "[100 rows x 4 columns]\n"
     ]
    }
   ],
   "execution_count": 1
  },
  {
   "metadata": {
    "ExecuteTime": {
     "end_time": "2024-09-02T08:59:18.091736Z",
     "start_time": "2024-09-02T08:59:17.968734Z"
    }
   },
   "cell_type": "code",
   "source": [
    "\n",
    "# 층화 기준 컬럼 3개\n",
    "stratify_cols = ['성별', '나이대', '지역']\n",
    "\n",
    "# 훈련, 검증, 테스트셋 비율\n",
    "train_ratio = 0.7\n",
    "val_ratio = 0.15\n",
    "\n",
    "# 데이터프레임 복사 (원본 데이터 보존)\n",
    "df_split = df.copy()\n",
    "df_split['dataset'] = ''\n",
    "\n",
    "# 층화 기준 컬럼의 고유한 조합 추출\n",
    "unique_combinations = df_split[stratify_cols].drop_duplicates()\n",
    "\n",
    "# 각 조합별로 반복\n",
    "for _, combination in tqdm(unique_combinations.iterrows(), total=len(unique_combinations)):\n",
    "    # 현재 조합에 해당하는 데이터 추출\n",
    "    group = df_split[(df_split[stratify_cols] == combination.values).all(axis=1)]\n",
    "    print(f\"추출된 데이터:\\n{group}\")  # 추출된 데이터 출력\n",
    "\n",
    "    # 데이터 개수 계산\n",
    "    n = len(group)\n",
    "    train_n = int(n * train_ratio)\n",
    "    val_n = int(n * val_ratio)\n",
    "    print(f\"전체 데이터 개수: {n}, 훈련셋: {train_n}, 검증셋: {val_n}\")\n",
    "\n",
    "    # 데이터 섞기\n",
    "    shuffled = group.sample(frac=1, random_state=42)\n",
    "    print(f\"섞인 데이터:\\n{shuffled}\")  # 섞인 데이터 출력\n",
    "    \n",
    "    # 데이터셋 분할 및 dataset 컬럼 할당\n",
    "    df_split.loc[shuffled.index[:train_n], 'dataset'] = 'train'\n",
    "    df_split.loc[shuffled.index[train_n:train_n + val_n], 'dataset'] = 'val'\n",
    "    df_split.loc[shuffled.index[train_n + val_n:], 'dataset'] = 'test'\n",
    "\n",
    "# 최종 결과 출력\n",
    "print(\"\\n최종 결과:\\n\", df_split)\n",
    "\n",
    "# 데이터셋 분할 비율 확인\n",
    "print(\"\\n데이터셋 분할 비율:\")\n",
    "print(df_split['dataset'].value_counts(normalize=True))\n",
    "\n",
    "# 각 그룹별 데이터셋 분할 비율 확인 (예시: '성별' 그룹)\n",
    "print(\"\\n각 그룹별 데이터셋 분할 비율 (성별):\")\n",
    "for gender in df['성별'].unique():\n",
    "    print(f\"\\n성별: {gender}\")\n",
    "    print(df_split[df_split['성별'] == gender]['dataset'].value_counts(normalize=True))"
   ],
   "id": "17fde074a3538785",
   "outputs": [
    {
     "name": "stderr",
     "output_type": "stream",
     "text": [
      "100%|██████████| 30/30 [00:00<00:00, 288.42it/s]"
     ]
    },
    {
     "name": "stdout",
     "output_type": "stream",
     "text": [
      "추출된 데이터:\n",
      "   성별  나이대  지역  점수 dataset\n",
      "0   남  40대  부산  82        \n",
      "11  남  40대  부산  66        \n",
      "38  남  40대  부산  89        \n",
      "전체 데이터 개수: 3, 훈련셋: 2, 검증셋: 0\n",
      "섞인 데이터:\n",
      "   성별  나이대  지역  점수 dataset\n",
      "0   남  40대  부산  82        \n",
      "11  남  40대  부산  66        \n",
      "38  남  40대  부산  89        \n",
      "추출된 데이터:\n",
      "   성별  나이대  지역  점수 dataset\n",
      "1   여  30대  인천  50        \n",
      "75  여  30대  인천  60        \n",
      "89  여  30대  인천  95        \n",
      "95  여  30대  인천  85        \n",
      "전체 데이터 개수: 4, 훈련셋: 2, 검증셋: 0\n",
      "섞인 데이터:\n",
      "   성별  나이대  지역  점수 dataset\n",
      "75  여  30대  인천  60        \n",
      "95  여  30대  인천  85        \n",
      "1   여  30대  인천  50        \n",
      "89  여  30대  인천  95        \n",
      "추출된 데이터:\n",
      "   성별  나이대  지역  점수 dataset\n",
      "2   남  30대  부산  68        \n",
      "13  남  30대  부산  73        \n",
      "64  남  30대  부산  58        \n",
      "전체 데이터 개수: 3, 훈련셋: 2, 검증셋: 0\n",
      "섞인 데이터:\n",
      "   성별  나이대  지역  점수 dataset\n",
      "2   남  30대  부산  68        \n",
      "13  남  30대  부산  73        \n",
      "64  남  30대  부산  58        \n",
      "추출된 데이터:\n",
      "   성별  나이대  지역  점수 dataset\n",
      "3   남  50대  서울  51        \n",
      "12  남  50대  서울  87        \n",
      "15  남  50대  서울  83        \n",
      "62  남  50대  서울  86        \n",
      "63  남  50대  서울  81        \n",
      "74  남  50대  서울  73        \n",
      "전체 데이터 개수: 6, 훈련셋: 4, 검증셋: 0\n",
      "섞인 데이터:\n",
      "   성별  나이대  지역  점수 dataset\n",
      "3   남  50대  서울  51        \n",
      "12  남  50대  서울  87        \n",
      "74  남  50대  서울  73        \n",
      "15  남  50대  서울  83        \n",
      "63  남  50대  서울  81        \n",
      "62  남  50대  서울  86        \n",
      "추출된 데이터:\n",
      "  성별  나이대  지역  점수 dataset\n",
      "4  남  30대  인천  93        \n",
      "6  남  30대  인천  81        \n",
      "전체 데이터 개수: 2, 훈련셋: 1, 검증셋: 0\n",
      "섞인 데이터:\n",
      "  성별  나이대  지역  점수 dataset\n",
      "6  남  30대  인천  81        \n",
      "4  남  30대  인천  93        \n",
      "추출된 데이터:\n",
      "   성별  나이대  지역  점수 dataset\n",
      "5   여  30대  서울  75        \n",
      "17  여  30대  서울  71        \n",
      "26  여  30대  서울  52        \n",
      "86  여  30대  서울  74        \n",
      "전체 데이터 개수: 4, 훈련셋: 2, 검증셋: 0\n",
      "섞인 데이터:\n",
      "   성별  나이대  지역  점수 dataset\n",
      "17  여  30대  서울  71        \n",
      "86  여  30대  서울  74        \n",
      "5   여  30대  서울  75        \n",
      "26  여  30대  서울  52        \n",
      "추출된 데이터:\n",
      "  성별  나이대  지역  점수 dataset\n",
      "7  남  50대  인천  55        \n",
      "전체 데이터 개수: 1, 훈련셋: 0, 검증셋: 0\n",
      "섞인 데이터:\n",
      "  성별  나이대  지역  점수 dataset\n",
      "7  남  50대  인천  55        \n",
      "추출된 데이터:\n",
      "   성별  나이대  지역  점수 dataset\n",
      "8   남  30대  경기  81        \n",
      "57  남  30대  경기  51        \n",
      "82  남  30대  경기  84        \n",
      "전체 데이터 개수: 3, 훈련셋: 2, 검증셋: 0\n",
      "섞인 데이터:\n",
      "   성별  나이대  지역  점수 dataset\n",
      "8   남  30대  경기  81        \n",
      "57  남  30대  경기  51        \n",
      "82  남  30대  경기  84        \n",
      "추출된 데이터:\n",
      "   성별  나이대  지역  점수 dataset\n",
      "9   여  40대  서울  53        \n",
      "46  여  40대  서울  99        \n",
      "51  여  40대  서울  84        \n",
      "53  여  40대  서울  65        \n",
      "76  여  40대  서울  98        \n",
      "88  여  40대  서울  67        \n",
      "90  여  40대  서울  67        \n",
      "전체 데이터 개수: 7, 훈련셋: 4, 검증셋: 1\n",
      "섞인 데이터:\n",
      "   성별  나이대  지역  점수 dataset\n",
      "9   여  40대  서울  53        \n",
      "46  여  40대  서울  99        \n",
      "88  여  40대  서울  67        \n",
      "51  여  40대  서울  84        \n",
      "76  여  40대  서울  98        \n",
      "53  여  40대  서울  65        \n",
      "90  여  40대  서울  67        \n",
      "추출된 데이터:\n",
      "   성별  나이대  지역  점수 dataset\n",
      "10  남  50대  부산  60        \n",
      "59  남  50대  부산  97        \n",
      "전체 데이터 개수: 2, 훈련셋: 1, 검증셋: 0\n",
      "섞인 데이터:\n",
      "   성별  나이대  지역  점수 dataset\n",
      "59  남  50대  부산  97        \n",
      "10  남  50대  부산  60        \n",
      "추출된 데이터:\n",
      "   성별  나이대  지역  점수 dataset\n",
      "14  여  40대  부산  54        \n",
      "56  여  40대  부산  98        \n",
      "68  여  40대  부산  97        \n",
      "83  여  40대  부산  97        \n",
      "91  여  40대  부산  51        \n",
      "전체 데이터 개수: 5, 훈련셋: 3, 검증셋: 0\n",
      "섞인 데이터:\n",
      "   성별  나이대  지역  점수 dataset\n",
      "56  여  40대  부산  98        \n",
      "91  여  40대  부산  51        \n",
      "68  여  40대  부산  97        \n",
      "14  여  40대  부산  54        \n",
      "83  여  40대  부산  97        \n",
      "추출된 데이터:\n",
      "   성별  나이대  지역  점수 dataset\n",
      "16  여  20대  인천  55        \n",
      "32  여  20대  인천  68        \n",
      "33  여  20대  인천  69        \n",
      "71  여  20대  인천  69        \n",
      "전체 데이터 개수: 4, 훈련셋: 2, 검증셋: 0\n",
      "섞인 데이터:\n",
      "   성별  나이대  지역  점수 dataset\n",
      "32  여  20대  인천  68        \n",
      "71  여  20대  인천  69        \n",
      "16  여  20대  인천  55        \n",
      "33  여  20대  인천  69        \n",
      "추출된 데이터:\n",
      "   성별  나이대  지역  점수 dataset\n",
      "18  여  50대  인천  60        \n",
      "42  여  50대  인천  50        \n",
      "66  여  50대  인천  84        \n",
      "73  여  50대  인천  82        \n",
      "전체 데이터 개수: 4, 훈련셋: 2, 검증셋: 0\n",
      "섞인 데이터:\n",
      "   성별  나이대  지역  점수 dataset\n",
      "42  여  50대  인천  50        \n",
      "73  여  50대  인천  82        \n",
      "18  여  50대  인천  60        \n",
      "66  여  50대  인천  84        \n",
      "추출된 데이터:\n",
      "   성별  나이대  지역  점수 dataset\n",
      "19  남  20대  부산  97        \n",
      "21  남  20대  부산  82        \n",
      "41  남  20대  부산  89        \n",
      "85  남  20대  부산  84        \n",
      "전체 데이터 개수: 4, 훈련셋: 2, 검증셋: 0\n",
      "섞인 데이터:\n",
      "   성별  나이대  지역  점수 dataset\n",
      "21  남  20대  부산  82        \n",
      "85  남  20대  부산  84        \n",
      "19  남  20대  부산  97        \n",
      "41  남  20대  부산  89        \n",
      "추출된 데이터:\n",
      "   성별  나이대  지역  점수 dataset\n",
      "20  여  50대  부산  65        \n",
      "44  여  50대  부산  77        \n",
      "49  여  50대  부산  79        \n",
      "97  여  50대  부산  53        \n",
      "전체 데이터 개수: 4, 훈련셋: 2, 검증셋: 0\n",
      "섞인 데이터:\n",
      "   성별  나이대  지역  점수 dataset\n",
      "44  여  50대  부산  77        \n",
      "97  여  50대  부산  53        \n",
      "20  여  50대  부산  65        \n",
      "49  여  50대  부산  79        \n",
      "추출된 데이터:\n",
      "   성별  나이대  지역  점수 dataset\n",
      "22  여  30대  경기  58        \n",
      "96  여  30대  경기  82        \n",
      "전체 데이터 개수: 2, 훈련셋: 1, 검증셋: 0\n",
      "섞인 데이터:\n",
      "   성별  나이대  지역  점수 dataset\n",
      "96  여  30대  경기  82        \n",
      "22  여  30대  경기  58        \n",
      "추출된 데이터:\n",
      "   성별  나이대  지역  점수 dataset\n",
      "23  여  40대  인천  55        \n",
      "34  여  40대  인천  81        \n",
      "81  여  40대  인천  69        \n",
      "전체 데이터 개수: 3, 훈련셋: 2, 검증셋: 0\n",
      "섞인 데이터:\n",
      "   성별  나이대  지역  점수 dataset\n",
      "23  여  40대  인천  55        \n",
      "34  여  40대  인천  81        \n",
      "81  여  40대  인천  69        \n",
      "추출된 데이터:\n",
      "   성별  나이대  지역  점수 dataset\n",
      "24  여  20대  경기  65        \n",
      "27  여  20대  경기  69        \n",
      "36  여  20대  경기  90        \n",
      "65  여  20대  경기  90        \n",
      "전체 데이터 개수: 4, 훈련셋: 2, 검증셋: 0\n",
      "섞인 데이터:\n",
      "   성별  나이대  지역  점수 dataset\n",
      "27  여  20대  경기  69        \n",
      "65  여  20대  경기  90        \n",
      "24  여  20대  경기  65        \n",
      "36  여  20대  경기  90        \n",
      "추출된 데이터:\n",
      "   성별  나이대  지역  점수 dataset\n",
      "25  여  50대  경기  78        \n",
      "70  여  50대  경기  52        \n",
      "전체 데이터 개수: 2, 훈련셋: 1, 검증셋: 0\n",
      "섞인 데이터:\n",
      "   성별  나이대  지역  점수 dataset\n",
      "70  여  50대  경기  52        \n",
      "25  여  50대  경기  78        \n",
      "추출된 데이터:\n",
      "   성별  나이대  지역  점수 dataset\n",
      "28  여  50대  서울  85        \n",
      "29  여  50대  서울  68        \n",
      "43  여  50대  서울  60        \n",
      "전체 데이터 개수: 3, 훈련셋: 2, 검증셋: 0\n",
      "섞인 데이터:\n",
      "   성별  나이대  지역  점수 dataset\n",
      "28  여  50대  서울  85        \n",
      "29  여  50대  서울  68        \n",
      "43  여  50대  서울  60        \n",
      "추출된 데이터:\n",
      "   성별  나이대  지역  점수 dataset\n",
      "30  남  50대  경기  75        \n",
      "40  남  50대  경기  67        \n",
      "전체 데이터 개수: 2, 훈련셋: 1, 검증셋: 0\n",
      "섞인 데이터:\n",
      "   성별  나이대  지역  점수 dataset\n",
      "40  남  50대  경기  67        \n",
      "30  남  50대  경기  75        \n",
      "추출된 데이터:\n",
      "   성별  나이대  지역  점수 dataset\n",
      "31  남  20대  인천  52        \n",
      "35  남  20대  인천  56        \n",
      "39  남  20대  인천  88        \n",
      "52  남  20대  인천  56        \n",
      "58  남  20대  인천  50        \n",
      "80  남  20대  인천  89        \n",
      "전체 데이터 개수: 6, 훈련셋: 4, 검증셋: 0\n",
      "섞인 데이터:\n",
      "   성별  나이대  지역  점수 dataset\n",
      "31  남  20대  인천  52        \n",
      "35  남  20대  인천  56        \n",
      "80  남  20대  인천  89        \n",
      "39  남  20대  인천  88        \n",
      "58  남  20대  인천  50        \n",
      "52  남  20대  인천  56        \n",
      "추출된 데이터:\n",
      "   성별  나이대  지역  점수 dataset\n",
      "37  남  20대  경기  82        \n",
      "61  남  20대  경기  54        \n",
      "84  남  20대  경기  74        \n",
      "전체 데이터 개수: 3, 훈련셋: 2, 검증셋: 0\n",
      "섞인 데이터:\n",
      "   성별  나이대  지역  점수 dataset\n",
      "37  남  20대  경기  82        \n",
      "61  남  20대  경기  54        \n",
      "84  남  20대  경기  74        \n",
      "추출된 데이터:\n",
      "   성별  나이대  지역  점수 dataset\n",
      "45  여  40대  경기  74        \n",
      "77  여  40대  경기  57        \n",
      "79  여  40대  경기  87        \n",
      "93  여  40대  경기  65        \n",
      "94  여  40대  경기  90        \n",
      "전체 데이터 개수: 5, 훈련셋: 3, 검증셋: 0\n",
      "섞인 데이터:\n",
      "   성별  나이대  지역  점수 dataset\n",
      "77  여  40대  경기  57        \n",
      "94  여  40대  경기  90        \n",
      "79  여  40대  경기  87        \n",
      "45  여  40대  경기  74        \n",
      "93  여  40대  경기  65        \n",
      "추출된 데이터:\n",
      "   성별  나이대  지역  점수 dataset\n",
      "47  남  40대  서울  72        \n",
      "60  남  40대  서울  61        \n",
      "87  남  40대  서울  78        \n",
      "전체 데이터 개수: 3, 훈련셋: 2, 검증셋: 0\n",
      "섞인 데이터:\n",
      "   성별  나이대  지역  점수 dataset\n",
      "47  남  40대  서울  72        \n",
      "60  남  40대  서울  61        \n",
      "87  남  40대  서울  78        \n",
      "추출된 데이터:\n",
      "   성별  나이대  지역  점수 dataset\n",
      "48  여  20대  서울  80        \n",
      "92  여  20대  서울  84        \n",
      "98  여  20대  서울  82        \n",
      "전체 데이터 개수: 3, 훈련셋: 2, 검증셋: 0\n",
      "섞인 데이터:\n",
      "   성별  나이대  지역  점수 dataset\n",
      "48  여  20대  서울  80        \n",
      "92  여  20대  서울  84        \n",
      "98  여  20대  서울  82        \n",
      "추출된 데이터:\n",
      "   성별  나이대  지역  점수 dataset\n",
      "50  남  40대  경기  91        \n",
      "전체 데이터 개수: 1, 훈련셋: 0, 검증셋: 0\n",
      "섞인 데이터:\n",
      "   성별  나이대  지역  점수 dataset\n",
      "50  남  40대  경기  91        \n",
      "추출된 데이터:\n",
      "   성별  나이대  지역  점수 dataset\n",
      "54  남  20대  서울  75        \n",
      "78  남  20대  서울  85        \n",
      "전체 데이터 개수: 2, 훈련셋: 1, 검증셋: 0\n",
      "섞인 데이터:\n",
      "   성별  나이대  지역  점수 dataset\n",
      "78  남  20대  서울  85        \n",
      "54  남  20대  서울  75        \n",
      "추출된 데이터:\n",
      "   성별  나이대  지역  점수 dataset\n",
      "55  여  30대  부산  97        \n",
      "69  여  30대  부산  65        \n",
      "전체 데이터 개수: 2, 훈련셋: 1, 검증셋: 0\n",
      "섞인 데이터:\n",
      "   성별  나이대  지역  점수 dataset\n",
      "69  여  30대  부산  65        \n",
      "55  여  30대  부산  97        \n",
      "추출된 데이터:\n",
      "   성별  나이대  지역  점수 dataset\n",
      "67  남  40대  인천  68        \n",
      "72  남  40대  인천  73        \n",
      "99  남  40대  인천  63        \n",
      "전체 데이터 개수: 3, 훈련셋: 2, 검증셋: 0\n",
      "섞인 데이터:\n",
      "   성별  나이대  지역  점수 dataset\n",
      "67  남  40대  인천  68        \n",
      "72  남  40대  인천  73        \n",
      "99  남  40대  인천  63        \n",
      "\n",
      "최종 결과:\n",
      "    성별  나이대  지역  점수 dataset\n",
      "0   남  40대  부산  82   train\n",
      "1   여  30대  인천  50    test\n",
      "2   남  30대  부산  68   train\n",
      "3   남  50대  서울  51   train\n",
      "4   남  30대  인천  93    test\n",
      ".. ..  ...  ..  ..     ...\n",
      "95  여  30대  인천  85   train\n",
      "96  여  30대  경기  82   train\n",
      "97  여  50대  부산  53   train\n",
      "98  여  20대  서울  82    test\n",
      "99  남  40대  인천  63    test\n",
      "\n",
      "[100 rows x 5 columns]\n",
      "\n",
      "데이터셋 분할 비율:\n",
      "dataset\n",
      "train    0.57\n",
      "test     0.42\n",
      "val      0.01\n",
      "Name: proportion, dtype: float64\n",
      "\n",
      "각 그룹별 데이터셋 분할 비율 (성별):\n",
      "\n",
      "성별: 남\n",
      "dataset\n",
      "train    0.590909\n",
      "test     0.409091\n",
      "Name: proportion, dtype: float64\n",
      "\n",
      "성별: 여\n",
      "dataset\n",
      "train    0.553571\n",
      "test     0.428571\n",
      "val      0.017857\n",
      "Name: proportion, dtype: float64\n"
     ]
    },
    {
     "name": "stderr",
     "output_type": "stream",
     "text": [
      "\n"
     ]
    }
   ],
   "execution_count": 3
  },
  {
   "metadata": {},
   "cell_type": "markdown",
   "source": "# 판다스 필터링",
   "id": "106634a08d8873dc"
  },
  {
   "metadata": {
    "ExecuteTime": {
     "end_time": "2024-09-02T08:01:56.047369Z",
     "start_time": "2024-09-02T08:01:56.022355Z"
    }
   },
   "cell_type": "code",
   "source": [
    "import pandas as pd\n",
    "\n",
    "data = {'A': [1, 2, 3], 'B': [4, 5, 6], 'C': [7, 8, 9]}\n",
    "df = pd.DataFrame(data)\n",
    "print(df)\n",
    "\n",
    "# A > 2 and B < 6 조건을 만족하는 행 선택\n",
    "selected_rows = df[(df['A'] > 2) & (df['B'] <= 6)]\n",
    "\n",
    "print()\n",
    "print(selected_rows)\n",
    "\n",
    "print()\n",
    "df = selected_rows.reset_index(drop=True)\n",
    "print(df)\n"
   ],
   "id": "d3f422f7fcc1409",
   "outputs": [
    {
     "name": "stdout",
     "output_type": "stream",
     "text": [
      "   A  B  C\n",
      "0  1  4  7\n",
      "1  2  5  8\n",
      "2  3  6  9\n",
      "\n",
      "   A  B  C\n",
      "2  3  6  9\n",
      "\n",
      "   A  B  C\n",
      "0  3  6  9\n"
     ]
    }
   ],
   "execution_count": 15
  },
  {
   "metadata": {
    "ExecuteTime": {
     "end_time": "2024-09-02T08:15:14.779641Z",
     "start_time": "2024-09-02T08:15:14.767640Z"
    }
   },
   "cell_type": "code",
   "source": [
    "import pandas as pd\n",
    "#### loc -> [행, 열] 으로 데이터 선택\n",
    "\n",
    "data = {'이름': ['철수', '영희', '민수'], \n",
    "        '나이': [20, 22, 25], \n",
    "        '점수': [80, 90, 75]}\n",
    "df = pd.DataFrame(data, index=['학생1', '학생2', '학생3'])\n",
    "print(df)"
   ],
   "id": "b95ba070444ee050",
   "outputs": [
    {
     "name": "stdout",
     "output_type": "stream",
     "text": [
      "     이름  나이  점수\n",
      "학생1  철수  20  80\n",
      "학생2  영희  22  90\n",
      "학생3  민수  25  75\n"
     ]
    }
   ],
   "execution_count": 35
  },
  {
   "metadata": {
    "ExecuteTime": {
     "end_time": "2024-09-02T08:15:15.191356Z",
     "start_time": "2024-09-02T08:15:15.184355Z"
    }
   },
   "cell_type": "code",
   "source": [
    "\n",
    "# '학생2' 행의 '점수' 값 가져오기\n",
    "score = df.loc['학생2', '점수'] \n",
    "print(score)  # 출력: 90"
   ],
   "id": "4835d66110abe3b3",
   "outputs": [
    {
     "name": "stdout",
     "output_type": "stream",
     "text": [
      "90\n"
     ]
    }
   ],
   "execution_count": 36
  },
  {
   "metadata": {
    "ExecuteTime": {
     "end_time": "2024-09-02T08:09:11.428493Z",
     "start_time": "2024-09-02T08:09:11.399474Z"
    }
   },
   "cell_type": "code",
   "source": [
    "\n",
    "# '학생1'과 '학생3' 행의 '이름'과 '나이' 컬럼 가져오기\n",
    "subset = df.loc[['학생1', '학생3'], ['이름', '나이']]\n",
    "print(subset)"
   ],
   "id": "af2abed8e88b4b83",
   "outputs": [
    {
     "name": "stdout",
     "output_type": "stream",
     "text": [
      "     이름  나이\n",
      "학생1  철수  20\n",
      "학생3  민수  25\n"
     ]
    }
   ],
   "execution_count": 24
  },
  {
   "metadata": {
    "ExecuteTime": {
     "end_time": "2024-09-02T08:09:18.027512Z",
     "start_time": "2024-09-02T08:09:18.007551Z"
    }
   },
   "cell_type": "code",
   "source": [
    "# '나이'가 22보다 큰 모든 행의 '점수' 컬럼 수정\n",
    "df.loc[df['나이'] > 22, '점수'] = 85\n",
    "print(df)"
   ],
   "id": "75332c16d2571828",
   "outputs": [
    {
     "name": "stdout",
     "output_type": "stream",
     "text": [
      "     이름  나이  점수\n",
      "학생1  철수  20  80\n",
      "학생2  영희  22  90\n",
      "학생3  민수  25  85\n"
     ]
    }
   ],
   "execution_count": 25
  },
  {
   "metadata": {},
   "cell_type": "code",
   "outputs": [],
   "execution_count": null,
   "source": "",
   "id": "4bcbd15cb525ef6a"
  },
  {
   "metadata": {},
   "cell_type": "markdown",
   "source": [
    "# 판다스 필터링 0 들어가있으면 삭제\n",
    "##  df.loc[lambda df: (df != 0).all(axis=1)]"
   ],
   "id": "d6a1ff48f255d046"
  },
  {
   "metadata": {
    "ExecuteTime": {
     "end_time": "2024-09-03T01:04:07.924687Z",
     "start_time": "2024-09-03T01:04:07.895684Z"
    }
   },
   "cell_type": "code",
   "source": [
    "import pandas as pd\n",
    "\n",
    "# 간단한 예시 데이터프레임 생성\n",
    "data = {\n",
    "    'DAY_TYPE': [1, 0, 2, 3, 0, 4],\n",
    "    'LEN': [100, 200, 0, 300, 400, 500],\n",
    "    'TIME_GAP': [50, 0, 30, 0, 10, 45]\n",
    "}\n",
    "\n",
    "df = pd.DataFrame(data)\n",
    "\n",
    "# 원본 데이터프레임 출력\n",
    "print(\"원본 데이터프레임:\")\n",
    "print(df)\n",
    "\n",
    "# df != 0의 결과\n",
    "boolean_mask = df != 0\n",
    "\n",
    "print(\"\\nBoolean Mask:\")\n",
    "print(boolean_mask)\n",
    "\n",
    "# 0이 포함된 행을 제거하는 과정\n",
    "filtered_df = df.loc[lambda df: (df != 0).all(axis=1)]\n",
    "\n",
    "# 필터링 후의 데이터프레임 출력\n",
    "print(\"\\n0이 포함된 행을 제거한 데이터프레임:\")\n",
    "print(filtered_df)\n"
   ],
   "id": "1499f02a58d38ba5",
   "outputs": [
    {
     "name": "stdout",
     "output_type": "stream",
     "text": [
      "원본 데이터프레임:\n",
      "   DAY_TYPE  LEN  TIME_GAP\n",
      "0         1  100        50\n",
      "1         0  200         0\n",
      "2         2    0        30\n",
      "3         3  300         0\n",
      "4         0  400        10\n",
      "5         4  500        45\n",
      "\n",
      "Boolean Mask:\n",
      "   DAY_TYPE    LEN  TIME_GAP\n",
      "0      True   True      True\n",
      "1     False   True     False\n",
      "2      True  False      True\n",
      "3      True   True     False\n",
      "4     False   True      True\n",
      "5      True   True      True\n",
      "\n",
      "0이 포함된 행을 제거한 데이터프레임:\n",
      "   DAY_TYPE  LEN  TIME_GAP\n",
      "0         1  100        50\n",
      "5         4  500        45\n"
     ]
    }
   ],
   "execution_count": 4
  },
  {
   "metadata": {},
   "cell_type": "code",
   "outputs": [],
   "execution_count": null,
   "source": "",
   "id": "4da958b56e9b35f2"
  },
  {
   "metadata": {},
   "cell_type": "markdown",
   "source": "## 판다스 범주형 데이터 변환 df['DAY_TYPE'].astype('category')",
   "id": "841a42e06cc56d7d"
  },
  {
   "metadata": {
    "ExecuteTime": {
     "end_time": "2024-09-03T01:13:39.089138Z",
     "start_time": "2024-09-03T01:13:39.068141Z"
    }
   },
   "cell_type": "code",
   "source": [
    "import pandas as pd\n",
    "\n",
    "# 예시 데이터프레임 생성\n",
    "data = {\n",
    "    'DAY_TYPE': [1, 2, 3, 1, 2, 3],\n",
    "    'BUSINFOUNIT_ID': ['000010002', '000010004', '000010006', '000010002', '000010004', '000010006']\n",
    "}\n",
    "\n",
    "df = pd.DataFrame(data)\n",
    "\n",
    "# 변환 전 메모리 사용량 확인\n",
    "print(\"Before optimization:\")\n",
    "print(df.memory_usage(deep=True))\n",
    "\n",
    "# 데이터 타입을 category로 변환\n",
    "df['DAY_TYPE'] = df['DAY_TYPE'].astype('category')\n",
    "df['BUSINFOUNIT_ID'] = df['BUSINFOUNIT_ID'].astype('category')\n",
    "\n",
    "# 변환 후 메모리 사용량 확인\n",
    "print(\"\\nAfter optimization:\")\n",
    "print(df.memory_usage(deep=True))\n"
   ],
   "id": "bc8bd2b97ad5e695",
   "outputs": [
    {
     "name": "stdout",
     "output_type": "stream",
     "text": [
      "Before optimization:\n",
      "Index             128\n",
      "DAY_TYPE           48\n",
      "BUSINFOUNIT_ID    396\n",
      "dtype: int64\n",
      "\n",
      "After optimization:\n",
      "Index             128\n",
      "DAY_TYPE          138\n",
      "BUSINFOUNIT_ID    312\n",
      "dtype: int64\n"
     ]
    }
   ],
   "execution_count": 7
  },
  {
   "metadata": {},
   "cell_type": "markdown",
   "source": "## 판다스 df.dropna(how='all')",
   "id": "9d59dc99a8710070"
  },
  {
   "metadata": {
    "ExecuteTime": {
     "end_time": "2024-09-03T01:16:55.526828Z",
     "start_time": "2024-09-03T01:16:55.487846Z"
    }
   },
   "cell_type": "code",
   "source": [
    "import pandas as pd\n",
    "import numpy as np\n",
    "\n",
    "# 예시 데이터프레임 생성\n",
    "data = {\n",
    "    'A': [1, 2, np.nan, 4],\n",
    "    'B': [np.nan, np.nan, np.nan, 5],\n",
    "    'C': [np.nan, 3, np.nan, np.nan]\n",
    "}\n",
    "\n",
    "df = pd.DataFrame(data)\n",
    "\n",
    "print(\"Original DataFrame:\")\n",
    "print(df)\n",
    "\n",
    "# 모든 값이 NaN인 행 제거\n",
    "df_cleaned = df.dropna(how='all')\n",
    "\n",
    "print(\"\\nDataFrame after dropping rows where all elements are NaN:\")\n",
    "print(df_cleaned)\n"
   ],
   "id": "84f993a5292465ae",
   "outputs": [
    {
     "name": "stdout",
     "output_type": "stream",
     "text": [
      "Original DataFrame:\n",
      "     A    B    C\n",
      "0  1.0  NaN  NaN\n",
      "1  2.0  NaN  3.0\n",
      "2  NaN  NaN  NaN\n",
      "3  4.0  5.0  NaN\n",
      "\n",
      "DataFrame after dropping rows where all elements are NaN:\n",
      "     A    B    C\n",
      "0  1.0  NaN  NaN\n",
      "1  2.0  NaN  3.0\n",
      "3  4.0  5.0  NaN\n"
     ]
    }
   ],
   "execution_count": 8
  },
  {
   "metadata": {},
   "cell_type": "code",
   "outputs": [],
   "execution_count": null,
   "source": "",
   "id": "70de4df540475a77"
  }
 ],
 "metadata": {
  "kernelspec": {
   "display_name": "Python 3",
   "language": "python",
   "name": "python3"
  },
  "language_info": {
   "codemirror_mode": {
    "name": "ipython",
    "version": 2
   },
   "file_extension": ".py",
   "mimetype": "text/x-python",
   "name": "python",
   "nbconvert_exporter": "python",
   "pygments_lexer": "ipython2",
   "version": "2.7.6"
  }
 },
 "nbformat": 4,
 "nbformat_minor": 5
}
