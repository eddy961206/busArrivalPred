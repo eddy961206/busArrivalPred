{
 "cells": [
  {
   "cell_type": "code",
   "id": "fe0c19c52efbf370",
   "metadata": {
    "ExecuteTime": {
     "end_time": "2024-08-22T11:47:28.890161Z",
     "start_time": "2024-08-22T11:47:28.880503Z"
    }
   },
   "source": [
    "import torch\n",
    "\n",
    "# 1차원 텐서\n",
    "a = torch.tensor([1, 2, 3])\n",
    "\n",
    "# 2차원 텐서\n",
    "b = torch.tensor([[4, 5, 6]])\n",
    "b.shape"
   ],
   "outputs": [
    {
     "data": {
      "text/plain": [
       "torch.Size([1, 3])"
      ]
     },
     "execution_count": 18,
     "metadata": {},
     "output_type": "execute_result"
    }
   ],
   "execution_count": 18
  },
  {
   "metadata": {
    "ExecuteTime": {
     "end_time": "2024-08-22T11:47:48.843645Z",
     "start_time": "2024-08-22T11:47:48.829630Z"
    }
   },
   "cell_type": "code",
   "source": "a.shape",
   "id": "cc06bf3b60657565",
   "outputs": [
    {
     "data": {
      "text/plain": [
       "torch.Size([3])"
      ]
     },
     "execution_count": 21,
     "metadata": {},
     "output_type": "execute_result"
    }
   ],
   "execution_count": 21
  },
  {
   "metadata": {
    "ExecuteTime": {
     "end_time": "2024-08-22T11:47:50.717472Z",
     "start_time": "2024-08-22T11:47:50.712968Z"
    }
   },
   "cell_type": "code",
   "source": [
    "a = a.unsqueeze(1)\n",
    "a\n",
    "a.shape"
   ],
   "id": "605976a10a94226f",
   "outputs": [
    {
     "data": {
      "text/plain": [
       "torch.Size([3, 1])"
      ]
     },
     "execution_count": 22,
     "metadata": {},
     "output_type": "execute_result"
    }
   ],
   "execution_count": 22
  },
  {
   "metadata": {
    "collapsed": true,
    "ExecuteTime": {
     "end_time": "2024-08-22T11:47:56.946572Z",
     "start_time": "2024-08-22T11:47:56.931558Z"
    }
   },
   "cell_type": "code",
   "source": [
    "# a + b 연산 수행\n",
    "c = a + b  # c의 크기: (3, 3)\n",
    "\n",
    "print(c)"
   ],
   "id": "initial_id",
   "outputs": [
    {
     "name": "stdout",
     "output_type": "stream",
     "text": [
      "tensor([[5, 6, 7],\n",
      "        [6, 7, 8],\n",
      "        [7, 8, 9]])\n"
     ]
    }
   ],
   "execution_count": 23
  },
  {
   "metadata": {
    "ExecuteTime": {
     "end_time": "2024-08-22T11:56:43.432850Z",
     "start_time": "2024-08-22T11:56:43.417620Z"
    }
   },
   "cell_type": "code",
   "source": [
    "import torch\n",
    "\n",
    "day_type = torch.tensor([1, 0, 1, 1, 0])\n",
    "departure_time = torch.tensor([8.0, 9.5, 11.0, 13.5, 15.0])\n",
    "busroute_id = torch.tensor([10, 25, 10, 30, 25])\n",
    "gps_coordx = torch.tensor([37.5665, 37.5410, 37.5550, 37.5125, 37.5330])\n",
    "gps_coordy = torch.tensor([126.9780, 127.0785, 126.9990, 127.1110, 127.0900])\n",
    "length = torch.tensor([10.5, 15.2, 8.7, 20.3, 12.6])\n",
    "day_type"
   ],
   "id": "1717a62c21dac7a3",
   "outputs": [
    {
     "data": {
      "text/plain": [
       "tensor([1, 0, 1, 1, 0])"
      ]
     },
     "execution_count": 48,
     "metadata": {},
     "output_type": "execute_result"
    }
   ],
   "execution_count": 48
  },
  {
   "metadata": {
    "ExecuteTime": {
     "end_time": "2024-08-22T11:56:44.392445Z",
     "start_time": "2024-08-22T11:56:44.378424Z"
    }
   },
   "cell_type": "code",
   "source": [
    "day_type = day_type.unsqueeze(1)\n",
    "departure_time = departure_time.unsqueeze(1)\n",
    "busroute_id = busroute_id.unsqueeze(1)\n",
    "gps_coordx = gps_coordx.unsqueeze(1)\n",
    "gps_coordy = gps_coordy.unsqueeze(1)\n",
    "length = length.unsqueeze(1)\n",
    "print(day_type)"
   ],
   "id": "3261865e61124929",
   "outputs": [
    {
     "name": "stdout",
     "output_type": "stream",
     "text": [
      "tensor([[1],\n",
      "        [0],\n",
      "        [1],\n",
      "        [1],\n",
      "        [0]])\n"
     ]
    }
   ],
   "execution_count": 49
  },
  {
   "metadata": {
    "ExecuteTime": {
     "end_time": "2024-08-22T11:56:45.856560Z",
     "start_time": "2024-08-22T11:56:45.839495Z"
    }
   },
   "cell_type": "code",
   "source": [
    "inputs = torch.cat([day_type, departure_time, busroute_id, gps_coordx, gps_coordy, length], dim=1)\n",
    "\n",
    "print(inputs)"
   ],
   "id": "a0e263d1443f5e0b",
   "outputs": [
    {
     "name": "stdout",
     "output_type": "stream",
     "text": [
      "tensor([[  1.0000,   8.0000,  10.0000,  37.5665, 126.9780,  10.5000],\n",
      "        [  0.0000,   9.5000,  25.0000,  37.5410, 127.0785,  15.2000],\n",
      "        [  1.0000,  11.0000,  10.0000,  37.5550, 126.9990,   8.7000],\n",
      "        [  1.0000,  13.5000,  30.0000,  37.5125, 127.1110,  20.3000],\n",
      "        [  0.0000,  15.0000,  25.0000,  37.5330, 127.0900,  12.6000]])\n"
     ]
    }
   ],
   "execution_count": 50
  },
  {
   "metadata": {},
   "cell_type": "code",
   "outputs": [],
   "execution_count": null,
   "source": "",
   "id": "5e82ccef46cee230"
  },
  {
   "metadata": {},
   "cell_type": "code",
   "outputs": [],
   "execution_count": null,
   "source": "",
   "id": "61202fff57cc888"
  },
  {
   "metadata": {
    "ExecuteTime": {
     "end_time": "2024-08-22T12:06:45.949381Z",
     "start_time": "2024-08-22T12:06:45.929482Z"
    }
   },
   "cell_type": "code",
   "source": [
    "# 데이터 준비 (리스트의 리스트로 구성)\n",
    "data_list = [\n",
    "    [1, 8.0, 10, 37.5665, 126.9780, 10.5, 15],\n",
    "    [0, 9.5, 25, 37.5410, 127.0785, 15.2, 20],\n",
    "    [1, 11.0, 10, 37.5550, 126.9990, 8.7, 10],\n",
    "]\n",
    "\n",
    "# 가상의 디바이스 함수 (실제 디바이스 이동은 없음)\n",
    "def to_device(data):\n",
    "    return f\"{data} (on device)\"\n",
    "\n",
    "# 데이터 처리\n",
    "for i, data in enumerate(data_list):\n",
    "    # 리스트 컴프리헨션과 to_device 함수 적용\n",
    "    processed_data = [to_device(d) for d in data]\n",
    "\n",
    "    # 리스트 unpacking\n",
    "    day_type, departure_time, busroute_id, gps_coordx, gps_coordy, length, time_gap = processed_data\n",
    "\n",
    "    # 출력 \n",
    "    print(f\"Sample {i+1}:\")\n",
    "    print(f\"  day_type: {day_type}\")\n",
    "    print(f\"  departure_time: {departure_time}\")\n",
    "    print(f\"  busroute_id: {busroute_id}\")\n",
    "    print(f\"  gps_coordx: {gps_coordx}\")\n",
    "    print(f\"  gps_coordy: {gps_coordy}\")\n",
    "    print(f\"  length: {length}\")\n",
    "    print(f\"  time_gap: {time_gap}\")\n",
    "    print()"
   ],
   "id": "93c3ee4c0a044b5e",
   "outputs": [
    {
     "name": "stdout",
     "output_type": "stream",
     "text": [
      "Sample 1:\n",
      "  day_type: 1 (on device)\n",
      "  departure_time: 8.0 (on device)\n",
      "  busroute_id: 10 (on device)\n",
      "  gps_coordx: 37.5665 (on device)\n",
      "  gps_coordy: 126.978 (on device)\n",
      "  length: 10.5 (on device)\n",
      "  time_gap: 15 (on device)\n",
      "\n",
      "Sample 2:\n",
      "  day_type: 0 (on device)\n",
      "  departure_time: 9.5 (on device)\n",
      "  busroute_id: 25 (on device)\n",
      "  gps_coordx: 37.541 (on device)\n",
      "  gps_coordy: 127.0785 (on device)\n",
      "  length: 15.2 (on device)\n",
      "  time_gap: 20 (on device)\n",
      "\n",
      "Sample 3:\n",
      "  day_type: 1 (on device)\n",
      "  departure_time: 11.0 (on device)\n",
      "  busroute_id: 10 (on device)\n",
      "  gps_coordx: 37.555 (on device)\n",
      "  gps_coordy: 126.999 (on device)\n",
      "  length: 8.7 (on device)\n",
      "  time_gap: 10 (on device)\n",
      "\n"
     ]
    }
   ],
   "execution_count": 51
  },
  {
   "metadata": {
    "ExecuteTime": {
     "end_time": "2024-08-25T03:05:58.465378Z",
     "start_time": "2024-08-25T03:05:58.454378Z"
    }
   },
   "cell_type": "code",
   "source": [
    "\n",
    "    import time\n",
    "\n",
    "    start_time = time.strftime(\"%Y%m%d-%H%M%S\")\n",
    "    # start_time 을 파일명으로 빈 파일 만들어 저장\n",
    "    with open(f'{start_time}.txt', 'w') as f:\n",
    "        pass"
   ],
   "id": "885633257d97dfa1",
   "outputs": [],
   "execution_count": 1
  },
  {
   "metadata": {},
   "cell_type": "code",
   "outputs": [],
   "execution_count": null,
   "source": "",
   "id": "6ab452620d15120b"
  },
  {
   "metadata": {
    "ExecuteTime": {
     "end_time": "2024-08-26T10:42:40.627292Z",
     "start_time": "2024-08-26T10:42:40.608293Z"
    }
   },
   "cell_type": "code",
   "source": [
    "from sklearn.preprocessing import LabelEncoder\n",
    "import numpy as np\n",
    "\n",
    "# LabelEncoder 객체 생성\n",
    "le = LabelEncoder()\n",
    "\n",
    "# 예시 데이터\n",
    "data = ['red', 'green', 'blue', 'red', 'green', 'yellow']\n",
    "\n",
    "# fit 메서드: 레이블 학습\n",
    "le.fit(data)\n",
    "print(\"학습된 클래스:\", le.classes_)\n",
    "print(le)\n"
   ],
   "id": "615983f6f04ca2d1",
   "outputs": [
    {
     "name": "stdout",
     "output_type": "stream",
     "text": [
      "학습된 클래스: ['blue' 'green' 'red' 'yellow']\n",
      "LabelEncoder()\n"
     ]
    }
   ],
   "execution_count": 13
  },
  {
   "metadata": {
    "ExecuteTime": {
     "end_time": "2024-08-26T10:42:52.995733Z",
     "start_time": "2024-08-26T10:42:52.978737Z"
    }
   },
   "cell_type": "code",
   "source": [
    "# transform 메서드: 레이블을 숫자로 변환\n",
    "encoded_data = le.transform(data)\n",
    "print(\"인코딩된 데이터:\", encoded_data)"
   ],
   "id": "a84839a3e0e48762",
   "outputs": [
    {
     "name": "stdout",
     "output_type": "stream",
     "text": [
      "인코딩된 데이터: [2 1 0 2 1 3]\n"
     ]
    }
   ],
   "execution_count": 14
  },
  {
   "metadata": {
    "ExecuteTime": {
     "end_time": "2024-08-26T10:43:47.007656Z",
     "start_time": "2024-08-26T10:43:47.002656Z"
    }
   },
   "cell_type": "code",
   "source": [
    "# fit_transform 메서드: fit과 transform을 한 번에 수행\n",
    "encoded_data_2 = le.fit_transform(['apple', 'banana', 'apple', 'cherry'])\n",
    "print(\"fit_transform 결과:\", encoded_data_2)\n",
    "print(le.classes_)"
   ],
   "id": "414f1a4b0f64b4d2",
   "outputs": [
    {
     "name": "stdout",
     "output_type": "stream",
     "text": [
      "fit_transform 결과: [0 1 0 2]\n",
      "['apple' 'banana' 'cherry']\n"
     ]
    }
   ],
   "execution_count": 16
  },
  {
   "metadata": {
    "ExecuteTime": {
     "end_time": "2024-08-26T10:44:16.321628Z",
     "start_time": "2024-08-26T10:44:16.305629Z"
    }
   },
   "cell_type": "code",
   "source": [
    "# inverse_transform 메서드: 숫자를 원래 레이블로 변환\n",
    "original_labels = le.inverse_transform([0, 1, 2, 0])\n",
    "print(\"원래 레이블:\", original_labels)\n",
    "\n",
    "# 새로운 레이블 처리\n",
    "try:\n",
    "    le.transform(['purple'])\n",
    "except ValueError as e:\n",
    "    print(\"오류:\", str(e))\n",
    "\n",
    "# 새로운 레이블을 포함하여 다시 학습\n",
    "le.fit(['red', 'green', 'blue', 'purple'])\n",
    "print(\"새로 학습된 클래스:\", le.classes_)\n",
    "\n",
    "# 다차원 배열 처리\n",
    "multi_dim_data = [['red', 'sweet'], ['green', 'sour'], ['blue', 'sweet']]\n",
    "le_color = LabelEncoder()\n",
    "le_taste = LabelEncoder()\n",
    "\n",
    "encoded_color = le_color.fit_transform([item[0] for item in multi_dim_data])\n",
    "encoded_taste = le_taste.fit_transform([item[1] for item in multi_dim_data])\n",
    "\n",
    "print(\"인코딩된 색상:\", encoded_color)\n",
    "print(\"인코딩된 맛:\", encoded_taste)"
   ],
   "id": "cc009dcb0cdad152",
   "outputs": [
    {
     "name": "stdout",
     "output_type": "stream",
     "text": [
      "원래 레이블: ['apple' 'banana' 'cherry' 'apple']\n",
      "오류: y contains previously unseen labels: 'purple'\n",
      "새로 학습된 클래스: ['blue' 'green' 'purple' 'red']\n",
      "인코딩된 색상: [2 1 0]\n",
      "인코딩된 맛: [1 0 1]\n"
     ]
    }
   ],
   "execution_count": 17
  },
  {
   "metadata": {
    "ExecuteTime": {
     "end_time": "2024-08-26T10:46:37.155869Z",
     "start_time": "2024-08-26T10:46:37.141830Z"
    }
   },
   "cell_type": "code",
   "source": "le_color.classes_",
   "id": "9c129c84478abf98",
   "outputs": [
    {
     "data": {
      "text/plain": [
       "array(['blue', 'green', 'red'], dtype='<U5')"
      ]
     },
     "execution_count": 19,
     "metadata": {},
     "output_type": "execute_result"
    }
   ],
   "execution_count": 19
  },
  {
   "metadata": {
    "ExecuteTime": {
     "end_time": "2024-08-26T10:50:55.870093Z",
     "start_time": "2024-08-26T10:50:53.837906Z"
    }
   },
   "cell_type": "code",
   "source": [
    "import torch\n",
    "import torch.nn as nn\n",
    "\n",
    "# 임베딩 레이어 생성\n",
    "num_embeddings = 1000  # 어휘 크기\n",
    "embedding_dim = 50     # 임베딩 차원\n",
    "embedding_layer = nn.Embedding(num_embeddings=num_embeddings, embedding_dim=embedding_dim)\n",
    "\n",
    "# 입력 데이터 (예: 단어 인덱스)\n",
    "input_data = torch.LongTensor([1, 4, 3, 2])\n",
    "\n",
    "# 임베딩 적용\n",
    "embedded_data = embedding_layer(input_data)\n",
    "\n",
    "print(\"입력 데이터 shape:\", input_data.shape)\n",
    "print(\"임베딩된 데이터 shape:\", embedded_data.shape)"
   ],
   "id": "699fe5ceb41c98a9",
   "outputs": [
    {
     "name": "stdout",
     "output_type": "stream",
     "text": [
      "입력 데이터 shape: torch.Size([4])\n",
      "임베딩된 데이터 shape: torch.Size([4, 50])\n"
     ]
    }
   ],
   "execution_count": 20
  },
  {
   "metadata": {
    "ExecuteTime": {
     "end_time": "2024-08-26T10:51:50.451720Z",
     "start_time": "2024-08-26T10:51:50.443722Z"
    }
   },
   "cell_type": "code",
   "source": "print(embedded_data)",
   "id": "65f7deeb04aac999",
   "outputs": [
    {
     "name": "stdout",
     "output_type": "stream",
     "text": [
      "tensor([[ 1.1647, -1.4166, -0.6005,  0.2312,  0.4932,  1.2440, -1.3677,  0.9309,\n",
      "          0.6821, -1.4915, -0.0824, -0.2505,  0.1352,  0.5270,  0.0702,  0.8559,\n",
      "         -0.5382, -0.5029, -1.0886,  0.3223,  0.6813,  1.2731, -0.4545,  0.2470,\n",
      "          1.5128,  0.1244,  0.9999, -0.2910, -1.8055,  0.0402, -0.2595, -0.2214,\n",
      "          0.6948, -1.3050, -0.0240, -1.1019, -0.2661,  1.8513,  2.0974, -1.4183,\n",
      "         -0.0704, -0.0626, -0.6240, -0.0913, -1.2786, -1.1579, -1.2461, -0.0438,\n",
      "         -0.2945, -0.4403],\n",
      "        [ 0.5391,  0.0732, -0.6177, -0.4949, -0.3492, -1.7014, -0.0526,  0.0639,\n",
      "          1.5922,  2.0719,  1.4767, -0.7027,  0.4149,  2.0745, -0.0865, -1.0116,\n",
      "          0.1502, -0.9079, -0.8100,  0.2332, -2.9919, -0.5743, -1.1432,  0.5967,\n",
      "         -0.4597,  0.6448,  0.2451,  0.1534,  1.5803,  0.7931, -0.0529,  0.6083,\n",
      "         -0.9448, -0.4248,  0.6065, -0.1378,  1.8732, -1.9238, -2.3996,  0.0581,\n",
      "         -0.4745,  0.3320, -0.6435,  0.2210, -1.1966, -0.0207, -0.5153,  1.3857,\n",
      "         -0.4685, -0.3060],\n",
      "        [ 0.3457, -1.0615, -0.4736, -1.0168, -0.2266,  0.3223, -1.3752, -0.7234,\n",
      "          0.5628, -0.8365,  0.0972, -0.2562, -1.3170,  0.9290, -0.5235,  1.8972,\n",
      "         -0.4896,  0.2238, -0.3434,  0.2976, -0.6134,  0.1340,  0.7372, -0.6462,\n",
      "         -0.2952, -0.4222, -0.8406, -0.5321, -0.4867,  1.0508,  0.3394, -0.2847,\n",
      "         -0.6165,  1.3815, -1.0959, -0.0140,  0.4198, -1.2749, -0.4399,  0.0556,\n",
      "         -0.8153, -1.0120,  0.8286, -1.1770, -1.2615, -1.2516,  0.4189,  0.1343,\n",
      "          0.7662, -0.1160],\n",
      "        [ 0.0376,  0.7722,  0.2000, -1.0449,  0.6614,  2.0427, -1.8124, -0.5060,\n",
      "         -0.2613,  0.7597, -0.5542, -0.8270,  0.9462, -0.9445,  0.3374, -0.4151,\n",
      "         -0.4109, -0.8079,  0.2963,  0.4947,  2.9787, -1.5110, -1.1662,  1.3264,\n",
      "          2.1221,  0.5847,  1.0333, -1.5129,  1.2783,  0.8105,  1.6657,  1.8335,\n",
      "          1.1308,  0.0309, -1.9444,  0.4602,  0.2564,  0.3616, -0.9078, -0.3734,\n",
      "         -0.6114, -0.2017,  0.5274,  2.0718,  0.5196,  0.1032,  1.3060, -1.6130,\n",
      "         -0.9354, -0.5034]], grad_fn=<EmbeddingBackward0>)\n"
     ]
    }
   ],
   "execution_count": 22
  },
  {
   "metadata": {
    "ExecuteTime": {
     "end_time": "2024-08-26T10:52:22.739883Z",
     "start_time": "2024-08-26T10:52:22.735885Z"
    }
   },
   "cell_type": "code",
   "source": "print(input_data)",
   "id": "671529932b145fae",
   "outputs": [
    {
     "name": "stdout",
     "output_type": "stream",
     "text": [
      "tensor([1, 4, 3, 2])\n"
     ]
    }
   ],
   "execution_count": 23
  },
  {
   "metadata": {
    "ExecuteTime": {
     "end_time": "2024-08-26T10:57:00.504631Z",
     "start_time": "2024-08-26T10:57:00.490115Z"
    }
   },
   "cell_type": "code",
   "source": [
    "import numpy as np\n",
    "from sklearn.preprocessing import LabelEncoder\n",
    "import torch\n",
    "import torch.nn as nn\n",
    "\n",
    "# 예시 데이터\n",
    "route_ids = ['10002120', '10003130', '10001110', '10002120', '10003130']\n",
    "\n",
    "# 1. LabelEncoder를 사용하여 노선 ID를 정수로 변환\n",
    "le = LabelEncoder()\n",
    "encoded_routes = le.fit_transform(route_ids)\n",
    "\n",
    "print(\"인코딩된 노선 ID:\", encoded_routes)"
   ],
   "id": "c844eed4c1565e66",
   "outputs": [
    {
     "name": "stdout",
     "output_type": "stream",
     "text": [
      "인코딩된 노선 ID: [1 2 0 1 2]\n"
     ]
    }
   ],
   "execution_count": 24
  },
  {
   "metadata": {},
   "cell_type": "code",
   "outputs": [],
   "execution_count": null,
   "source": "",
   "id": "2f09402ff08caa18"
  },
  {
   "metadata": {
    "ExecuteTime": {
     "end_time": "2024-08-29T02:17:50.116241Z",
     "start_time": "2024-08-29T02:17:50.094236Z"
    }
   },
   "cell_type": "code",
   "source": [
    "def params_to_string(params):\n",
    "        return \"_\".join(f\"{k}_{v}\" for k, v in params.items())"
   ],
   "id": "2403434f85e779f9",
   "outputs": [],
   "execution_count": 2
  },
  {
   "metadata": {
    "ExecuteTime": {
     "end_time": "2024-08-29T02:17:50.385258Z",
     "start_time": "2024-08-29T02:17:50.373256Z"
    }
   },
   "cell_type": "code",
   "source": [
    "trial_params = {\n",
    "        'lr': 1,\n",
    "        'dropout_rate': 2,\n",
    "        'batch_size': 3,\n",
    "        'route_embedding_dim': 4,\n",
    "        'location_embedding_dim': 5,\n",
    "        'hash_size': 6\n",
    "    }\n",
    "\n",
    "params_to_string(trial_params)"
   ],
   "id": "1e27f80879d020e3",
   "outputs": [
    {
     "data": {
      "text/plain": [
       "'lr_1_dropout_rate_2_batch_size_3_route_embedding_dim_4_location_embedding_dim_5_hash_size_6'"
      ]
     },
     "execution_count": 3,
     "metadata": {},
     "output_type": "execute_result"
    }
   ],
   "execution_count": 3
  },
  {
   "metadata": {},
   "cell_type": "code",
   "outputs": [],
   "execution_count": null,
   "source": "",
   "id": "d41b89f1f116fdae"
  },
  {
   "metadata": {},
   "cell_type": "code",
   "outputs": [],
   "execution_count": null,
   "source": "",
   "id": "64ca93f11930ef39"
  },
  {
   "metadata": {},
   "cell_type": "markdown",
   "source": "# 판다스 공백 줄 인식 테스트",
   "id": "a42627a8098a694b"
  },
  {
   "metadata": {
    "ExecuteTime": {
     "end_time": "2024-08-29T23:08:11.413652Z",
     "start_time": "2024-08-29T23:08:11.400652Z"
    }
   },
   "cell_type": "code",
   "source": [
    "import pandas as pd\n",
    "train_csv = 'dataset/공백제거테스트.csv'\n",
    "train_data = pd.read_csv(train_csv).dropna(how='all')\n",
    "# train_data = pd.read_csv(train_csv, skipinitialspace=True).dropna(how='all')\n",
    "\n",
    "train_data"
   ],
   "id": "21f756ed2c6fe248",
   "outputs": [
    {
     "data": {
      "text/plain": [
       "   DAY_TYPE  BUSROUTE_ID  LOCATION_ID DEP_TIME  DEP_TIME1  TIME_GAP  DTCNT \n",
       "0         1    100100091    100000032    00:01          0        59      16\n",
       "1         1    100100091    100000033    00:00          0        28       9\n",
       "2         1    100100091    100000106    00:04          0        87      26\n",
       "3         1    100100091    100000107    00:03          0        17      26\n",
       "4         1    100100091    100000330    00:00          0        28      30"
      ],
      "text/html": [
       "<div>\n",
       "<style scoped>\n",
       "    .dataframe tbody tr th:only-of-type {\n",
       "        vertical-align: middle;\n",
       "    }\n",
       "\n",
       "    .dataframe tbody tr th {\n",
       "        vertical-align: top;\n",
       "    }\n",
       "\n",
       "    .dataframe thead th {\n",
       "        text-align: right;\n",
       "    }\n",
       "</style>\n",
       "<table border=\"1\" class=\"dataframe\">\n",
       "  <thead>\n",
       "    <tr style=\"text-align: right;\">\n",
       "      <th></th>\n",
       "      <th>DAY_TYPE</th>\n",
       "      <th>BUSROUTE_ID</th>\n",
       "      <th>LOCATION_ID</th>\n",
       "      <th>DEP_TIME</th>\n",
       "      <th>DEP_TIME1</th>\n",
       "      <th>TIME_GAP</th>\n",
       "      <th>DTCNT</th>\n",
       "    </tr>\n",
       "  </thead>\n",
       "  <tbody>\n",
       "    <tr>\n",
       "      <th>0</th>\n",
       "      <td>1</td>\n",
       "      <td>100100091</td>\n",
       "      <td>100000032</td>\n",
       "      <td>00:01</td>\n",
       "      <td>0</td>\n",
       "      <td>59</td>\n",
       "      <td>16</td>\n",
       "    </tr>\n",
       "    <tr>\n",
       "      <th>1</th>\n",
       "      <td>1</td>\n",
       "      <td>100100091</td>\n",
       "      <td>100000033</td>\n",
       "      <td>00:00</td>\n",
       "      <td>0</td>\n",
       "      <td>28</td>\n",
       "      <td>9</td>\n",
       "    </tr>\n",
       "    <tr>\n",
       "      <th>2</th>\n",
       "      <td>1</td>\n",
       "      <td>100100091</td>\n",
       "      <td>100000106</td>\n",
       "      <td>00:04</td>\n",
       "      <td>0</td>\n",
       "      <td>87</td>\n",
       "      <td>26</td>\n",
       "    </tr>\n",
       "    <tr>\n",
       "      <th>3</th>\n",
       "      <td>1</td>\n",
       "      <td>100100091</td>\n",
       "      <td>100000107</td>\n",
       "      <td>00:03</td>\n",
       "      <td>0</td>\n",
       "      <td>17</td>\n",
       "      <td>26</td>\n",
       "    </tr>\n",
       "    <tr>\n",
       "      <th>4</th>\n",
       "      <td>1</td>\n",
       "      <td>100100091</td>\n",
       "      <td>100000330</td>\n",
       "      <td>00:00</td>\n",
       "      <td>0</td>\n",
       "      <td>28</td>\n",
       "      <td>30</td>\n",
       "    </tr>\n",
       "  </tbody>\n",
       "</table>\n",
       "</div>"
      ]
     },
     "execution_count": 5,
     "metadata": {},
     "output_type": "execute_result"
    }
   ],
   "execution_count": 5
  },
  {
   "metadata": {},
   "cell_type": "code",
   "outputs": [],
   "execution_count": null,
   "source": "",
   "id": "cfddbf1d6309314b"
  }
 ],
 "metadata": {
  "kernelspec": {
   "display_name": "Python 3",
   "language": "python",
   "name": "python3"
  },
  "language_info": {
   "codemirror_mode": {
    "name": "ipython",
    "version": 2
   },
   "file_extension": ".py",
   "mimetype": "text/x-python",
   "name": "python",
   "nbconvert_exporter": "python",
   "pygments_lexer": "ipython2",
   "version": "2.7.6"
  }
 },
 "nbformat": 4,
 "nbformat_minor": 5
}
