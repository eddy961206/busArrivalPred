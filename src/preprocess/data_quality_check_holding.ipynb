{
 "cells": [
  {
   "cell_type": "markdown",
   "id": "dba4482ba4234e4",
   "metadata": {},
   "source": [
    "# 정차시간 데이터셋 품질 검사"
   ]
  },
  {
   "cell_type": "code",
   "execution_count": 6,
   "id": "691d1fd2d26a00f3",
   "metadata": {
    "ExecuteTime": {
     "end_time": "2024-09-30T06:59:10.816352Z",
     "start_time": "2024-09-30T06:59:10.806335Z"
    }
   },
   "outputs": [],
   "source": [
    "import matplotlib.font_manager as fm\n",
    "import pandas as pd\n",
    "import numpy as np\n",
    "import matplotlib.pyplot as plt\n",
    "import seaborn as sns\n",
    "\n",
    "# 설치된 폰트 출력\n",
    "font_list = [font.name for font in fm.fontManager.ttflist]\n",
    "plt.rcParams['font.family'] = 'Malgun Gothic'\n",
    "\n",
    "csv = '../../dataset/train/holding/240930_노선1개_3.4~9.23_평일_속도X/정차_train.csv'"
   ]
  },
  {
   "cell_type": "markdown",
   "id": "443bec9b917cab44",
   "metadata": {},
   "source": [
    "# TIME_GAP 이상치 PLOTLY\n"
   ]
  },
  {
   "cell_type": "code",
   "execution_count": 2,
   "id": "d0e48e27080a52e3",
   "metadata": {
    "ExecuteTime": {
     "end_time": "2024-09-30T06:58:39.202941Z",
     "start_time": "2024-09-30T06:58:39.116926Z"
    }
   },
   "outputs": [],
   "source": [
    "import pandas as pd\n",
    "import plotly.express as px\n",
    "import plotly.graph_objects as go\n",
    "\n",
    "def show_time_gap_outliers_plotly(df):\n",
    "    # df = df[df['TIME_GAP'] < 500000]\n",
    "    df['TIME_GAP_MINUTES'] = df['TIME_GAP'] / 60\n",
    "\n",
    "    Q1 = df['TIME_GAP'].quantile(0.25)\n",
    "    Q3 = df['TIME_GAP'].quantile(0.75)\n",
    "    IQR = Q3 - Q1\n",
    "    lower_bound = Q1 - 1.5 * IQR\n",
    "    upper_bound = Q3 + 1.5 * IQR\n",
    "    # upper_bound = 300  # 상위 이상치 기준을 300초로 수동 설정\n",
    "\n",
    "    lower_outliers = df[df['TIME_GAP'] < lower_bound]\n",
    "    upper_outliers = df[df['TIME_GAP'] > upper_bound]\n",
    "\n",
    "    outliers = df[(df['TIME_GAP'] < lower_bound) | (df['TIME_GAP'] > upper_bound)]\n",
    "    print(f\"이상치 개수: {len(outliers)}\")\n",
    "    print(\"\\n이상치 상위 20개:\")\n",
    "    print(outliers.sort_values('TIME_GAP', ascending=False).head(20))\n",
    "\n",
    "    print(f\"상하위 이상치 기준점:\")\n",
    "    print(f\" - Lower Bound (하위 이상치 기준점): {lower_bound:.2f}\")\n",
    "    print(f\" - Upper Bound (상위 이상치 기준점): {upper_bound:.2f}\")\n",
    "\n",
    "    print(f\"\\n이상치 개수:\")\n",
    "    print(f\" - 상위 이상치 개수 (Upper Outliers): {len(upper_outliers)}\")\n",
    "    print(f\" - 하위 이상치 개수 (Lower Outliers): {len(lower_outliers)}\")\n",
    "\n",
    "    print(\"\\n하위 이상치 데이터 (상위 5개):\")\n",
    "    print(lower_outliers.sort_values('TIME_GAP', ascending=True).head())\n",
    "\n",
    "    # Plotly Box Plot 생성\n",
    "    fig = go.Figure(\n",
    "        data=[\n",
    "            go.Box(y=df['TIME_GAP'], name=\"TIME_GAP\", boxpoints='outliers')\n",
    "        ]\n",
    "    )\n",
    "\n",
    "    fig.update_layout(\n",
    "        title='TIME_GAP 분포와 이상치 (Plotly)',\n",
    "        yaxis_title='TIME_GAP (초)'\n",
    "    )\n",
    "\n",
    "    fig.show()\n",
    "\n",
    "    # Plotly를 사용한 히스토그램 생성\n",
    "    fig = go.Figure(data=[go.Histogram(x=df['TIME_GAP_MINUTES'],\n",
    "                                       nbinsx=50,  # 막대의 개수\n",
    "                                       autobinx=False,  # 자동 bin 설정 해제\n",
    "                                       xbins=dict(start=0, end=50, size=1),  # 0~50분, 1분 간격\n",
    "                                       marker_color='lightblue',\n",
    "                                       opacity=0.75)])\n",
    "\n",
    "    # 그래프 레이아웃 설정\n",
    "    fig.update_layout(\n",
    "        title='Distribution of TIME_GAP (Minutes)',\n",
    "        xaxis_title='Time Gap (minutes)',\n",
    "        yaxis_title='Frequency',\n",
    "        bargap=0.1,  # 막대 사이의 간격\n",
    "    )\n",
    "\n",
    "    # x축 범위 설정 (0~50분)\n",
    "    fig.update_xaxes(range=[0, 50])\n",
    "\n",
    "    # 그래프 표시\n",
    "    fig.show()\n",
    "    "
   ]
  },
  {
   "cell_type": "code",
   "execution_count": null,
   "id": "8c8302074dd55c7e",
   "metadata": {
    "ExecuteTime": {
     "end_time": "2024-09-30T06:59:15.620503Z",
     "start_time": "2024-09-30T06:59:13.250908Z"
    }
   },
   "outputs": [],
   "source": [
    "# csv = '../../dataset/train/holding/240920/금요일/정차시간_4_5_금요일학습데이터.csv'\n",
    "# csv = '../../dataset/inference/holding/240920/금요일/정차시간_4_5_금요일학습데이터.csv'\n",
    "dtype_spec = {\n",
    "    'DAY_TYPE': 'int8',\n",
    "    'BUSROUTE_ID': 'str',\n",
    "    'BUSSTOP_ID': 'str',\n",
    "    'DEP_TIME': 'str',\n",
    "    'TIME_GAP': 'int32'\n",
    "}\n",
    "# usecols = ['DAY_TYPE', 'BUSROUTE_ID', 'BUSSTOP_ID', 'DEP_TIME']\n",
    "usecols = ['DAY_TYPE', 'BUSROUTE_ID', 'BUSSTOP_ID', 'DEP_TIME', 'TIME_GAP']\n",
    "\n",
    "data_pd = pd.read_csv(csv, skipinitialspace=True, usecols=usecols, dtype=dtype_spec)\n",
    "\n",
    "show_time_gap_outliers_plotly(data_pd)"
   ]
  },
  {
   "cell_type": "code",
   "execution_count": null,
   "id": "2f30dfdbff70ec13",
   "metadata": {},
   "outputs": [],
   "source": []
  },
  {
   "cell_type": "markdown",
   "id": "824fcc7ab9a285b6",
   "metadata": {},
   "source": [
    "# 필터링 파일 저장"
   ]
  },
  {
   "cell_type": "code",
   "execution_count": 4,
   "id": "c35746296a48a85",
   "metadata": {
    "ExecuteTime": {
     "end_time": "2024-09-27T01:20:13.629370Z",
     "start_time": "2024-09-27T01:20:13.610252Z"
    }
   },
   "outputs": [],
   "source": [
    "import pandas as pd\n",
    "import os\n",
    "\n",
    "def filter_and_save_data(df, output_file='filtered_data.csv'):\n",
    "    original_count = len(df)\n",
    "    print(f\"초기 데이터 행 수: {original_count}\")\n",
    "\n",
    "    # 2. 중복 행 제거\n",
    "    filtered_df = df.drop_duplicates()\n",
    "    removed_count_duplicates = original_count - len(filtered_df)\n",
    "    print(f\"중복된 {removed_count_duplicates}개의 행이 제거되었습니다. 남은 행 수: {len(filtered_df)}\")\n",
    "    \n",
    "    # 3. TIME_GAP이 0이거나 120보다 큰 행 제외\n",
    "    original_count = len(filtered_df)\n",
    "    filtered_df = filtered_df[(filtered_df['TIME_GAP'] > 0) & (filtered_df['TIME_GAP'] <= 120)]\n",
    "    removed_count_time_gap = original_count - len(filtered_df)\n",
    "    print(f\"정차시간(TIME_GAP)이 0미만 이거나 120초보다 큰 {removed_count_time_gap}개의 행이 제거되었습니다. 남은 행 수: {len(filtered_df)}\")\n",
    "    \n",
    "    # 결과를 새로운 CSV 파일로 저장\n",
    "    filtered_df.to_csv(output_file, index=False)\n",
    "    print(f\"필터링된 데이터를 '{output_file}'로 저장했습니다. 최종 행 수: {len(filtered_df)}\")"
   ]
  },
  {
   "cell_type": "code",
   "execution_count": 5,
   "id": "131f398454265791",
   "metadata": {
    "ExecuteTime": {
     "end_time": "2024-09-27T01:20:18.597743Z",
     "start_time": "2024-09-27T01:20:17.653395Z"
    }
   },
   "outputs": [
    {
     "name": "stdout",
     "output_type": "stream",
     "text": [
      "초기 데이터 행 수: 749804\n",
      "중복된 20609개의 행이 제거되었습니다. 남은 행 수: 729195\n",
      "정차시간(TIME_GAP)이 0미만 이거나 120초보다 큰 0개의 행이 제거되었습니다. 남은 행 수: 729195\n",
      "필터링된 데이터를 '../../dataset/train/holding/240927_7,8공휴일\\정차_7,8공휴일_train_filtered.csv'로 저장했습니다. 최종 행 수: 729195\n"
     ]
    }
   ],
   "source": [
    "\n",
    "# csv = '../../dataset/train/holding/240920/금요일/정차시간_4_5_금요일학습데이터.csv'\n",
    "# dtype_spec = {\n",
    "#     'DAY_TYPE': 'int8',\n",
    "#     'BUSROUTE_ID': 'str',\n",
    "#     'BUSSTOP_ID': 'str',\n",
    "#     'DEP_TIME': 'str',\n",
    "#     'TIME_GAP': 'int32'\n",
    "# }\n",
    "# usecols = ['DAY_TYPE', 'BUSROUTE_ID', 'BUSSTOP_ID', 'DEP_TIME', 'TIME_GAP']\n",
    "\n",
    "# 원본 데이터를 불러온 후 함수 호출\n",
    "data_pd = pd.read_csv(csv, skipinitialspace=True, usecols=usecols, dtype=dtype_spec)\n",
    "\n",
    "# 결과 저장\n",
    "input_filename = os.path.basename(csv)\n",
    "output_filename = os.path.splitext(input_filename)[0] + '_filtered.csv'\n",
    "result_file = os.path.join(os.path.dirname(csv), output_filename)\n",
    "\n",
    "\n",
    "filter_and_save_data(data_pd, result_file)\n"
   ]
  },
  {
   "cell_type": "markdown",
   "id": "f6ba72e14668aa5a",
   "metadata": {},
   "source": [
    "# 중복되는 행 찾기"
   ]
  },
  {
   "cell_type": "code",
   "execution_count": 4,
   "id": "1749e0b8dd187f7d",
   "metadata": {
    "ExecuteTime": {
     "end_time": "2024-09-26T05:39:27.264820Z",
     "start_time": "2024-09-26T05:39:27.139865Z"
    }
   },
   "outputs": [
    {
     "name": "stdout",
     "output_type": "stream",
     "text": [
      "Index(['DAY_TYPE', 'BUSROUTE_ID', 'BUSSTOP_ID', 'DEP_TIME', 'TIME_GAP'], dtype='object')\n"
     ]
    }
   ],
   "source": [
    "# 중복되는 행 찾기\n",
    "def find_duplicate_rows(df):\n",
    "    duplicate_rows = df[df.duplicated()]\n",
    "    return duplicate_rows\n",
    "# csv = '../../dataset/train/holding/240920/금요일/정차시간_4_5_금요일학습데이터.csv'\n",
    "\n",
    "df = pd.read_csv(csv, usecols=usecols, dtype=dtype_spec)\n",
    "duplicate_rows = find_duplicate_rows(df)\n",
    "duplicate_rows\n",
    "\n",
    "print(df.columns)"
   ]
  },
  {
   "cell_type": "markdown",
   "id": "4a7eaeaf742823c9",
   "metadata": {},
   "source": [
    "# Plotly를 사용한 TIME_GAP 히스토그램 생성"
   ]
  },
  {
   "cell_type": "code",
   "execution_count": null,
   "id": "c225df5f3b8c4747",
   "metadata": {},
   "outputs": [],
   "source": []
  },
  {
   "cell_type": "code",
   "execution_count": null,
   "id": "586181dcd79d7631",
   "metadata": {},
   "outputs": [],
   "source": []
  },
  {
   "cell_type": "code",
   "execution_count": null,
   "id": "117c0b7f36714706",
   "metadata": {},
   "outputs": [],
   "source": []
  }
 ],
 "metadata": {
  "kernelspec": {
   "display_name": "Python 3",
   "language": "python",
   "name": "python3"
  },
  "language_info": {
   "codemirror_mode": {
    "name": "ipython",
    "version": 2
   },
   "file_extension": ".py",
   "mimetype": "text/x-python",
   "name": "python",
   "nbconvert_exporter": "python",
   "pygments_lexer": "ipython2",
   "version": "2.7.6"
  }
 },
 "nbformat": 4,
 "nbformat_minor": 5
}
