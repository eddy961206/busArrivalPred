{
 "cells": [
  {
   "metadata": {},
   "cell_type": "code",
   "outputs": [],
   "execution_count": null,
   "source": "",
   "id": "29d0e9f4e027752e"
  },
  {
   "metadata": {},
   "cell_type": "code",
   "outputs": [],
   "execution_count": null,
   "source": "",
   "id": "5068c3ecabd8bc0f"
  },
  {
   "metadata": {
    "ExecuteTime": {
     "end_time": "2024-10-04T08:39:45.201552Z",
     "start_time": "2024-10-04T08:39:43.528018Z"
    }
   },
   "cell_type": "code",
   "source": [
    "import pandas as pd\n",
    "import plotly.graph_objects as go\n",
    "from plotly.subplots import make_subplots\n",
    "\n",
    "# 1. 데이터 불러오기\n",
    "csv_file = '../../dataset/inference/travel/241004_노선모두_8.28~9.11_평일_속도X/0926_평일_속도X_모든노선_추론결과.csv'\n",
    "df = pd.read_csv(csv_file)\n",
    "\n",
    "# 2. 실제 이벤트 시간 데이터를 분 단위로 변환\n",
    "df['TRAVEL_TIME_EVENT_MIN'] = df['TRAVEL_TIME_EVENT'] / 60  # 실제 이벤트 소통 시간 분 단위 변환\n",
    "df['SERVICE_TIME_EVENT_MIN'] = df['SERVICE_TIME_EVENT'] / 60  # 실제 이벤트 정차 시간 분 단위 변환\n",
    "\n",
    "# 3. 데이터 필터링: 소통시간과 정차시간 관련 데이터에서 AI, BIS, 실제 이벤트 값이 모두 존재하는 행만 남기기\n",
    "# 소통시간 관련 데이터 필터링\n",
    "df_filtered_travel = df[['TRAVEL_TIME_EVENT_MIN', 'DIFF_EVENT_AI', 'DIFF_EVENT_BIS']].dropna().copy()\n",
    "# df_filtered_travel = df_filtered_travel[df_filtered_travel['TRAVEL_TIME_EVENT_MIN'] > 1]\n",
    "df_filtered_travel = df_filtered_travel[df_filtered_travel['TRAVEL_TIME_EVENT_MIN'] >= 0]\n",
    "\n",
    "# 정차시간 관련 데이터 필터링\n",
    "df_filtered_service = df[['SERVICE_TIME_EVENT_MIN', 'DIFF_EVENT_SERVICE_AI', 'DIFF_EVENT_SERVICE_BIS']].dropna().copy()\n",
    "# df_filtered_service = df_filtered_service[df_filtered_service['SERVICE_TIME_EVENT_MIN'] > 1]\n",
    "df_filtered_service = df_filtered_service[df_filtered_service['SERVICE_TIME_EVENT_MIN'] >= 0]\n",
    "df_filtered_service = df_filtered_service[df_filtered_service['SERVICE_TIME_EVENT_MIN'] <= 5]\n",
    "\n",
    "# 4. 구간화: 1분 단위로 구간을 나눕니다.\n",
    "# TRAVEL_TIME_EVENT_MIN 구간화\n",
    "max_travel = df_filtered_travel['TRAVEL_TIME_EVENT_MIN'].max()\n",
    "# travel_bins = list(range(1, int(max_travel) + 2))  # 1부터 최대 시간 +1까지\n",
    "# travel_labels = [f\"{i}-{i+1}분\" for i in range(1, int(max_travel) + 1)]\n",
    "travel_bins = list(range(0, int(max_travel) + 2))  # 0부터 최대 시간 +1까지\n",
    "travel_labels = [f\"{i}-{i+1}분\" for i in range(0, int(max_travel) + 1)]\n",
    "df_filtered_travel['TRAVEL_BIN'] = pd.cut(df_filtered_travel['TRAVEL_TIME_EVENT_MIN'],\n",
    "                                         bins=travel_bins,\n",
    "                                         labels=travel_labels,\n",
    "                                         right=False)\n",
    "\n",
    "# SERVICE_TIME_EVENT_MIN 구간화\n",
    "max_service = df_filtered_service['SERVICE_TIME_EVENT_MIN'].max()\n",
    "# service_bins = list(range(1, int(max_service) + 2))\n",
    "# service_labels = [f\"{i}-{i+1}분\" for i in range(1, int(max_service) + 1)]\n",
    "service_bins = list(range(0, int(max_service) + 2))\n",
    "service_labels = [f\"{i}-{i+1}분\" for i in range(0, int(max_service) + 1)]\n",
    "df_filtered_service['SERVICE_BIN'] = pd.cut(df_filtered_service['SERVICE_TIME_EVENT_MIN'],\n",
    "                                           bins=service_bins,\n",
    "                                           labels=service_labels,\n",
    "                                           right=False)\n",
    "\n",
    "# 5. 구간별 평균 오차 계산\n",
    "# TRAVEL_TIME_EVENT_MIN 구간별\n",
    "travel_group = df_filtered_travel.groupby('TRAVEL_BIN').agg(\n",
    "    DIFF_EVENT_AI_MEAN=('DIFF_EVENT_AI', 'mean'),   # 실제 이벤트 - AI 소통시간 예측\n",
    "    DIFF_EVENT_BIS_MEAN=('DIFF_EVENT_BIS', 'mean'),  # 실제 이벤트 - BIS 소통시간 예측\n",
    "    COUNT=('TRAVEL_TIME_EVENT_MIN', 'size')          # 구간별 데이터 개수\n",
    ").reset_index()\n",
    "\n",
    "# SERVICE_TIME_EVENT 구간별\n",
    "service_group = df_filtered_service.groupby('SERVICE_BIN').agg(\n",
    "    DIFF_EVENT_SERVICE_AI_MEAN=('DIFF_EVENT_SERVICE_AI', 'mean'),   # 실제 이벤트 - AI 정차시간 예측\n",
    "    DIFF_EVENT_SERVICE_BIS_MEAN=('DIFF_EVENT_SERVICE_BIS', 'mean'),  # 실제 이벤트 - BIS 정차시간 예측\n",
    "    COUNT=('SERVICE_TIME_EVENT_MIN', 'size')                        # 구간별 데이터 개수\n",
    ").reset_index()\n",
    "\n",
    "# 6. 전체 평균 오차 및 향상 비율 계산\n",
    "# TRAVEL_TIME_EVENT 전체 평균 오차 계산\n",
    "mean_diff_event_ai_travel = df_filtered_travel['DIFF_EVENT_AI'].mean()\n",
    "mean_diff_event_bis_travel = df_filtered_travel['DIFF_EVENT_BIS'].mean()\n",
    "\n",
    "# SERVICE_TIME_EVENT 전체 평균 오차 계산\n",
    "mean_diff_event_ai_service = df_filtered_service['DIFF_EVENT_SERVICE_AI'].mean()\n",
    "mean_diff_event_bis_service = df_filtered_service['DIFF_EVENT_SERVICE_BIS'].mean()\n",
    "\n",
    "# 소통시간 정확도 향상 비율 계산 (%)\n",
    "improvement_travel = ((mean_diff_event_bis_travel - mean_diff_event_ai_travel) / mean_diff_event_bis_travel) * 100 if mean_diff_event_bis_travel != 0 else 0\n",
    "\n",
    "# 정차시간 정확도 향상 비율 계산 (%)\n",
    "improvement_service = ((mean_diff_event_bis_service - mean_diff_event_ai_service) / mean_diff_event_bis_service) * 100 if mean_diff_event_bis_service != 0 else 0\n",
    "\n",
    "# 7. 소수점 없애기 위해 숫자를 정수로 변환하기 전에 NaN 값을 처리\n",
    "travel_group['DIFF_EVENT_AI_MEAN'] = travel_group['DIFF_EVENT_AI_MEAN'].fillna(0).round(0).astype(int)\n",
    "travel_group['DIFF_EVENT_BIS_MEAN'] = travel_group['DIFF_EVENT_BIS_MEAN'].fillna(0).round(0).astype(int)\n",
    "service_group['DIFF_EVENT_SERVICE_AI_MEAN'] = service_group['DIFF_EVENT_SERVICE_AI_MEAN'].fillna(0).round(0).astype(int)\n",
    "service_group['DIFF_EVENT_SERVICE_BIS_MEAN'] = service_group['DIFF_EVENT_SERVICE_BIS_MEAN'].fillna(0).round(0).astype(int)\n",
    "\n",
    "# 8. Plotly 시각화\n",
    "# 서브플롯 생성: 2행 1열\n",
    "fig = make_subplots(rows=2, cols=1,\n",
    "                    subplot_titles=(\"소통시간 이벤트 오차\", \"정차시간 이벤트 오차\"),\n",
    "                    shared_xaxes=False)\n",
    "\n",
    "# 첫 번째 서브플롯: Travel Time\n",
    "fig.add_trace(\n",
    "    go.Bar(\n",
    "        x=travel_group['TRAVEL_BIN'],\n",
    "        y=travel_group['DIFF_EVENT_AI_MEAN'],\n",
    "        name='AI 모델',\n",
    "        marker_color='indianred',\n",
    "        text=travel_group['DIFF_EVENT_AI_MEAN'],  # 평균 오차 값을 텍스트로 표시\n",
    "        textposition='outside'  # 텍스트를 막대 위에 표시\n",
    "    ),\n",
    "    row=1, col=1\n",
    ")\n",
    "\n",
    "fig.add_trace(\n",
    "    go.Bar(\n",
    "        x=travel_group['TRAVEL_BIN'],\n",
    "        y=travel_group['DIFF_EVENT_BIS_MEAN'],\n",
    "        name='현 BIS',\n",
    "        marker_color='lightsalmon',\n",
    "        text=travel_group['DIFF_EVENT_BIS_MEAN'],  # 평균 오차 값을 텍스트로 표시\n",
    "        textposition='outside'  # 텍스트를 막대 위에 표시\n",
    "    ),\n",
    "    row=1, col=1\n",
    ")\n",
    "\n",
    "# 두 번째 서브플롯: Service Time\n",
    "fig.add_trace(\n",
    "    go.Bar(\n",
    "        x=service_group['SERVICE_BIN'],\n",
    "        y=service_group['DIFF_EVENT_SERVICE_AI_MEAN'],\n",
    "        name='AI 모델',\n",
    "        marker_color='mediumseagreen',\n",
    "        text=service_group['DIFF_EVENT_SERVICE_AI_MEAN'],  # 평균 오차 값을 텍스트로 표시\n",
    "        textposition='outside'  # 텍스트를 막대 위에 표시\n",
    "    ),\n",
    "    row=2, col=1\n",
    ")\n",
    "\n",
    "fig.add_trace(\n",
    "    go.Bar(\n",
    "        x=service_group['SERVICE_BIN'],\n",
    "        y=service_group['DIFF_EVENT_SERVICE_BIS_MEAN'],\n",
    "        name='현 BIS',\n",
    "        marker_color='lightgreen',\n",
    "        text=service_group['DIFF_EVENT_SERVICE_BIS_MEAN'],  # 평균 오차 값을 텍스트로 표시\n",
    "        textposition='outside'  # 텍스트를 막대 위에 표시\n",
    "    ),\n",
    "    row=2, col=1\n",
    ")\n",
    "\n",
    "# 텍스트 주석 추가\n",
    "fig.add_annotation(\n",
    "    text=f\"AI 모델 예측 평균 오차: {mean_diff_event_ai_travel:.1f}초<br>현 BIS 예측 평균 오차: {mean_diff_event_bis_travel:.1f}초<br>현 BIS 대비 AI 모델 정확도 향상: {improvement_travel:.1f}%\",\n",
    "    xref=\"x domain\",\n",
    "    yref=\"y domain\",\n",
    "    x=0.5,\n",
    "    y=0.95,\n",
    "    showarrow=False,\n",
    "    font=dict(size=12, color=\"indianred\"),\n",
    "    align=\"center\",\n",
    "    row=1,\n",
    "    col=1\n",
    ")\n",
    "\n",
    "fig.add_annotation(\n",
    "    text=f\"AI 모델 예측 평균 오차: {mean_diff_event_ai_service:.1f}초<br>현 BIS 예측 평균 오차: {mean_diff_event_bis_service:.1f}초<br>현 BIS 대비 AI 모델 정확도 향상: {improvement_service:.1f}%\",\n",
    "    xref=\"x domain\",\n",
    "    yref=\"y domain\",\n",
    "    x=0.5,\n",
    "    y=0.95,\n",
    "    showarrow=False,\n",
    "    font=dict(size=12, color=\"mediumseagreen\"),\n",
    "    align=\"center\",\n",
    "    row=2,\n",
    "    col=1\n",
    ")\n",
    "\n",
    "# 첫 번째 서브플롯의 X축에 데이터 개수 표시 (소통시간)\n",
    "for i, (bin_label, count) in enumerate(zip(travel_group['TRAVEL_BIN'], travel_group['COUNT'])):\n",
    "    fig.add_annotation(\n",
    "        text=f\"{count}개\",  # 데이터 개수 표시\n",
    "        x=bin_label,\n",
    "        y=-5,  # X축 바로 아래에 표시\n",
    "        xref=\"x\",  # X축 기준으로 위치 설정\n",
    "        yref=\"paper\",  # Y축은 전체 그래프 영역 기준으로 설정\n",
    "        showarrow=False,\n",
    "        font=dict(size=12),\n",
    "        row=1,  # 첫 번째 서브플롯\n",
    "        col=1\n",
    "    )\n",
    "\n",
    "# 두 번째 서브플롯의 X축에 데이터 개수 표시 (정차시간)\n",
    "for i, (bin_label, count) in enumerate(zip(service_group['SERVICE_BIN'], service_group['COUNT'])):\n",
    "    fig.add_annotation(\n",
    "        text=f\"{count}개\",  # 데이터 개수 표시\n",
    "        x=bin_label,\n",
    "        y=-5,  # X축 바로 아래에 표시\n",
    "        xref=\"x\",  # X축 기준으로 위치 설정\n",
    "        yref=\"paper\",  # Y축은 전체 그래프 영역 기준으로 설정\n",
    "        showarrow=False,\n",
    "        font=dict(size=12),\n",
    "        row=2,  # 두 번째 서브플롯\n",
    "        col=1\n",
    "    )\n",
    "\n",
    "\n",
    "# 레이아웃 업데이트 (수정)\n",
    "fig.update_layout(\n",
    "    title_text=\"AI 모델과 BIS 시스템의 Travel 및 Service Time 예측 오차 비교\",\n",
    "    barmode='group',\n",
    "    height=1000,\n",
    "    margin=dict(t=150)  # 상단 마진을 늘려 주석 공간 확보\n",
    ")\n",
    "\n",
    "# 소통시간 (Travel Time) 서브플롯의 X축 레이블 스타일 변경\n",
    "fig.update_xaxes(\n",
    "    title_text=\"실제 이벤트 소통시간 (분)\", \n",
    "    row=1, \n",
    "    col=1,\n",
    "    tickfont=dict(size=14, color='white')  # 글자 크기와 색상 설정\n",
    ")\n",
    "fig.update_yaxes(title_text=\"평균 오차 (초)\", row=1, col=1)\n",
    "\n",
    "# 정차시간 (Service Time) 서브플롯의 X축 레이블 스타일 변경\n",
    "fig.update_xaxes(\n",
    "    title_text=\"실제 이벤트 정차시간 (분)\", \n",
    "    row=2, \n",
    "    col=1,\n",
    "    tickfont=dict(size=14, color='white')  # 글자 크기와 색상 설정\n",
    ")\n",
    "fig.update_yaxes(title_text=\"평균 오차 (초)\", row=2, col=1)\n",
    "\n",
    "# 범례 위치 조정\n",
    "fig.update_layout(legend=dict(\n",
    "    orientation=\"h\",\n",
    "    yanchor=\"bottom\",\n",
    "    y=1.02,\n",
    "    xanchor=\"right\",\n",
    "    x=1\n",
    "))\n",
    "\n",
    "# 그래프 표시\n",
    "fig.show()\n"
   ],
   "id": "886cf15cd02f4a60",
   "outputs": [
    {
     "name": "stderr",
     "output_type": "stream",
     "text": [
      "C:\\Users\\seung\\AppData\\Local\\Temp\\ipykernel_5180\\349242266.py:50: FutureWarning:\n",
      "\n",
      "The default of observed=False is deprecated and will be changed to True in a future version of pandas. Pass observed=False to retain current behavior or observed=True to adopt the future default and silence this warning.\n",
      "\n",
      "C:\\Users\\seung\\AppData\\Local\\Temp\\ipykernel_5180\\349242266.py:57: FutureWarning:\n",
      "\n",
      "The default of observed=False is deprecated and will be changed to True in a future version of pandas. Pass observed=False to retain current behavior or observed=True to adopt the future default and silence this warning.\n",
      "\n"
     ]
    },
    {
     "data": {
      "application/vnd.plotly.v1+json": {
       "data": [
        {
         "marker": {
          "color": "indianred"
         },
         "name": "AI 모델",
         "text": [
          18.0,
          24.0,
          38.0,
          55.0,
          83.0,
          124.0,
          184.0,
          222.0,
          408.0,
          436.0,
          430.0,
          0.0,
          458.0,
          621.0,
          705.0,
          782.0,
          0.0,
          0.0,
          0.0,
          0.0,
          0.0,
          0.0,
          0.0,
          0.0,
          0.0,
          0.0,
          0.0,
          0.0,
          0.0,
          1658.0,
          0.0,
          0.0,
          0.0,
          0.0,
          0.0,
          0.0,
          0.0,
          0.0,
          0.0,
          0.0,
          0.0,
          0.0,
          0.0,
          0.0,
          0.0,
          0.0,
          0.0,
          0.0,
          0.0,
          2786.0
         ],
         "textposition": "outside",
         "x": [
          "0-1분",
          "1-2분",
          "2-3분",
          "3-4분",
          "4-5분",
          "5-6분",
          "6-7분",
          "7-8분",
          "8-9분",
          "9-10분",
          "10-11분",
          "11-12분",
          "12-13분",
          "13-14분",
          "14-15분",
          "15-16분",
          "16-17분",
          "17-18분",
          "18-19분",
          "19-20분",
          "20-21분",
          "21-22분",
          "22-23분",
          "23-24분",
          "24-25분",
          "25-26분",
          "26-27분",
          "27-28분",
          "28-29분",
          "29-30분",
          "30-31분",
          "31-32분",
          "32-33분",
          "33-34분",
          "34-35분",
          "35-36분",
          "36-37분",
          "37-38분",
          "38-39분",
          "39-40분",
          "40-41분",
          "41-42분",
          "42-43분",
          "43-44분",
          "44-45분",
          "45-46분",
          "46-47분",
          "47-48분",
          "48-49분",
          "49-50분"
         ],
         "y": [
          18,
          24,
          38,
          55,
          83,
          124,
          184,
          222,
          408,
          436,
          430,
          0,
          458,
          621,
          705,
          782,
          0,
          0,
          0,
          0,
          0,
          0,
          0,
          0,
          0,
          0,
          0,
          0,
          0,
          1658,
          0,
          0,
          0,
          0,
          0,
          0,
          0,
          0,
          0,
          0,
          0,
          0,
          0,
          0,
          0,
          0,
          0,
          0,
          0,
          2786
         ],
         "type": "bar",
         "xaxis": "x",
         "yaxis": "y"
        },
        {
         "marker": {
          "color": "lightsalmon"
         },
         "name": "현 BIS",
         "text": [
          21.0,
          35.0,
          50.0,
          68.0,
          89.0,
          94.0,
          151.0,
          156.0,
          323.0,
          235.0,
          199.0,
          0.0,
          373.0,
          338.0,
          746.0,
          782.0,
          0.0,
          0.0,
          0.0,
          0.0,
          0.0,
          0.0,
          0.0,
          0.0,
          0.0,
          0.0,
          0.0,
          0.0,
          0.0,
          83.0,
          0.0,
          0.0,
          0.0,
          0.0,
          0.0,
          0.0,
          0.0,
          0.0,
          0.0,
          0.0,
          0.0,
          0.0,
          0.0,
          0.0,
          0.0,
          0.0,
          0.0,
          0.0,
          0.0,
          2720.0
         ],
         "textposition": "outside",
         "x": [
          "0-1분",
          "1-2분",
          "2-3분",
          "3-4분",
          "4-5분",
          "5-6분",
          "6-7분",
          "7-8분",
          "8-9분",
          "9-10분",
          "10-11분",
          "11-12분",
          "12-13분",
          "13-14분",
          "14-15분",
          "15-16분",
          "16-17분",
          "17-18분",
          "18-19분",
          "19-20분",
          "20-21분",
          "21-22분",
          "22-23분",
          "23-24분",
          "24-25분",
          "25-26분",
          "26-27분",
          "27-28분",
          "28-29분",
          "29-30분",
          "30-31분",
          "31-32분",
          "32-33분",
          "33-34분",
          "34-35분",
          "35-36분",
          "36-37분",
          "37-38분",
          "38-39분",
          "39-40분",
          "40-41분",
          "41-42분",
          "42-43분",
          "43-44분",
          "44-45분",
          "45-46분",
          "46-47분",
          "47-48분",
          "48-49분",
          "49-50분"
         ],
         "y": [
          21,
          35,
          50,
          68,
          89,
          94,
          151,
          156,
          323,
          235,
          199,
          0,
          373,
          338,
          746,
          782,
          0,
          0,
          0,
          0,
          0,
          0,
          0,
          0,
          0,
          0,
          0,
          0,
          0,
          83,
          0,
          0,
          0,
          0,
          0,
          0,
          0,
          0,
          0,
          0,
          0,
          0,
          0,
          0,
          0,
          0,
          0,
          0,
          0,
          2720
         ],
         "type": "bar",
         "xaxis": "x",
         "yaxis": "y"
        },
        {
         "marker": {
          "color": "mediumseagreen"
         },
         "name": "AI 모델",
         "text": [
          14.0,
          25.0,
          65.0,
          156.0,
          217.0,
          289.0
         ],
         "textposition": "outside",
         "x": [
          "0-1분",
          "1-2분",
          "2-3분",
          "3-4분",
          "4-5분",
          "5-6분"
         ],
         "y": [
          14,
          25,
          65,
          156,
          217,
          289
         ],
         "type": "bar",
         "xaxis": "x2",
         "yaxis": "y2"
        },
        {
         "marker": {
          "color": "lightgreen"
         },
         "name": "현 BIS",
         "text": [
          12.0,
          42.0,
          72.0,
          109.0,
          142.0,
          287.0
         ],
         "textposition": "outside",
         "x": [
          "0-1분",
          "1-2분",
          "2-3분",
          "3-4분",
          "4-5분",
          "5-6분"
         ],
         "y": [
          12,
          42,
          72,
          109,
          142,
          287
         ],
         "type": "bar",
         "xaxis": "x2",
         "yaxis": "y2"
        }
       ],
       "layout": {
        "template": {
         "data": {
          "histogram2dcontour": [
           {
            "type": "histogram2dcontour",
            "colorbar": {
             "outlinewidth": 0,
             "ticks": ""
            },
            "colorscale": [
             [
              0.0,
              "#0d0887"
             ],
             [
              0.1111111111111111,
              "#46039f"
             ],
             [
              0.2222222222222222,
              "#7201a8"
             ],
             [
              0.3333333333333333,
              "#9c179e"
             ],
             [
              0.4444444444444444,
              "#bd3786"
             ],
             [
              0.5555555555555556,
              "#d8576b"
             ],
             [
              0.6666666666666666,
              "#ed7953"
             ],
             [
              0.7777777777777778,
              "#fb9f3a"
             ],
             [
              0.8888888888888888,
              "#fdca26"
             ],
             [
              1.0,
              "#f0f921"
             ]
            ]
           }
          ],
          "choropleth": [
           {
            "type": "choropleth",
            "colorbar": {
             "outlinewidth": 0,
             "ticks": ""
            }
           }
          ],
          "histogram2d": [
           {
            "type": "histogram2d",
            "colorbar": {
             "outlinewidth": 0,
             "ticks": ""
            },
            "colorscale": [
             [
              0.0,
              "#0d0887"
             ],
             [
              0.1111111111111111,
              "#46039f"
             ],
             [
              0.2222222222222222,
              "#7201a8"
             ],
             [
              0.3333333333333333,
              "#9c179e"
             ],
             [
              0.4444444444444444,
              "#bd3786"
             ],
             [
              0.5555555555555556,
              "#d8576b"
             ],
             [
              0.6666666666666666,
              "#ed7953"
             ],
             [
              0.7777777777777778,
              "#fb9f3a"
             ],
             [
              0.8888888888888888,
              "#fdca26"
             ],
             [
              1.0,
              "#f0f921"
             ]
            ]
           }
          ],
          "heatmap": [
           {
            "type": "heatmap",
            "colorbar": {
             "outlinewidth": 0,
             "ticks": ""
            },
            "colorscale": [
             [
              0.0,
              "#0d0887"
             ],
             [
              0.1111111111111111,
              "#46039f"
             ],
             [
              0.2222222222222222,
              "#7201a8"
             ],
             [
              0.3333333333333333,
              "#9c179e"
             ],
             [
              0.4444444444444444,
              "#bd3786"
             ],
             [
              0.5555555555555556,
              "#d8576b"
             ],
             [
              0.6666666666666666,
              "#ed7953"
             ],
             [
              0.7777777777777778,
              "#fb9f3a"
             ],
             [
              0.8888888888888888,
              "#fdca26"
             ],
             [
              1.0,
              "#f0f921"
             ]
            ]
           }
          ],
          "heatmapgl": [
           {
            "type": "heatmapgl",
            "colorbar": {
             "outlinewidth": 0,
             "ticks": ""
            },
            "colorscale": [
             [
              0.0,
              "#0d0887"
             ],
             [
              0.1111111111111111,
              "#46039f"
             ],
             [
              0.2222222222222222,
              "#7201a8"
             ],
             [
              0.3333333333333333,
              "#9c179e"
             ],
             [
              0.4444444444444444,
              "#bd3786"
             ],
             [
              0.5555555555555556,
              "#d8576b"
             ],
             [
              0.6666666666666666,
              "#ed7953"
             ],
             [
              0.7777777777777778,
              "#fb9f3a"
             ],
             [
              0.8888888888888888,
              "#fdca26"
             ],
             [
              1.0,
              "#f0f921"
             ]
            ]
           }
          ],
          "contourcarpet": [
           {
            "type": "contourcarpet",
            "colorbar": {
             "outlinewidth": 0,
             "ticks": ""
            }
           }
          ],
          "contour": [
           {
            "type": "contour",
            "colorbar": {
             "outlinewidth": 0,
             "ticks": ""
            },
            "colorscale": [
             [
              0.0,
              "#0d0887"
             ],
             [
              0.1111111111111111,
              "#46039f"
             ],
             [
              0.2222222222222222,
              "#7201a8"
             ],
             [
              0.3333333333333333,
              "#9c179e"
             ],
             [
              0.4444444444444444,
              "#bd3786"
             ],
             [
              0.5555555555555556,
              "#d8576b"
             ],
             [
              0.6666666666666666,
              "#ed7953"
             ],
             [
              0.7777777777777778,
              "#fb9f3a"
             ],
             [
              0.8888888888888888,
              "#fdca26"
             ],
             [
              1.0,
              "#f0f921"
             ]
            ]
           }
          ],
          "surface": [
           {
            "type": "surface",
            "colorbar": {
             "outlinewidth": 0,
             "ticks": ""
            },
            "colorscale": [
             [
              0.0,
              "#0d0887"
             ],
             [
              0.1111111111111111,
              "#46039f"
             ],
             [
              0.2222222222222222,
              "#7201a8"
             ],
             [
              0.3333333333333333,
              "#9c179e"
             ],
             [
              0.4444444444444444,
              "#bd3786"
             ],
             [
              0.5555555555555556,
              "#d8576b"
             ],
             [
              0.6666666666666666,
              "#ed7953"
             ],
             [
              0.7777777777777778,
              "#fb9f3a"
             ],
             [
              0.8888888888888888,
              "#fdca26"
             ],
             [
              1.0,
              "#f0f921"
             ]
            ]
           }
          ],
          "mesh3d": [
           {
            "type": "mesh3d",
            "colorbar": {
             "outlinewidth": 0,
             "ticks": ""
            }
           }
          ],
          "scatter": [
           {
            "marker": {
             "line": {
              "color": "#283442"
             }
            },
            "type": "scatter"
           }
          ],
          "parcoords": [
           {
            "type": "parcoords",
            "line": {
             "colorbar": {
              "outlinewidth": 0,
              "ticks": ""
             }
            }
           }
          ],
          "scatterpolargl": [
           {
            "type": "scatterpolargl",
            "marker": {
             "colorbar": {
              "outlinewidth": 0,
              "ticks": ""
             }
            }
           }
          ],
          "bar": [
           {
            "error_x": {
             "color": "#f2f5fa"
            },
            "error_y": {
             "color": "#f2f5fa"
            },
            "marker": {
             "line": {
              "color": "rgb(17,17,17)",
              "width": 0.5
             },
             "pattern": {
              "fillmode": "overlay",
              "size": 10,
              "solidity": 0.2
             }
            },
            "type": "bar"
           }
          ],
          "scattergeo": [
           {
            "type": "scattergeo",
            "marker": {
             "colorbar": {
              "outlinewidth": 0,
              "ticks": ""
             }
            }
           }
          ],
          "scatterpolar": [
           {
            "type": "scatterpolar",
            "marker": {
             "colorbar": {
              "outlinewidth": 0,
              "ticks": ""
             }
            }
           }
          ],
          "histogram": [
           {
            "marker": {
             "pattern": {
              "fillmode": "overlay",
              "size": 10,
              "solidity": 0.2
             }
            },
            "type": "histogram"
           }
          ],
          "scattergl": [
           {
            "marker": {
             "line": {
              "color": "#283442"
             }
            },
            "type": "scattergl"
           }
          ],
          "scatter3d": [
           {
            "type": "scatter3d",
            "line": {
             "colorbar": {
              "outlinewidth": 0,
              "ticks": ""
             }
            },
            "marker": {
             "colorbar": {
              "outlinewidth": 0,
              "ticks": ""
             }
            }
           }
          ],
          "scattermapbox": [
           {
            "type": "scattermapbox",
            "marker": {
             "colorbar": {
              "outlinewidth": 0,
              "ticks": ""
             }
            }
           }
          ],
          "scatterternary": [
           {
            "type": "scatterternary",
            "marker": {
             "colorbar": {
              "outlinewidth": 0,
              "ticks": ""
             }
            }
           }
          ],
          "scattercarpet": [
           {
            "type": "scattercarpet",
            "marker": {
             "colorbar": {
              "outlinewidth": 0,
              "ticks": ""
             }
            }
           }
          ],
          "carpet": [
           {
            "aaxis": {
             "endlinecolor": "#A2B1C6",
             "gridcolor": "#506784",
             "linecolor": "#506784",
             "minorgridcolor": "#506784",
             "startlinecolor": "#A2B1C6"
            },
            "baxis": {
             "endlinecolor": "#A2B1C6",
             "gridcolor": "#506784",
             "linecolor": "#506784",
             "minorgridcolor": "#506784",
             "startlinecolor": "#A2B1C6"
            },
            "type": "carpet"
           }
          ],
          "table": [
           {
            "cells": {
             "fill": {
              "color": "#506784"
             },
             "line": {
              "color": "rgb(17,17,17)"
             }
            },
            "header": {
             "fill": {
              "color": "#2a3f5f"
             },
             "line": {
              "color": "rgb(17,17,17)"
             }
            },
            "type": "table"
           }
          ],
          "barpolar": [
           {
            "marker": {
             "line": {
              "color": "rgb(17,17,17)",
              "width": 0.5
             },
             "pattern": {
              "fillmode": "overlay",
              "size": 10,
              "solidity": 0.2
             }
            },
            "type": "barpolar"
           }
          ],
          "pie": [
           {
            "automargin": true,
            "type": "pie"
           }
          ]
         },
         "layout": {
          "autotypenumbers": "strict",
          "colorway": [
           "#636efa",
           "#EF553B",
           "#00cc96",
           "#ab63fa",
           "#FFA15A",
           "#19d3f3",
           "#FF6692",
           "#B6E880",
           "#FF97FF",
           "#FECB52"
          ],
          "font": {
           "color": "#f2f5fa"
          },
          "hovermode": "closest",
          "hoverlabel": {
           "align": "left"
          },
          "paper_bgcolor": "rgb(17,17,17)",
          "plot_bgcolor": "rgb(17,17,17)",
          "polar": {
           "bgcolor": "rgb(17,17,17)",
           "angularaxis": {
            "gridcolor": "#506784",
            "linecolor": "#506784",
            "ticks": ""
           },
           "radialaxis": {
            "gridcolor": "#506784",
            "linecolor": "#506784",
            "ticks": ""
           }
          },
          "ternary": {
           "bgcolor": "rgb(17,17,17)",
           "aaxis": {
            "gridcolor": "#506784",
            "linecolor": "#506784",
            "ticks": ""
           },
           "baxis": {
            "gridcolor": "#506784",
            "linecolor": "#506784",
            "ticks": ""
           },
           "caxis": {
            "gridcolor": "#506784",
            "linecolor": "#506784",
            "ticks": ""
           }
          },
          "coloraxis": {
           "colorbar": {
            "outlinewidth": 0,
            "ticks": ""
           }
          },
          "colorscale": {
           "sequential": [
            [
             0.0,
             "#0d0887"
            ],
            [
             0.1111111111111111,
             "#46039f"
            ],
            [
             0.2222222222222222,
             "#7201a8"
            ],
            [
             0.3333333333333333,
             "#9c179e"
            ],
            [
             0.4444444444444444,
             "#bd3786"
            ],
            [
             0.5555555555555556,
             "#d8576b"
            ],
            [
             0.6666666666666666,
             "#ed7953"
            ],
            [
             0.7777777777777778,
             "#fb9f3a"
            ],
            [
             0.8888888888888888,
             "#fdca26"
            ],
            [
             1.0,
             "#f0f921"
            ]
           ],
           "sequentialminus": [
            [
             0.0,
             "#0d0887"
            ],
            [
             0.1111111111111111,
             "#46039f"
            ],
            [
             0.2222222222222222,
             "#7201a8"
            ],
            [
             0.3333333333333333,
             "#9c179e"
            ],
            [
             0.4444444444444444,
             "#bd3786"
            ],
            [
             0.5555555555555556,
             "#d8576b"
            ],
            [
             0.6666666666666666,
             "#ed7953"
            ],
            [
             0.7777777777777778,
             "#fb9f3a"
            ],
            [
             0.8888888888888888,
             "#fdca26"
            ],
            [
             1.0,
             "#f0f921"
            ]
           ],
           "diverging": [
            [
             0,
             "#8e0152"
            ],
            [
             0.1,
             "#c51b7d"
            ],
            [
             0.2,
             "#de77ae"
            ],
            [
             0.3,
             "#f1b6da"
            ],
            [
             0.4,
             "#fde0ef"
            ],
            [
             0.5,
             "#f7f7f7"
            ],
            [
             0.6,
             "#e6f5d0"
            ],
            [
             0.7,
             "#b8e186"
            ],
            [
             0.8,
             "#7fbc41"
            ],
            [
             0.9,
             "#4d9221"
            ],
            [
             1,
             "#276419"
            ]
           ]
          },
          "xaxis": {
           "gridcolor": "#283442",
           "linecolor": "#506784",
           "ticks": "",
           "title": {
            "standoff": 15
           },
           "zerolinecolor": "#283442",
           "automargin": true,
           "zerolinewidth": 2
          },
          "yaxis": {
           "gridcolor": "#283442",
           "linecolor": "#506784",
           "ticks": "",
           "title": {
            "standoff": 15
           },
           "zerolinecolor": "#283442",
           "automargin": true,
           "zerolinewidth": 2
          },
          "scene": {
           "xaxis": {
            "backgroundcolor": "rgb(17,17,17)",
            "gridcolor": "#506784",
            "linecolor": "#506784",
            "showbackground": true,
            "ticks": "",
            "zerolinecolor": "#C8D4E3",
            "gridwidth": 2
           },
           "yaxis": {
            "backgroundcolor": "rgb(17,17,17)",
            "gridcolor": "#506784",
            "linecolor": "#506784",
            "showbackground": true,
            "ticks": "",
            "zerolinecolor": "#C8D4E3",
            "gridwidth": 2
           },
           "zaxis": {
            "backgroundcolor": "rgb(17,17,17)",
            "gridcolor": "#506784",
            "linecolor": "#506784",
            "showbackground": true,
            "ticks": "",
            "zerolinecolor": "#C8D4E3",
            "gridwidth": 2
           }
          },
          "shapedefaults": {
           "line": {
            "color": "#f2f5fa"
           }
          },
          "annotationdefaults": {
           "arrowcolor": "#f2f5fa",
           "arrowhead": 0,
           "arrowwidth": 1
          },
          "geo": {
           "bgcolor": "rgb(17,17,17)",
           "landcolor": "rgb(17,17,17)",
           "subunitcolor": "#506784",
           "showland": true,
           "showlakes": true,
           "lakecolor": "rgb(17,17,17)"
          },
          "title": {
           "x": 0.05
          },
          "updatemenudefaults": {
           "bgcolor": "#506784",
           "borderwidth": 0
          },
          "sliderdefaults": {
           "bgcolor": "#C8D4E3",
           "borderwidth": 1,
           "bordercolor": "rgb(17,17,17)",
           "tickwidth": 0
          },
          "mapbox": {
           "style": "dark"
          }
         }
        },
        "xaxis": {
         "anchor": "y",
         "domain": [
          0.0,
          1.0
         ],
         "title": {
          "text": "실제 이벤트 소통시간 (분)"
         },
         "tickfont": {
          "size": 14,
          "color": "white"
         }
        },
        "yaxis": {
         "anchor": "x",
         "domain": [
          0.625,
          1.0
         ],
         "title": {
          "text": "평균 오차 (초)"
         }
        },
        "xaxis2": {
         "anchor": "y2",
         "domain": [
          0.0,
          1.0
         ],
         "title": {
          "text": "실제 이벤트 정차시간 (분)"
         },
         "tickfont": {
          "size": 14,
          "color": "white"
         }
        },
        "yaxis2": {
         "anchor": "x2",
         "domain": [
          0.0,
          0.375
         ],
         "title": {
          "text": "평균 오차 (초)"
         }
        },
        "annotations": [
         {
          "font": {
           "size": 16
          },
          "showarrow": false,
          "text": "소통시간 이벤트 오차",
          "x": 0.5,
          "xanchor": "center",
          "xref": "paper",
          "y": 1.0,
          "yanchor": "bottom",
          "yref": "paper"
         },
         {
          "font": {
           "size": 16
          },
          "showarrow": false,
          "text": "정차시간 이벤트 오차",
          "x": 0.5,
          "xanchor": "center",
          "xref": "paper",
          "y": 0.375,
          "yanchor": "bottom",
          "yref": "paper"
         },
         {
          "align": "center",
          "font": {
           "color": "indianred",
           "size": 12
          },
          "showarrow": false,
          "text": "AI 모델 예측 평균 오차: 24.5초<br>현 BIS 예측 평균 오차: 30.8초<br>현 BIS 대비 AI 모델 정확도 향상: 20.4%",
          "x": 0.5,
          "xref": "x domain",
          "y": 0.95,
          "yref": "y domain"
         },
         {
          "align": "center",
          "font": {
           "color": "mediumseagreen",
           "size": 12
          },
          "showarrow": false,
          "text": "AI 모델 예측 평균 오차: 15.5초<br>현 BIS 예측 평균 오차: 14.8초<br>현 BIS 대비 AI 모델 정확도 향상: -4.8%",
          "x": 0.5,
          "xref": "x2 domain",
          "y": 0.95,
          "yref": "y2 domain"
         },
         {
          "font": {
           "size": 12
          },
          "showarrow": false,
          "text": "17843개",
          "x": "0-1분",
          "xref": "x",
          "y": -5,
          "yref": "y"
         },
         {
          "font": {
           "size": 12
          },
          "showarrow": false,
          "text": "8326개",
          "x": "1-2분",
          "xref": "x",
          "y": -5,
          "yref": "y"
         },
         {
          "font": {
           "size": 12
          },
          "showarrow": false,
          "text": "4281개",
          "x": "2-3분",
          "xref": "x",
          "y": -5,
          "yref": "y"
         },
         {
          "font": {
           "size": 12
          },
          "showarrow": false,
          "text": "1004개",
          "x": "3-4분",
          "xref": "x",
          "y": -5,
          "yref": "y"
         },
         {
          "font": {
           "size": 12
          },
          "showarrow": false,
          "text": "282개",
          "x": "4-5분",
          "xref": "x",
          "y": -5,
          "yref": "y"
         },
         {
          "font": {
           "size": 12
          },
          "showarrow": false,
          "text": "66개",
          "x": "5-6분",
          "xref": "x",
          "y": -5,
          "yref": "y"
         },
         {
          "font": {
           "size": 12
          },
          "showarrow": false,
          "text": "18개",
          "x": "6-7분",
          "xref": "x",
          "y": -5,
          "yref": "y"
         },
         {
          "font": {
           "size": 12
          },
          "showarrow": false,
          "text": "13개",
          "x": "7-8분",
          "xref": "x",
          "y": -5,
          "yref": "y"
         },
         {
          "font": {
           "size": 12
          },
          "showarrow": false,
          "text": "4개",
          "x": "8-9분",
          "xref": "x",
          "y": -5,
          "yref": "y"
         },
         {
          "font": {
           "size": 12
          },
          "showarrow": false,
          "text": "3개",
          "x": "9-10분",
          "xref": "x",
          "y": -5,
          "yref": "y"
         },
         {
          "font": {
           "size": 12
          },
          "showarrow": false,
          "text": "3개",
          "x": "10-11분",
          "xref": "x",
          "y": -5,
          "yref": "y"
         },
         {
          "font": {
           "size": 12
          },
          "showarrow": false,
          "text": "0개",
          "x": "11-12분",
          "xref": "x",
          "y": -5,
          "yref": "y"
         },
         {
          "font": {
           "size": 12
          },
          "showarrow": false,
          "text": "1개",
          "x": "12-13분",
          "xref": "x",
          "y": -5,
          "yref": "y"
         },
         {
          "font": {
           "size": 12
          },
          "showarrow": false,
          "text": "3개",
          "x": "13-14분",
          "xref": "x",
          "y": -5,
          "yref": "y"
         },
         {
          "font": {
           "size": 12
          },
          "showarrow": false,
          "text": "1개",
          "x": "14-15분",
          "xref": "x",
          "y": -5,
          "yref": "y"
         },
         {
          "font": {
           "size": 12
          },
          "showarrow": false,
          "text": "2개",
          "x": "15-16분",
          "xref": "x",
          "y": -5,
          "yref": "y"
         },
         {
          "font": {
           "size": 12
          },
          "showarrow": false,
          "text": "0개",
          "x": "16-17분",
          "xref": "x",
          "y": -5,
          "yref": "y"
         },
         {
          "font": {
           "size": 12
          },
          "showarrow": false,
          "text": "0개",
          "x": "17-18분",
          "xref": "x",
          "y": -5,
          "yref": "y"
         },
         {
          "font": {
           "size": 12
          },
          "showarrow": false,
          "text": "0개",
          "x": "18-19분",
          "xref": "x",
          "y": -5,
          "yref": "y"
         },
         {
          "font": {
           "size": 12
          },
          "showarrow": false,
          "text": "0개",
          "x": "19-20분",
          "xref": "x",
          "y": -5,
          "yref": "y"
         },
         {
          "font": {
           "size": 12
          },
          "showarrow": false,
          "text": "0개",
          "x": "20-21분",
          "xref": "x",
          "y": -5,
          "yref": "y"
         },
         {
          "font": {
           "size": 12
          },
          "showarrow": false,
          "text": "0개",
          "x": "21-22분",
          "xref": "x",
          "y": -5,
          "yref": "y"
         },
         {
          "font": {
           "size": 12
          },
          "showarrow": false,
          "text": "0개",
          "x": "22-23분",
          "xref": "x",
          "y": -5,
          "yref": "y"
         },
         {
          "font": {
           "size": 12
          },
          "showarrow": false,
          "text": "0개",
          "x": "23-24분",
          "xref": "x",
          "y": -5,
          "yref": "y"
         },
         {
          "font": {
           "size": 12
          },
          "showarrow": false,
          "text": "0개",
          "x": "24-25분",
          "xref": "x",
          "y": -5,
          "yref": "y"
         },
         {
          "font": {
           "size": 12
          },
          "showarrow": false,
          "text": "0개",
          "x": "25-26분",
          "xref": "x",
          "y": -5,
          "yref": "y"
         },
         {
          "font": {
           "size": 12
          },
          "showarrow": false,
          "text": "0개",
          "x": "26-27분",
          "xref": "x",
          "y": -5,
          "yref": "y"
         },
         {
          "font": {
           "size": 12
          },
          "showarrow": false,
          "text": "0개",
          "x": "27-28분",
          "xref": "x",
          "y": -5,
          "yref": "y"
         },
         {
          "font": {
           "size": 12
          },
          "showarrow": false,
          "text": "0개",
          "x": "28-29분",
          "xref": "x",
          "y": -5,
          "yref": "y"
         },
         {
          "font": {
           "size": 12
          },
          "showarrow": false,
          "text": "1개",
          "x": "29-30분",
          "xref": "x",
          "y": -5,
          "yref": "y"
         },
         {
          "font": {
           "size": 12
          },
          "showarrow": false,
          "text": "0개",
          "x": "30-31분",
          "xref": "x",
          "y": -5,
          "yref": "y"
         },
         {
          "font": {
           "size": 12
          },
          "showarrow": false,
          "text": "0개",
          "x": "31-32분",
          "xref": "x",
          "y": -5,
          "yref": "y"
         },
         {
          "font": {
           "size": 12
          },
          "showarrow": false,
          "text": "0개",
          "x": "32-33분",
          "xref": "x",
          "y": -5,
          "yref": "y"
         },
         {
          "font": {
           "size": 12
          },
          "showarrow": false,
          "text": "0개",
          "x": "33-34분",
          "xref": "x",
          "y": -5,
          "yref": "y"
         },
         {
          "font": {
           "size": 12
          },
          "showarrow": false,
          "text": "0개",
          "x": "34-35분",
          "xref": "x",
          "y": -5,
          "yref": "y"
         },
         {
          "font": {
           "size": 12
          },
          "showarrow": false,
          "text": "0개",
          "x": "35-36분",
          "xref": "x",
          "y": -5,
          "yref": "y"
         },
         {
          "font": {
           "size": 12
          },
          "showarrow": false,
          "text": "0개",
          "x": "36-37분",
          "xref": "x",
          "y": -5,
          "yref": "y"
         },
         {
          "font": {
           "size": 12
          },
          "showarrow": false,
          "text": "0개",
          "x": "37-38분",
          "xref": "x",
          "y": -5,
          "yref": "y"
         },
         {
          "font": {
           "size": 12
          },
          "showarrow": false,
          "text": "0개",
          "x": "38-39분",
          "xref": "x",
          "y": -5,
          "yref": "y"
         },
         {
          "font": {
           "size": 12
          },
          "showarrow": false,
          "text": "0개",
          "x": "39-40분",
          "xref": "x",
          "y": -5,
          "yref": "y"
         },
         {
          "font": {
           "size": 12
          },
          "showarrow": false,
          "text": "0개",
          "x": "40-41분",
          "xref": "x",
          "y": -5,
          "yref": "y"
         },
         {
          "font": {
           "size": 12
          },
          "showarrow": false,
          "text": "0개",
          "x": "41-42분",
          "xref": "x",
          "y": -5,
          "yref": "y"
         },
         {
          "font": {
           "size": 12
          },
          "showarrow": false,
          "text": "0개",
          "x": "42-43분",
          "xref": "x",
          "y": -5,
          "yref": "y"
         },
         {
          "font": {
           "size": 12
          },
          "showarrow": false,
          "text": "0개",
          "x": "43-44분",
          "xref": "x",
          "y": -5,
          "yref": "y"
         },
         {
          "font": {
           "size": 12
          },
          "showarrow": false,
          "text": "0개",
          "x": "44-45분",
          "xref": "x",
          "y": -5,
          "yref": "y"
         },
         {
          "font": {
           "size": 12
          },
          "showarrow": false,
          "text": "0개",
          "x": "45-46분",
          "xref": "x",
          "y": -5,
          "yref": "y"
         },
         {
          "font": {
           "size": 12
          },
          "showarrow": false,
          "text": "0개",
          "x": "46-47분",
          "xref": "x",
          "y": -5,
          "yref": "y"
         },
         {
          "font": {
           "size": 12
          },
          "showarrow": false,
          "text": "0개",
          "x": "47-48분",
          "xref": "x",
          "y": -5,
          "yref": "y"
         },
         {
          "font": {
           "size": 12
          },
          "showarrow": false,
          "text": "0개",
          "x": "48-49분",
          "xref": "x",
          "y": -5,
          "yref": "y"
         },
         {
          "font": {
           "size": 12
          },
          "showarrow": false,
          "text": "1개",
          "x": "49-50분",
          "xref": "x",
          "y": -5,
          "yref": "y"
         },
         {
          "font": {
           "size": 12
          },
          "showarrow": false,
          "text": "30273개",
          "x": "0-1분",
          "xref": "x2",
          "y": -5,
          "yref": "y2"
         },
         {
          "font": {
           "size": 12
          },
          "showarrow": false,
          "text": "2381개",
          "x": "1-2분",
          "xref": "x2",
          "y": -5,
          "yref": "y2"
         },
         {
          "font": {
           "size": 12
          },
          "showarrow": false,
          "text": "350개",
          "x": "2-3분",
          "xref": "x2",
          "y": -5,
          "yref": "y2"
         },
         {
          "font": {
           "size": 12
          },
          "showarrow": false,
          "text": "34개",
          "x": "3-4분",
          "xref": "x2",
          "y": -5,
          "yref": "y2"
         },
         {
          "font": {
           "size": 12
          },
          "showarrow": false,
          "text": "12개",
          "x": "4-5분",
          "xref": "x2",
          "y": -5,
          "yref": "y2"
         },
         {
          "font": {
           "size": 12
          },
          "showarrow": false,
          "text": "1개",
          "x": "5-6분",
          "xref": "x2",
          "y": -5,
          "yref": "y2"
         }
        ],
        "title": {
         "text": "AI 모델과 BIS 시스템의 Travel 및 Service Time 예측 오차 비교"
        },
        "margin": {
         "t": 150
        },
        "barmode": "group",
        "height": 1000,
        "legend": {
         "orientation": "h",
         "yanchor": "bottom",
         "y": 1.02,
         "xanchor": "right",
         "x": 1
        }
       },
       "config": {
        "plotlyServerURL": "https://plot.ly"
       }
      },
      "text/html": [
       "<div>                            <div id=\"9518028f-231b-4d42-a251-a0b2b57453f6\" class=\"plotly-graph-div\" style=\"height:1000px; width:100%;\"></div>            <script type=\"text/javascript\">                require([\"plotly\"], function(Plotly) {                    window.PLOTLYENV=window.PLOTLYENV || {};                                    if (document.getElementById(\"9518028f-231b-4d42-a251-a0b2b57453f6\")) {                    Plotly.newPlot(                        \"9518028f-231b-4d42-a251-a0b2b57453f6\",                        [{\"marker\":{\"color\":\"indianred\"},\"name\":\"AI \\ubaa8\\ub378\",\"text\":[18.0,24.0,38.0,55.0,83.0,124.0,184.0,222.0,408.0,436.0,430.0,0.0,458.0,621.0,705.0,782.0,0.0,0.0,0.0,0.0,0.0,0.0,0.0,0.0,0.0,0.0,0.0,0.0,0.0,1658.0,0.0,0.0,0.0,0.0,0.0,0.0,0.0,0.0,0.0,0.0,0.0,0.0,0.0,0.0,0.0,0.0,0.0,0.0,0.0,2786.0],\"textposition\":\"outside\",\"x\":[\"0-1\\ubd84\",\"1-2\\ubd84\",\"2-3\\ubd84\",\"3-4\\ubd84\",\"4-5\\ubd84\",\"5-6\\ubd84\",\"6-7\\ubd84\",\"7-8\\ubd84\",\"8-9\\ubd84\",\"9-10\\ubd84\",\"10-11\\ubd84\",\"11-12\\ubd84\",\"12-13\\ubd84\",\"13-14\\ubd84\",\"14-15\\ubd84\",\"15-16\\ubd84\",\"16-17\\ubd84\",\"17-18\\ubd84\",\"18-19\\ubd84\",\"19-20\\ubd84\",\"20-21\\ubd84\",\"21-22\\ubd84\",\"22-23\\ubd84\",\"23-24\\ubd84\",\"24-25\\ubd84\",\"25-26\\ubd84\",\"26-27\\ubd84\",\"27-28\\ubd84\",\"28-29\\ubd84\",\"29-30\\ubd84\",\"30-31\\ubd84\",\"31-32\\ubd84\",\"32-33\\ubd84\",\"33-34\\ubd84\",\"34-35\\ubd84\",\"35-36\\ubd84\",\"36-37\\ubd84\",\"37-38\\ubd84\",\"38-39\\ubd84\",\"39-40\\ubd84\",\"40-41\\ubd84\",\"41-42\\ubd84\",\"42-43\\ubd84\",\"43-44\\ubd84\",\"44-45\\ubd84\",\"45-46\\ubd84\",\"46-47\\ubd84\",\"47-48\\ubd84\",\"48-49\\ubd84\",\"49-50\\ubd84\"],\"y\":[18,24,38,55,83,124,184,222,408,436,430,0,458,621,705,782,0,0,0,0,0,0,0,0,0,0,0,0,0,1658,0,0,0,0,0,0,0,0,0,0,0,0,0,0,0,0,0,0,0,2786],\"type\":\"bar\",\"xaxis\":\"x\",\"yaxis\":\"y\"},{\"marker\":{\"color\":\"lightsalmon\"},\"name\":\"\\ud604 BIS\",\"text\":[21.0,35.0,50.0,68.0,89.0,94.0,151.0,156.0,323.0,235.0,199.0,0.0,373.0,338.0,746.0,782.0,0.0,0.0,0.0,0.0,0.0,0.0,0.0,0.0,0.0,0.0,0.0,0.0,0.0,83.0,0.0,0.0,0.0,0.0,0.0,0.0,0.0,0.0,0.0,0.0,0.0,0.0,0.0,0.0,0.0,0.0,0.0,0.0,0.0,2720.0],\"textposition\":\"outside\",\"x\":[\"0-1\\ubd84\",\"1-2\\ubd84\",\"2-3\\ubd84\",\"3-4\\ubd84\",\"4-5\\ubd84\",\"5-6\\ubd84\",\"6-7\\ubd84\",\"7-8\\ubd84\",\"8-9\\ubd84\",\"9-10\\ubd84\",\"10-11\\ubd84\",\"11-12\\ubd84\",\"12-13\\ubd84\",\"13-14\\ubd84\",\"14-15\\ubd84\",\"15-16\\ubd84\",\"16-17\\ubd84\",\"17-18\\ubd84\",\"18-19\\ubd84\",\"19-20\\ubd84\",\"20-21\\ubd84\",\"21-22\\ubd84\",\"22-23\\ubd84\",\"23-24\\ubd84\",\"24-25\\ubd84\",\"25-26\\ubd84\",\"26-27\\ubd84\",\"27-28\\ubd84\",\"28-29\\ubd84\",\"29-30\\ubd84\",\"30-31\\ubd84\",\"31-32\\ubd84\",\"32-33\\ubd84\",\"33-34\\ubd84\",\"34-35\\ubd84\",\"35-36\\ubd84\",\"36-37\\ubd84\",\"37-38\\ubd84\",\"38-39\\ubd84\",\"39-40\\ubd84\",\"40-41\\ubd84\",\"41-42\\ubd84\",\"42-43\\ubd84\",\"43-44\\ubd84\",\"44-45\\ubd84\",\"45-46\\ubd84\",\"46-47\\ubd84\",\"47-48\\ubd84\",\"48-49\\ubd84\",\"49-50\\ubd84\"],\"y\":[21,35,50,68,89,94,151,156,323,235,199,0,373,338,746,782,0,0,0,0,0,0,0,0,0,0,0,0,0,83,0,0,0,0,0,0,0,0,0,0,0,0,0,0,0,0,0,0,0,2720],\"type\":\"bar\",\"xaxis\":\"x\",\"yaxis\":\"y\"},{\"marker\":{\"color\":\"mediumseagreen\"},\"name\":\"AI \\ubaa8\\ub378\",\"text\":[14.0,25.0,65.0,156.0,217.0,289.0],\"textposition\":\"outside\",\"x\":[\"0-1\\ubd84\",\"1-2\\ubd84\",\"2-3\\ubd84\",\"3-4\\ubd84\",\"4-5\\ubd84\",\"5-6\\ubd84\"],\"y\":[14,25,65,156,217,289],\"type\":\"bar\",\"xaxis\":\"x2\",\"yaxis\":\"y2\"},{\"marker\":{\"color\":\"lightgreen\"},\"name\":\"\\ud604 BIS\",\"text\":[12.0,42.0,72.0,109.0,142.0,287.0],\"textposition\":\"outside\",\"x\":[\"0-1\\ubd84\",\"1-2\\ubd84\",\"2-3\\ubd84\",\"3-4\\ubd84\",\"4-5\\ubd84\",\"5-6\\ubd84\"],\"y\":[12,42,72,109,142,287],\"type\":\"bar\",\"xaxis\":\"x2\",\"yaxis\":\"y2\"}],                        {\"template\":{\"data\":{\"histogram2dcontour\":[{\"type\":\"histogram2dcontour\",\"colorbar\":{\"outlinewidth\":0,\"ticks\":\"\"},\"colorscale\":[[0.0,\"#0d0887\"],[0.1111111111111111,\"#46039f\"],[0.2222222222222222,\"#7201a8\"],[0.3333333333333333,\"#9c179e\"],[0.4444444444444444,\"#bd3786\"],[0.5555555555555556,\"#d8576b\"],[0.6666666666666666,\"#ed7953\"],[0.7777777777777778,\"#fb9f3a\"],[0.8888888888888888,\"#fdca26\"],[1.0,\"#f0f921\"]]}],\"choropleth\":[{\"type\":\"choropleth\",\"colorbar\":{\"outlinewidth\":0,\"ticks\":\"\"}}],\"histogram2d\":[{\"type\":\"histogram2d\",\"colorbar\":{\"outlinewidth\":0,\"ticks\":\"\"},\"colorscale\":[[0.0,\"#0d0887\"],[0.1111111111111111,\"#46039f\"],[0.2222222222222222,\"#7201a8\"],[0.3333333333333333,\"#9c179e\"],[0.4444444444444444,\"#bd3786\"],[0.5555555555555556,\"#d8576b\"],[0.6666666666666666,\"#ed7953\"],[0.7777777777777778,\"#fb9f3a\"],[0.8888888888888888,\"#fdca26\"],[1.0,\"#f0f921\"]]}],\"heatmap\":[{\"type\":\"heatmap\",\"colorbar\":{\"outlinewidth\":0,\"ticks\":\"\"},\"colorscale\":[[0.0,\"#0d0887\"],[0.1111111111111111,\"#46039f\"],[0.2222222222222222,\"#7201a8\"],[0.3333333333333333,\"#9c179e\"],[0.4444444444444444,\"#bd3786\"],[0.5555555555555556,\"#d8576b\"],[0.6666666666666666,\"#ed7953\"],[0.7777777777777778,\"#fb9f3a\"],[0.8888888888888888,\"#fdca26\"],[1.0,\"#f0f921\"]]}],\"heatmapgl\":[{\"type\":\"heatmapgl\",\"colorbar\":{\"outlinewidth\":0,\"ticks\":\"\"},\"colorscale\":[[0.0,\"#0d0887\"],[0.1111111111111111,\"#46039f\"],[0.2222222222222222,\"#7201a8\"],[0.3333333333333333,\"#9c179e\"],[0.4444444444444444,\"#bd3786\"],[0.5555555555555556,\"#d8576b\"],[0.6666666666666666,\"#ed7953\"],[0.7777777777777778,\"#fb9f3a\"],[0.8888888888888888,\"#fdca26\"],[1.0,\"#f0f921\"]]}],\"contourcarpet\":[{\"type\":\"contourcarpet\",\"colorbar\":{\"outlinewidth\":0,\"ticks\":\"\"}}],\"contour\":[{\"type\":\"contour\",\"colorbar\":{\"outlinewidth\":0,\"ticks\":\"\"},\"colorscale\":[[0.0,\"#0d0887\"],[0.1111111111111111,\"#46039f\"],[0.2222222222222222,\"#7201a8\"],[0.3333333333333333,\"#9c179e\"],[0.4444444444444444,\"#bd3786\"],[0.5555555555555556,\"#d8576b\"],[0.6666666666666666,\"#ed7953\"],[0.7777777777777778,\"#fb9f3a\"],[0.8888888888888888,\"#fdca26\"],[1.0,\"#f0f921\"]]}],\"surface\":[{\"type\":\"surface\",\"colorbar\":{\"outlinewidth\":0,\"ticks\":\"\"},\"colorscale\":[[0.0,\"#0d0887\"],[0.1111111111111111,\"#46039f\"],[0.2222222222222222,\"#7201a8\"],[0.3333333333333333,\"#9c179e\"],[0.4444444444444444,\"#bd3786\"],[0.5555555555555556,\"#d8576b\"],[0.6666666666666666,\"#ed7953\"],[0.7777777777777778,\"#fb9f3a\"],[0.8888888888888888,\"#fdca26\"],[1.0,\"#f0f921\"]]}],\"mesh3d\":[{\"type\":\"mesh3d\",\"colorbar\":{\"outlinewidth\":0,\"ticks\":\"\"}}],\"scatter\":[{\"marker\":{\"line\":{\"color\":\"#283442\"}},\"type\":\"scatter\"}],\"parcoords\":[{\"type\":\"parcoords\",\"line\":{\"colorbar\":{\"outlinewidth\":0,\"ticks\":\"\"}}}],\"scatterpolargl\":[{\"type\":\"scatterpolargl\",\"marker\":{\"colorbar\":{\"outlinewidth\":0,\"ticks\":\"\"}}}],\"bar\":[{\"error_x\":{\"color\":\"#f2f5fa\"},\"error_y\":{\"color\":\"#f2f5fa\"},\"marker\":{\"line\":{\"color\":\"rgb(17,17,17)\",\"width\":0.5},\"pattern\":{\"fillmode\":\"overlay\",\"size\":10,\"solidity\":0.2}},\"type\":\"bar\"}],\"scattergeo\":[{\"type\":\"scattergeo\",\"marker\":{\"colorbar\":{\"outlinewidth\":0,\"ticks\":\"\"}}}],\"scatterpolar\":[{\"type\":\"scatterpolar\",\"marker\":{\"colorbar\":{\"outlinewidth\":0,\"ticks\":\"\"}}}],\"histogram\":[{\"marker\":{\"pattern\":{\"fillmode\":\"overlay\",\"size\":10,\"solidity\":0.2}},\"type\":\"histogram\"}],\"scattergl\":[{\"marker\":{\"line\":{\"color\":\"#283442\"}},\"type\":\"scattergl\"}],\"scatter3d\":[{\"type\":\"scatter3d\",\"line\":{\"colorbar\":{\"outlinewidth\":0,\"ticks\":\"\"}},\"marker\":{\"colorbar\":{\"outlinewidth\":0,\"ticks\":\"\"}}}],\"scattermapbox\":[{\"type\":\"scattermapbox\",\"marker\":{\"colorbar\":{\"outlinewidth\":0,\"ticks\":\"\"}}}],\"scatterternary\":[{\"type\":\"scatterternary\",\"marker\":{\"colorbar\":{\"outlinewidth\":0,\"ticks\":\"\"}}}],\"scattercarpet\":[{\"type\":\"scattercarpet\",\"marker\":{\"colorbar\":{\"outlinewidth\":0,\"ticks\":\"\"}}}],\"carpet\":[{\"aaxis\":{\"endlinecolor\":\"#A2B1C6\",\"gridcolor\":\"#506784\",\"linecolor\":\"#506784\",\"minorgridcolor\":\"#506784\",\"startlinecolor\":\"#A2B1C6\"},\"baxis\":{\"endlinecolor\":\"#A2B1C6\",\"gridcolor\":\"#506784\",\"linecolor\":\"#506784\",\"minorgridcolor\":\"#506784\",\"startlinecolor\":\"#A2B1C6\"},\"type\":\"carpet\"}],\"table\":[{\"cells\":{\"fill\":{\"color\":\"#506784\"},\"line\":{\"color\":\"rgb(17,17,17)\"}},\"header\":{\"fill\":{\"color\":\"#2a3f5f\"},\"line\":{\"color\":\"rgb(17,17,17)\"}},\"type\":\"table\"}],\"barpolar\":[{\"marker\":{\"line\":{\"color\":\"rgb(17,17,17)\",\"width\":0.5},\"pattern\":{\"fillmode\":\"overlay\",\"size\":10,\"solidity\":0.2}},\"type\":\"barpolar\"}],\"pie\":[{\"automargin\":true,\"type\":\"pie\"}]},\"layout\":{\"autotypenumbers\":\"strict\",\"colorway\":[\"#636efa\",\"#EF553B\",\"#00cc96\",\"#ab63fa\",\"#FFA15A\",\"#19d3f3\",\"#FF6692\",\"#B6E880\",\"#FF97FF\",\"#FECB52\"],\"font\":{\"color\":\"#f2f5fa\"},\"hovermode\":\"closest\",\"hoverlabel\":{\"align\":\"left\"},\"paper_bgcolor\":\"rgb(17,17,17)\",\"plot_bgcolor\":\"rgb(17,17,17)\",\"polar\":{\"bgcolor\":\"rgb(17,17,17)\",\"angularaxis\":{\"gridcolor\":\"#506784\",\"linecolor\":\"#506784\",\"ticks\":\"\"},\"radialaxis\":{\"gridcolor\":\"#506784\",\"linecolor\":\"#506784\",\"ticks\":\"\"}},\"ternary\":{\"bgcolor\":\"rgb(17,17,17)\",\"aaxis\":{\"gridcolor\":\"#506784\",\"linecolor\":\"#506784\",\"ticks\":\"\"},\"baxis\":{\"gridcolor\":\"#506784\",\"linecolor\":\"#506784\",\"ticks\":\"\"},\"caxis\":{\"gridcolor\":\"#506784\",\"linecolor\":\"#506784\",\"ticks\":\"\"}},\"coloraxis\":{\"colorbar\":{\"outlinewidth\":0,\"ticks\":\"\"}},\"colorscale\":{\"sequential\":[[0.0,\"#0d0887\"],[0.1111111111111111,\"#46039f\"],[0.2222222222222222,\"#7201a8\"],[0.3333333333333333,\"#9c179e\"],[0.4444444444444444,\"#bd3786\"],[0.5555555555555556,\"#d8576b\"],[0.6666666666666666,\"#ed7953\"],[0.7777777777777778,\"#fb9f3a\"],[0.8888888888888888,\"#fdca26\"],[1.0,\"#f0f921\"]],\"sequentialminus\":[[0.0,\"#0d0887\"],[0.1111111111111111,\"#46039f\"],[0.2222222222222222,\"#7201a8\"],[0.3333333333333333,\"#9c179e\"],[0.4444444444444444,\"#bd3786\"],[0.5555555555555556,\"#d8576b\"],[0.6666666666666666,\"#ed7953\"],[0.7777777777777778,\"#fb9f3a\"],[0.8888888888888888,\"#fdca26\"],[1.0,\"#f0f921\"]],\"diverging\":[[0,\"#8e0152\"],[0.1,\"#c51b7d\"],[0.2,\"#de77ae\"],[0.3,\"#f1b6da\"],[0.4,\"#fde0ef\"],[0.5,\"#f7f7f7\"],[0.6,\"#e6f5d0\"],[0.7,\"#b8e186\"],[0.8,\"#7fbc41\"],[0.9,\"#4d9221\"],[1,\"#276419\"]]},\"xaxis\":{\"gridcolor\":\"#283442\",\"linecolor\":\"#506784\",\"ticks\":\"\",\"title\":{\"standoff\":15},\"zerolinecolor\":\"#283442\",\"automargin\":true,\"zerolinewidth\":2},\"yaxis\":{\"gridcolor\":\"#283442\",\"linecolor\":\"#506784\",\"ticks\":\"\",\"title\":{\"standoff\":15},\"zerolinecolor\":\"#283442\",\"automargin\":true,\"zerolinewidth\":2},\"scene\":{\"xaxis\":{\"backgroundcolor\":\"rgb(17,17,17)\",\"gridcolor\":\"#506784\",\"linecolor\":\"#506784\",\"showbackground\":true,\"ticks\":\"\",\"zerolinecolor\":\"#C8D4E3\",\"gridwidth\":2},\"yaxis\":{\"backgroundcolor\":\"rgb(17,17,17)\",\"gridcolor\":\"#506784\",\"linecolor\":\"#506784\",\"showbackground\":true,\"ticks\":\"\",\"zerolinecolor\":\"#C8D4E3\",\"gridwidth\":2},\"zaxis\":{\"backgroundcolor\":\"rgb(17,17,17)\",\"gridcolor\":\"#506784\",\"linecolor\":\"#506784\",\"showbackground\":true,\"ticks\":\"\",\"zerolinecolor\":\"#C8D4E3\",\"gridwidth\":2}},\"shapedefaults\":{\"line\":{\"color\":\"#f2f5fa\"}},\"annotationdefaults\":{\"arrowcolor\":\"#f2f5fa\",\"arrowhead\":0,\"arrowwidth\":1},\"geo\":{\"bgcolor\":\"rgb(17,17,17)\",\"landcolor\":\"rgb(17,17,17)\",\"subunitcolor\":\"#506784\",\"showland\":true,\"showlakes\":true,\"lakecolor\":\"rgb(17,17,17)\"},\"title\":{\"x\":0.05},\"updatemenudefaults\":{\"bgcolor\":\"#506784\",\"borderwidth\":0},\"sliderdefaults\":{\"bgcolor\":\"#C8D4E3\",\"borderwidth\":1,\"bordercolor\":\"rgb(17,17,17)\",\"tickwidth\":0},\"mapbox\":{\"style\":\"dark\"}}},\"xaxis\":{\"anchor\":\"y\",\"domain\":[0.0,1.0],\"title\":{\"text\":\"\\uc2e4\\uc81c \\uc774\\ubca4\\ud2b8 \\uc18c\\ud1b5\\uc2dc\\uac04 (\\ubd84)\"},\"tickfont\":{\"size\":14,\"color\":\"white\"}},\"yaxis\":{\"anchor\":\"x\",\"domain\":[0.625,1.0],\"title\":{\"text\":\"\\ud3c9\\uade0 \\uc624\\ucc28 (\\ucd08)\"}},\"xaxis2\":{\"anchor\":\"y2\",\"domain\":[0.0,1.0],\"title\":{\"text\":\"\\uc2e4\\uc81c \\uc774\\ubca4\\ud2b8 \\uc815\\ucc28\\uc2dc\\uac04 (\\ubd84)\"},\"tickfont\":{\"size\":14,\"color\":\"white\"}},\"yaxis2\":{\"anchor\":\"x2\",\"domain\":[0.0,0.375],\"title\":{\"text\":\"\\ud3c9\\uade0 \\uc624\\ucc28 (\\ucd08)\"}},\"annotations\":[{\"font\":{\"size\":16},\"showarrow\":false,\"text\":\"\\uc18c\\ud1b5\\uc2dc\\uac04 \\uc774\\ubca4\\ud2b8 \\uc624\\ucc28\",\"x\":0.5,\"xanchor\":\"center\",\"xref\":\"paper\",\"y\":1.0,\"yanchor\":\"bottom\",\"yref\":\"paper\"},{\"font\":{\"size\":16},\"showarrow\":false,\"text\":\"\\uc815\\ucc28\\uc2dc\\uac04 \\uc774\\ubca4\\ud2b8 \\uc624\\ucc28\",\"x\":0.5,\"xanchor\":\"center\",\"xref\":\"paper\",\"y\":0.375,\"yanchor\":\"bottom\",\"yref\":\"paper\"},{\"align\":\"center\",\"font\":{\"color\":\"indianred\",\"size\":12},\"showarrow\":false,\"text\":\"AI \\ubaa8\\ub378 \\uc608\\uce21 \\ud3c9\\uade0 \\uc624\\ucc28: 24.5\\ucd08\\u003cbr\\u003e\\ud604 BIS \\uc608\\uce21 \\ud3c9\\uade0 \\uc624\\ucc28: 30.8\\ucd08\\u003cbr\\u003e\\ud604 BIS \\ub300\\ube44 AI \\ubaa8\\ub378 \\uc815\\ud655\\ub3c4 \\ud5a5\\uc0c1: 20.4%\",\"x\":0.5,\"xref\":\"x domain\",\"y\":0.95,\"yref\":\"y domain\"},{\"align\":\"center\",\"font\":{\"color\":\"mediumseagreen\",\"size\":12},\"showarrow\":false,\"text\":\"AI \\ubaa8\\ub378 \\uc608\\uce21 \\ud3c9\\uade0 \\uc624\\ucc28: 15.5\\ucd08\\u003cbr\\u003e\\ud604 BIS \\uc608\\uce21 \\ud3c9\\uade0 \\uc624\\ucc28: 14.8\\ucd08\\u003cbr\\u003e\\ud604 BIS \\ub300\\ube44 AI \\ubaa8\\ub378 \\uc815\\ud655\\ub3c4 \\ud5a5\\uc0c1: -4.8%\",\"x\":0.5,\"xref\":\"x2 domain\",\"y\":0.95,\"yref\":\"y2 domain\"},{\"font\":{\"size\":12},\"showarrow\":false,\"text\":\"17843\\uac1c\",\"x\":\"0-1\\ubd84\",\"xref\":\"x\",\"y\":-5,\"yref\":\"y\"},{\"font\":{\"size\":12},\"showarrow\":false,\"text\":\"8326\\uac1c\",\"x\":\"1-2\\ubd84\",\"xref\":\"x\",\"y\":-5,\"yref\":\"y\"},{\"font\":{\"size\":12},\"showarrow\":false,\"text\":\"4281\\uac1c\",\"x\":\"2-3\\ubd84\",\"xref\":\"x\",\"y\":-5,\"yref\":\"y\"},{\"font\":{\"size\":12},\"showarrow\":false,\"text\":\"1004\\uac1c\",\"x\":\"3-4\\ubd84\",\"xref\":\"x\",\"y\":-5,\"yref\":\"y\"},{\"font\":{\"size\":12},\"showarrow\":false,\"text\":\"282\\uac1c\",\"x\":\"4-5\\ubd84\",\"xref\":\"x\",\"y\":-5,\"yref\":\"y\"},{\"font\":{\"size\":12},\"showarrow\":false,\"text\":\"66\\uac1c\",\"x\":\"5-6\\ubd84\",\"xref\":\"x\",\"y\":-5,\"yref\":\"y\"},{\"font\":{\"size\":12},\"showarrow\":false,\"text\":\"18\\uac1c\",\"x\":\"6-7\\ubd84\",\"xref\":\"x\",\"y\":-5,\"yref\":\"y\"},{\"font\":{\"size\":12},\"showarrow\":false,\"text\":\"13\\uac1c\",\"x\":\"7-8\\ubd84\",\"xref\":\"x\",\"y\":-5,\"yref\":\"y\"},{\"font\":{\"size\":12},\"showarrow\":false,\"text\":\"4\\uac1c\",\"x\":\"8-9\\ubd84\",\"xref\":\"x\",\"y\":-5,\"yref\":\"y\"},{\"font\":{\"size\":12},\"showarrow\":false,\"text\":\"3\\uac1c\",\"x\":\"9-10\\ubd84\",\"xref\":\"x\",\"y\":-5,\"yref\":\"y\"},{\"font\":{\"size\":12},\"showarrow\":false,\"text\":\"3\\uac1c\",\"x\":\"10-11\\ubd84\",\"xref\":\"x\",\"y\":-5,\"yref\":\"y\"},{\"font\":{\"size\":12},\"showarrow\":false,\"text\":\"0\\uac1c\",\"x\":\"11-12\\ubd84\",\"xref\":\"x\",\"y\":-5,\"yref\":\"y\"},{\"font\":{\"size\":12},\"showarrow\":false,\"text\":\"1\\uac1c\",\"x\":\"12-13\\ubd84\",\"xref\":\"x\",\"y\":-5,\"yref\":\"y\"},{\"font\":{\"size\":12},\"showarrow\":false,\"text\":\"3\\uac1c\",\"x\":\"13-14\\ubd84\",\"xref\":\"x\",\"y\":-5,\"yref\":\"y\"},{\"font\":{\"size\":12},\"showarrow\":false,\"text\":\"1\\uac1c\",\"x\":\"14-15\\ubd84\",\"xref\":\"x\",\"y\":-5,\"yref\":\"y\"},{\"font\":{\"size\":12},\"showarrow\":false,\"text\":\"2\\uac1c\",\"x\":\"15-16\\ubd84\",\"xref\":\"x\",\"y\":-5,\"yref\":\"y\"},{\"font\":{\"size\":12},\"showarrow\":false,\"text\":\"0\\uac1c\",\"x\":\"16-17\\ubd84\",\"xref\":\"x\",\"y\":-5,\"yref\":\"y\"},{\"font\":{\"size\":12},\"showarrow\":false,\"text\":\"0\\uac1c\",\"x\":\"17-18\\ubd84\",\"xref\":\"x\",\"y\":-5,\"yref\":\"y\"},{\"font\":{\"size\":12},\"showarrow\":false,\"text\":\"0\\uac1c\",\"x\":\"18-19\\ubd84\",\"xref\":\"x\",\"y\":-5,\"yref\":\"y\"},{\"font\":{\"size\":12},\"showarrow\":false,\"text\":\"0\\uac1c\",\"x\":\"19-20\\ubd84\",\"xref\":\"x\",\"y\":-5,\"yref\":\"y\"},{\"font\":{\"size\":12},\"showarrow\":false,\"text\":\"0\\uac1c\",\"x\":\"20-21\\ubd84\",\"xref\":\"x\",\"y\":-5,\"yref\":\"y\"},{\"font\":{\"size\":12},\"showarrow\":false,\"text\":\"0\\uac1c\",\"x\":\"21-22\\ubd84\",\"xref\":\"x\",\"y\":-5,\"yref\":\"y\"},{\"font\":{\"size\":12},\"showarrow\":false,\"text\":\"0\\uac1c\",\"x\":\"22-23\\ubd84\",\"xref\":\"x\",\"y\":-5,\"yref\":\"y\"},{\"font\":{\"size\":12},\"showarrow\":false,\"text\":\"0\\uac1c\",\"x\":\"23-24\\ubd84\",\"xref\":\"x\",\"y\":-5,\"yref\":\"y\"},{\"font\":{\"size\":12},\"showarrow\":false,\"text\":\"0\\uac1c\",\"x\":\"24-25\\ubd84\",\"xref\":\"x\",\"y\":-5,\"yref\":\"y\"},{\"font\":{\"size\":12},\"showarrow\":false,\"text\":\"0\\uac1c\",\"x\":\"25-26\\ubd84\",\"xref\":\"x\",\"y\":-5,\"yref\":\"y\"},{\"font\":{\"size\":12},\"showarrow\":false,\"text\":\"0\\uac1c\",\"x\":\"26-27\\ubd84\",\"xref\":\"x\",\"y\":-5,\"yref\":\"y\"},{\"font\":{\"size\":12},\"showarrow\":false,\"text\":\"0\\uac1c\",\"x\":\"27-28\\ubd84\",\"xref\":\"x\",\"y\":-5,\"yref\":\"y\"},{\"font\":{\"size\":12},\"showarrow\":false,\"text\":\"0\\uac1c\",\"x\":\"28-29\\ubd84\",\"xref\":\"x\",\"y\":-5,\"yref\":\"y\"},{\"font\":{\"size\":12},\"showarrow\":false,\"text\":\"1\\uac1c\",\"x\":\"29-30\\ubd84\",\"xref\":\"x\",\"y\":-5,\"yref\":\"y\"},{\"font\":{\"size\":12},\"showarrow\":false,\"text\":\"0\\uac1c\",\"x\":\"30-31\\ubd84\",\"xref\":\"x\",\"y\":-5,\"yref\":\"y\"},{\"font\":{\"size\":12},\"showarrow\":false,\"text\":\"0\\uac1c\",\"x\":\"31-32\\ubd84\",\"xref\":\"x\",\"y\":-5,\"yref\":\"y\"},{\"font\":{\"size\":12},\"showarrow\":false,\"text\":\"0\\uac1c\",\"x\":\"32-33\\ubd84\",\"xref\":\"x\",\"y\":-5,\"yref\":\"y\"},{\"font\":{\"size\":12},\"showarrow\":false,\"text\":\"0\\uac1c\",\"x\":\"33-34\\ubd84\",\"xref\":\"x\",\"y\":-5,\"yref\":\"y\"},{\"font\":{\"size\":12},\"showarrow\":false,\"text\":\"0\\uac1c\",\"x\":\"34-35\\ubd84\",\"xref\":\"x\",\"y\":-5,\"yref\":\"y\"},{\"font\":{\"size\":12},\"showarrow\":false,\"text\":\"0\\uac1c\",\"x\":\"35-36\\ubd84\",\"xref\":\"x\",\"y\":-5,\"yref\":\"y\"},{\"font\":{\"size\":12},\"showarrow\":false,\"text\":\"0\\uac1c\",\"x\":\"36-37\\ubd84\",\"xref\":\"x\",\"y\":-5,\"yref\":\"y\"},{\"font\":{\"size\":12},\"showarrow\":false,\"text\":\"0\\uac1c\",\"x\":\"37-38\\ubd84\",\"xref\":\"x\",\"y\":-5,\"yref\":\"y\"},{\"font\":{\"size\":12},\"showarrow\":false,\"text\":\"0\\uac1c\",\"x\":\"38-39\\ubd84\",\"xref\":\"x\",\"y\":-5,\"yref\":\"y\"},{\"font\":{\"size\":12},\"showarrow\":false,\"text\":\"0\\uac1c\",\"x\":\"39-40\\ubd84\",\"xref\":\"x\",\"y\":-5,\"yref\":\"y\"},{\"font\":{\"size\":12},\"showarrow\":false,\"text\":\"0\\uac1c\",\"x\":\"40-41\\ubd84\",\"xref\":\"x\",\"y\":-5,\"yref\":\"y\"},{\"font\":{\"size\":12},\"showarrow\":false,\"text\":\"0\\uac1c\",\"x\":\"41-42\\ubd84\",\"xref\":\"x\",\"y\":-5,\"yref\":\"y\"},{\"font\":{\"size\":12},\"showarrow\":false,\"text\":\"0\\uac1c\",\"x\":\"42-43\\ubd84\",\"xref\":\"x\",\"y\":-5,\"yref\":\"y\"},{\"font\":{\"size\":12},\"showarrow\":false,\"text\":\"0\\uac1c\",\"x\":\"43-44\\ubd84\",\"xref\":\"x\",\"y\":-5,\"yref\":\"y\"},{\"font\":{\"size\":12},\"showarrow\":false,\"text\":\"0\\uac1c\",\"x\":\"44-45\\ubd84\",\"xref\":\"x\",\"y\":-5,\"yref\":\"y\"},{\"font\":{\"size\":12},\"showarrow\":false,\"text\":\"0\\uac1c\",\"x\":\"45-46\\ubd84\",\"xref\":\"x\",\"y\":-5,\"yref\":\"y\"},{\"font\":{\"size\":12},\"showarrow\":false,\"text\":\"0\\uac1c\",\"x\":\"46-47\\ubd84\",\"xref\":\"x\",\"y\":-5,\"yref\":\"y\"},{\"font\":{\"size\":12},\"showarrow\":false,\"text\":\"0\\uac1c\",\"x\":\"47-48\\ubd84\",\"xref\":\"x\",\"y\":-5,\"yref\":\"y\"},{\"font\":{\"size\":12},\"showarrow\":false,\"text\":\"0\\uac1c\",\"x\":\"48-49\\ubd84\",\"xref\":\"x\",\"y\":-5,\"yref\":\"y\"},{\"font\":{\"size\":12},\"showarrow\":false,\"text\":\"1\\uac1c\",\"x\":\"49-50\\ubd84\",\"xref\":\"x\",\"y\":-5,\"yref\":\"y\"},{\"font\":{\"size\":12},\"showarrow\":false,\"text\":\"30273\\uac1c\",\"x\":\"0-1\\ubd84\",\"xref\":\"x2\",\"y\":-5,\"yref\":\"y2\"},{\"font\":{\"size\":12},\"showarrow\":false,\"text\":\"2381\\uac1c\",\"x\":\"1-2\\ubd84\",\"xref\":\"x2\",\"y\":-5,\"yref\":\"y2\"},{\"font\":{\"size\":12},\"showarrow\":false,\"text\":\"350\\uac1c\",\"x\":\"2-3\\ubd84\",\"xref\":\"x2\",\"y\":-5,\"yref\":\"y2\"},{\"font\":{\"size\":12},\"showarrow\":false,\"text\":\"34\\uac1c\",\"x\":\"3-4\\ubd84\",\"xref\":\"x2\",\"y\":-5,\"yref\":\"y2\"},{\"font\":{\"size\":12},\"showarrow\":false,\"text\":\"12\\uac1c\",\"x\":\"4-5\\ubd84\",\"xref\":\"x2\",\"y\":-5,\"yref\":\"y2\"},{\"font\":{\"size\":12},\"showarrow\":false,\"text\":\"1\\uac1c\",\"x\":\"5-6\\ubd84\",\"xref\":\"x2\",\"y\":-5,\"yref\":\"y2\"}],\"title\":{\"text\":\"AI \\ubaa8\\ub378\\uacfc BIS \\uc2dc\\uc2a4\\ud15c\\uc758 Travel \\ubc0f Service Time \\uc608\\uce21 \\uc624\\ucc28 \\ube44\\uad50\"},\"margin\":{\"t\":150},\"barmode\":\"group\",\"height\":1000,\"legend\":{\"orientation\":\"h\",\"yanchor\":\"bottom\",\"y\":1.02,\"xanchor\":\"right\",\"x\":1}},                        {\"responsive\": true}                    ).then(function(){\n",
       "                            \n",
       "var gd = document.getElementById('9518028f-231b-4d42-a251-a0b2b57453f6');\n",
       "var x = new MutationObserver(function (mutations, observer) {{\n",
       "        var display = window.getComputedStyle(gd).display;\n",
       "        if (!display || display === 'none') {{\n",
       "            console.log([gd, 'removed!']);\n",
       "            Plotly.purge(gd);\n",
       "            observer.disconnect();\n",
       "        }}\n",
       "}});\n",
       "\n",
       "// Listen for the removal of the full notebook cells\n",
       "var notebookContainer = gd.closest('#notebook-container');\n",
       "if (notebookContainer) {{\n",
       "    x.observe(notebookContainer, {childList: true});\n",
       "}}\n",
       "\n",
       "// Listen for the clearing of the current output cell\n",
       "var outputEl = gd.closest('.output');\n",
       "if (outputEl) {{\n",
       "    x.observe(outputEl, {childList: true});\n",
       "}}\n",
       "\n",
       "                        })                };                });            </script>        </div>"
      ]
     },
     "metadata": {},
     "output_type": "display_data"
    }
   ],
   "execution_count": 9
  },
  {
   "metadata": {},
   "cell_type": "code",
   "outputs": [],
   "execution_count": null,
   "source": "",
   "id": "81530be737d3e6ea"
  },
  {
   "metadata": {},
   "cell_type": "code",
   "outputs": [],
   "execution_count": null,
   "source": "",
   "id": "24fd8a342d7877c8"
  },
  {
   "metadata": {},
   "cell_type": "code",
   "outputs": [],
   "execution_count": null,
   "source": "",
   "id": "34140eae17075e2d"
  },
  {
   "metadata": {},
   "cell_type": "code",
   "outputs": [],
   "execution_count": null,
   "source": [
    "# '12-13분'에 해당하는 실제 CSV 데이터의 행들을 필터링\n",
    "travel_filtered_rows = df_filtered_travel[df_filtered_travel['TRAVEL_BIN'] == '5-6분']\n",
    "\n",
    "# 필터된 데이터 출력\n",
    "print(travel_filtered_rows)"
   ],
   "id": "f9f0c6405d45fe9b"
  },
  {
   "metadata": {},
   "cell_type": "markdown",
   "source": "# 소통 + 정차 합친 모델\n",
   "id": "ae7c5190652edca3"
  },
  {
   "metadata": {
    "ExecuteTime": {
     "end_time": "2024-10-08T02:11:29.465810Z",
     "start_time": "2024-10-08T02:11:28.768653Z"
    }
   },
   "cell_type": "code",
   "source": [
    "import pandas as pd\n",
    "import plotly.graph_objects as go\n",
    "from plotly.subplots import make_subplots\n",
    "\n",
    "# 1. 데이터 불러오기\n",
    "csv_file = '../../dataset/inference/route/241007_모든노선_8.1~8.14_평일_특성추가/0821_소통+정차_특성추가_추론결과.csv'\n",
    "df = pd.read_csv(csv_file)\n",
    "\n",
    "# 2. 실제 이벤트 시간 데이터를 분 단위로 변환\n",
    "df['TRAVEL_TIME_EVENT_MIN'] = df['TRAVEL_TIME_EVENT'] / 60  # 실제 이벤트 소통 시간 분 단위 변환\n",
    "\n",
    "# 3. 데이터 필터링: 소통시간 관련 데이터에서 AI, BIS, 실제 이벤트 값이 모두 존재하는 행만 남기기\n",
    "df_filtered_travel = df[['TRAVEL_TIME_EVENT_MIN', 'DIFF_EVENT_AI', 'DIFF_EVENT_BIS']].dropna().copy()\n",
    "\n",
    "# 4. 구간화: 1분 단위로 구간을 나눕니다 (0-1분 포함)\n",
    "max_travel = df_filtered_travel['TRAVEL_TIME_EVENT_MIN'].max()\n",
    "travel_bins = list(range(0, int(max_travel) + 2))  # 0부터 최대 시간 +1까지\n",
    "travel_labels = [f\"{i}-{i+1}분\" for i in range(0, int(max_travel) + 1)]\n",
    "df_filtered_travel['TRAVEL_BIN'] = pd.cut(df_filtered_travel['TRAVEL_TIME_EVENT_MIN'],\n",
    "                                         bins=travel_bins,\n",
    "                                         labels=travel_labels,\n",
    "                                         right=False)\n",
    "\n",
    "# 5. 구간별 평균 오차 및 데이터 개수 계산\n",
    "travel_group = df_filtered_travel.groupby('TRAVEL_BIN').agg(\n",
    "    DIFF_EVENT_AI_MEAN=('DIFF_EVENT_AI', 'mean'),    # 실제 이벤트 - AI 소통시간 예측 오차\n",
    "    DIFF_EVENT_BIS_MEAN=('DIFF_EVENT_BIS', 'mean'),  # 실제 이벤트 - BIS 소통시간 예측 오차\n",
    "    COUNT=('TRAVEL_TIME_EVENT_MIN', 'size')          # 구간별 데이터 개수\n",
    ").reset_index()\n",
    "\n",
    "# 6. 전체 평균 오차 및 향상 비율 계산\n",
    "mean_diff_event_ai_travel = df_filtered_travel['DIFF_EVENT_AI'].mean()\n",
    "mean_diff_event_bis_travel = df_filtered_travel['DIFF_EVENT_BIS'].mean()\n",
    "\n",
    "# 소통시간 정확도 향상 비율 계산 (%)\n",
    "improvement_travel = ((mean_diff_event_bis_travel - mean_diff_event_ai_travel) / mean_diff_event_bis_travel) * 100 if mean_diff_event_bis_travel != 0 else 0\n",
    "\n",
    "# 7. 소수점 없애기 위해 숫자를 정수로 변환하기 전에 NaN 값을 처리\n",
    "travel_group['DIFF_EVENT_AI_MEAN'] = travel_group['DIFF_EVENT_AI_MEAN'].fillna(0).round(0).astype(int)\n",
    "travel_group['DIFF_EVENT_BIS_MEAN'] = travel_group['DIFF_EVENT_BIS_MEAN'].fillna(0).round(0).astype(int)\n",
    "travel_group['COUNT'] = travel_group['COUNT'].fillna(0).astype(int)\n",
    "\n",
    "# 8. 구간 레이블에 데이터 개수 추가\n",
    "travel_group['TRAVEL_BIN_LABEL'] = travel_group.apply(lambda row: f\"{row['TRAVEL_BIN']}<br>{row['COUNT']}개\", axis=1)\n",
    "\n",
    "# 9. Plotly 시각화\n",
    "# 서브플롯 생성: 1행 1열 (소통시간만)\n",
    "fig = make_subplots(rows=1, cols=1,\n",
    "                    subplot_titles=(\"소통시간 이벤트 오차\"),\n",
    "                    shared_xaxes=False)\n",
    "\n",
    "# 소통시간 이벤트 오차 시각화\n",
    "fig.add_trace(\n",
    "    go.Bar(\n",
    "        x=travel_group['TRAVEL_BIN_LABEL'],\n",
    "        y=travel_group['DIFF_EVENT_AI_MEAN'],\n",
    "        name='AI 모델',\n",
    "        marker_color='indianred',\n",
    "        text=[f\"{mean}초<br>({count}개)\" for mean, count in zip(travel_group['DIFF_EVENT_AI_MEAN'], travel_group['COUNT'])],  # 평균 오차와 데이터 개수 결합\n",
    "        textposition='outside'  # 막대 위에 텍스트 위치\n",
    "    ),\n",
    "    row=1, col=1\n",
    ")\n",
    "\n",
    "fig.add_trace(\n",
    "    go.Bar(\n",
    "        x=travel_group['TRAVEL_BIN_LABEL'],\n",
    "        y=travel_group['DIFF_EVENT_BIS_MEAN'],\n",
    "        name='현 BIS',\n",
    "        marker_color='lightsalmon',\n",
    "        text=[f\"{mean}초<br>({count}개)\" for mean, count in zip(travel_group['DIFF_EVENT_BIS_MEAN'], travel_group['COUNT'])],  # 평균 오차와 데이터 개수 결합\n",
    "        textposition='outside'  # 막대 위에 텍스트 위치\n",
    "    ),\n",
    "    row=1, col=1\n",
    ")\n",
    "\n",
    "# 텍스트 주석 추가 (전체 평균 오차 및 향상 비율)\n",
    "fig.add_annotation(\n",
    "    text=f\"AI 모델 예측 평균 오차: {mean_diff_event_ai_travel:.1f}초<br>현 BIS 예측 평균 오차: {mean_diff_event_bis_travel:.1f}초<br>현 BIS 대비 AI 모델 정확도 향상: {improvement_travel:.1f}%\",\n",
    "    xref=\"paper\",\n",
    "    yref=\"paper\",\n",
    "    x=0.5,\n",
    "    y=1.05,\n",
    "    showarrow=False,\n",
    "    font=dict(size=14, color=\"indianred\"),\n",
    "    align=\"center\"\n",
    ")\n",
    "\n",
    "# 레이아웃 업데이트\n",
    "fig.update_layout(\n",
    "    title_text=\"AI 모델과 BIS 시스템의 소통시간 예측 오차 비교\",\n",
    "    barmode='group',\n",
    "    height=600,\n",
    "    margin=dict(t=150)  # 상단 마진을 늘려 주석 공간 확보\n",
    ")\n",
    "\n",
    "# X축 레이블 스타일 변경\n",
    "fig.update_xaxes(\n",
    "    title_text=\"실제 이벤트 소통시간 (분)\",\n",
    "    tickfont=dict(size=14, color='white'),  # 글자 크기와 색상 설정\n",
    "    row=1,\n",
    "    col=1\n",
    ")\n",
    "\n",
    "# Y축 레이블 설정\n",
    "fig.update_yaxes(\n",
    "    title_text=\"평균 오차 (초)\",\n",
    "    tickfont=dict(size=14, color='white'),\n",
    "    row=1,\n",
    "    col=1\n",
    ")\n",
    "\n",
    "# 범례 위치 조정\n",
    "fig.update_layout(legend=dict(\n",
    "    orientation=\"h\",\n",
    "    yanchor=\"bottom\",\n",
    "    y=1.02,\n",
    "    xanchor=\"right\",\n",
    "    x=1\n",
    "))\n",
    "\n",
    "# 그래프 표시\n",
    "fig.show()\n"
   ],
   "id": "b8a3abcf9a4a0d15",
   "outputs": [
    {
     "name": "stderr",
     "output_type": "stream",
     "text": [
      "C:\\Users\\seung\\AppData\\Local\\Temp\\ipykernel_9500\\2767460145.py:25: FutureWarning:\n",
      "\n",
      "The default of observed=False is deprecated and will be changed to True in a future version of pandas. Pass observed=False to retain current behavior or observed=True to adopt the future default and silence this warning.\n",
      "\n"
     ]
    },
    {
     "data": {
      "application/vnd.plotly.v1+json": {
       "data": [
        {
         "marker": {
          "color": "indianred"
         },
         "name": "AI 모델",
         "text": [
          "19초<br>(9004개)",
          "21초<br>(9393개)",
          "31초<br>(5886개)",
          "52초<br>(1679개)",
          "83초<br>(429개)",
          "97초<br>(5개)",
          "254초<br>(2개)"
         ],
         "textposition": "outside",
         "x": [
          "0-1분<br>9004개",
          "1-2분<br>9393개",
          "2-3분<br>5886개",
          "3-4분<br>1679개",
          "4-5분<br>429개",
          "5-6분<br>5개",
          "6-7분<br>2개"
         ],
         "y": [
          19,
          21,
          31,
          52,
          83,
          97,
          254
         ],
         "type": "bar",
         "xaxis": "x",
         "yaxis": "y"
        },
        {
         "marker": {
          "color": "lightsalmon"
         },
         "name": "현 BIS",
         "text": [
          "24초<br>(9004개)",
          "30초<br>(9393개)",
          "42초<br>(5886개)",
          "58초<br>(1679개)",
          "82초<br>(429개)",
          "48초<br>(5개)",
          "636초<br>(2개)"
         ],
         "textposition": "outside",
         "x": [
          "0-1분<br>9004개",
          "1-2분<br>9393개",
          "2-3분<br>5886개",
          "3-4분<br>1679개",
          "4-5분<br>429개",
          "5-6분<br>5개",
          "6-7분<br>2개"
         ],
         "y": [
          24,
          30,
          42,
          58,
          82,
          48,
          636
         ],
         "type": "bar",
         "xaxis": "x",
         "yaxis": "y"
        }
       ],
       "layout": {
        "template": {
         "data": {
          "histogram2dcontour": [
           {
            "type": "histogram2dcontour",
            "colorbar": {
             "outlinewidth": 0,
             "ticks": ""
            },
            "colorscale": [
             [
              0.0,
              "#0d0887"
             ],
             [
              0.1111111111111111,
              "#46039f"
             ],
             [
              0.2222222222222222,
              "#7201a8"
             ],
             [
              0.3333333333333333,
              "#9c179e"
             ],
             [
              0.4444444444444444,
              "#bd3786"
             ],
             [
              0.5555555555555556,
              "#d8576b"
             ],
             [
              0.6666666666666666,
              "#ed7953"
             ],
             [
              0.7777777777777778,
              "#fb9f3a"
             ],
             [
              0.8888888888888888,
              "#fdca26"
             ],
             [
              1.0,
              "#f0f921"
             ]
            ]
           }
          ],
          "choropleth": [
           {
            "type": "choropleth",
            "colorbar": {
             "outlinewidth": 0,
             "ticks": ""
            }
           }
          ],
          "histogram2d": [
           {
            "type": "histogram2d",
            "colorbar": {
             "outlinewidth": 0,
             "ticks": ""
            },
            "colorscale": [
             [
              0.0,
              "#0d0887"
             ],
             [
              0.1111111111111111,
              "#46039f"
             ],
             [
              0.2222222222222222,
              "#7201a8"
             ],
             [
              0.3333333333333333,
              "#9c179e"
             ],
             [
              0.4444444444444444,
              "#bd3786"
             ],
             [
              0.5555555555555556,
              "#d8576b"
             ],
             [
              0.6666666666666666,
              "#ed7953"
             ],
             [
              0.7777777777777778,
              "#fb9f3a"
             ],
             [
              0.8888888888888888,
              "#fdca26"
             ],
             [
              1.0,
              "#f0f921"
             ]
            ]
           }
          ],
          "heatmap": [
           {
            "type": "heatmap",
            "colorbar": {
             "outlinewidth": 0,
             "ticks": ""
            },
            "colorscale": [
             [
              0.0,
              "#0d0887"
             ],
             [
              0.1111111111111111,
              "#46039f"
             ],
             [
              0.2222222222222222,
              "#7201a8"
             ],
             [
              0.3333333333333333,
              "#9c179e"
             ],
             [
              0.4444444444444444,
              "#bd3786"
             ],
             [
              0.5555555555555556,
              "#d8576b"
             ],
             [
              0.6666666666666666,
              "#ed7953"
             ],
             [
              0.7777777777777778,
              "#fb9f3a"
             ],
             [
              0.8888888888888888,
              "#fdca26"
             ],
             [
              1.0,
              "#f0f921"
             ]
            ]
           }
          ],
          "heatmapgl": [
           {
            "type": "heatmapgl",
            "colorbar": {
             "outlinewidth": 0,
             "ticks": ""
            },
            "colorscale": [
             [
              0.0,
              "#0d0887"
             ],
             [
              0.1111111111111111,
              "#46039f"
             ],
             [
              0.2222222222222222,
              "#7201a8"
             ],
             [
              0.3333333333333333,
              "#9c179e"
             ],
             [
              0.4444444444444444,
              "#bd3786"
             ],
             [
              0.5555555555555556,
              "#d8576b"
             ],
             [
              0.6666666666666666,
              "#ed7953"
             ],
             [
              0.7777777777777778,
              "#fb9f3a"
             ],
             [
              0.8888888888888888,
              "#fdca26"
             ],
             [
              1.0,
              "#f0f921"
             ]
            ]
           }
          ],
          "contourcarpet": [
           {
            "type": "contourcarpet",
            "colorbar": {
             "outlinewidth": 0,
             "ticks": ""
            }
           }
          ],
          "contour": [
           {
            "type": "contour",
            "colorbar": {
             "outlinewidth": 0,
             "ticks": ""
            },
            "colorscale": [
             [
              0.0,
              "#0d0887"
             ],
             [
              0.1111111111111111,
              "#46039f"
             ],
             [
              0.2222222222222222,
              "#7201a8"
             ],
             [
              0.3333333333333333,
              "#9c179e"
             ],
             [
              0.4444444444444444,
              "#bd3786"
             ],
             [
              0.5555555555555556,
              "#d8576b"
             ],
             [
              0.6666666666666666,
              "#ed7953"
             ],
             [
              0.7777777777777778,
              "#fb9f3a"
             ],
             [
              0.8888888888888888,
              "#fdca26"
             ],
             [
              1.0,
              "#f0f921"
             ]
            ]
           }
          ],
          "surface": [
           {
            "type": "surface",
            "colorbar": {
             "outlinewidth": 0,
             "ticks": ""
            },
            "colorscale": [
             [
              0.0,
              "#0d0887"
             ],
             [
              0.1111111111111111,
              "#46039f"
             ],
             [
              0.2222222222222222,
              "#7201a8"
             ],
             [
              0.3333333333333333,
              "#9c179e"
             ],
             [
              0.4444444444444444,
              "#bd3786"
             ],
             [
              0.5555555555555556,
              "#d8576b"
             ],
             [
              0.6666666666666666,
              "#ed7953"
             ],
             [
              0.7777777777777778,
              "#fb9f3a"
             ],
             [
              0.8888888888888888,
              "#fdca26"
             ],
             [
              1.0,
              "#f0f921"
             ]
            ]
           }
          ],
          "mesh3d": [
           {
            "type": "mesh3d",
            "colorbar": {
             "outlinewidth": 0,
             "ticks": ""
            }
           }
          ],
          "scatter": [
           {
            "marker": {
             "line": {
              "color": "#283442"
             }
            },
            "type": "scatter"
           }
          ],
          "parcoords": [
           {
            "type": "parcoords",
            "line": {
             "colorbar": {
              "outlinewidth": 0,
              "ticks": ""
             }
            }
           }
          ],
          "scatterpolargl": [
           {
            "type": "scatterpolargl",
            "marker": {
             "colorbar": {
              "outlinewidth": 0,
              "ticks": ""
             }
            }
           }
          ],
          "bar": [
           {
            "error_x": {
             "color": "#f2f5fa"
            },
            "error_y": {
             "color": "#f2f5fa"
            },
            "marker": {
             "line": {
              "color": "rgb(17,17,17)",
              "width": 0.5
             },
             "pattern": {
              "fillmode": "overlay",
              "size": 10,
              "solidity": 0.2
             }
            },
            "type": "bar"
           }
          ],
          "scattergeo": [
           {
            "type": "scattergeo",
            "marker": {
             "colorbar": {
              "outlinewidth": 0,
              "ticks": ""
             }
            }
           }
          ],
          "scatterpolar": [
           {
            "type": "scatterpolar",
            "marker": {
             "colorbar": {
              "outlinewidth": 0,
              "ticks": ""
             }
            }
           }
          ],
          "histogram": [
           {
            "marker": {
             "pattern": {
              "fillmode": "overlay",
              "size": 10,
              "solidity": 0.2
             }
            },
            "type": "histogram"
           }
          ],
          "scattergl": [
           {
            "marker": {
             "line": {
              "color": "#283442"
             }
            },
            "type": "scattergl"
           }
          ],
          "scatter3d": [
           {
            "type": "scatter3d",
            "line": {
             "colorbar": {
              "outlinewidth": 0,
              "ticks": ""
             }
            },
            "marker": {
             "colorbar": {
              "outlinewidth": 0,
              "ticks": ""
             }
            }
           }
          ],
          "scattermapbox": [
           {
            "type": "scattermapbox",
            "marker": {
             "colorbar": {
              "outlinewidth": 0,
              "ticks": ""
             }
            }
           }
          ],
          "scatterternary": [
           {
            "type": "scatterternary",
            "marker": {
             "colorbar": {
              "outlinewidth": 0,
              "ticks": ""
             }
            }
           }
          ],
          "scattercarpet": [
           {
            "type": "scattercarpet",
            "marker": {
             "colorbar": {
              "outlinewidth": 0,
              "ticks": ""
             }
            }
           }
          ],
          "carpet": [
           {
            "aaxis": {
             "endlinecolor": "#A2B1C6",
             "gridcolor": "#506784",
             "linecolor": "#506784",
             "minorgridcolor": "#506784",
             "startlinecolor": "#A2B1C6"
            },
            "baxis": {
             "endlinecolor": "#A2B1C6",
             "gridcolor": "#506784",
             "linecolor": "#506784",
             "minorgridcolor": "#506784",
             "startlinecolor": "#A2B1C6"
            },
            "type": "carpet"
           }
          ],
          "table": [
           {
            "cells": {
             "fill": {
              "color": "#506784"
             },
             "line": {
              "color": "rgb(17,17,17)"
             }
            },
            "header": {
             "fill": {
              "color": "#2a3f5f"
             },
             "line": {
              "color": "rgb(17,17,17)"
             }
            },
            "type": "table"
           }
          ],
          "barpolar": [
           {
            "marker": {
             "line": {
              "color": "rgb(17,17,17)",
              "width": 0.5
             },
             "pattern": {
              "fillmode": "overlay",
              "size": 10,
              "solidity": 0.2
             }
            },
            "type": "barpolar"
           }
          ],
          "pie": [
           {
            "automargin": true,
            "type": "pie"
           }
          ]
         },
         "layout": {
          "autotypenumbers": "strict",
          "colorway": [
           "#636efa",
           "#EF553B",
           "#00cc96",
           "#ab63fa",
           "#FFA15A",
           "#19d3f3",
           "#FF6692",
           "#B6E880",
           "#FF97FF",
           "#FECB52"
          ],
          "font": {
           "color": "#f2f5fa"
          },
          "hovermode": "closest",
          "hoverlabel": {
           "align": "left"
          },
          "paper_bgcolor": "rgb(17,17,17)",
          "plot_bgcolor": "rgb(17,17,17)",
          "polar": {
           "bgcolor": "rgb(17,17,17)",
           "angularaxis": {
            "gridcolor": "#506784",
            "linecolor": "#506784",
            "ticks": ""
           },
           "radialaxis": {
            "gridcolor": "#506784",
            "linecolor": "#506784",
            "ticks": ""
           }
          },
          "ternary": {
           "bgcolor": "rgb(17,17,17)",
           "aaxis": {
            "gridcolor": "#506784",
            "linecolor": "#506784",
            "ticks": ""
           },
           "baxis": {
            "gridcolor": "#506784",
            "linecolor": "#506784",
            "ticks": ""
           },
           "caxis": {
            "gridcolor": "#506784",
            "linecolor": "#506784",
            "ticks": ""
           }
          },
          "coloraxis": {
           "colorbar": {
            "outlinewidth": 0,
            "ticks": ""
           }
          },
          "colorscale": {
           "sequential": [
            [
             0.0,
             "#0d0887"
            ],
            [
             0.1111111111111111,
             "#46039f"
            ],
            [
             0.2222222222222222,
             "#7201a8"
            ],
            [
             0.3333333333333333,
             "#9c179e"
            ],
            [
             0.4444444444444444,
             "#bd3786"
            ],
            [
             0.5555555555555556,
             "#d8576b"
            ],
            [
             0.6666666666666666,
             "#ed7953"
            ],
            [
             0.7777777777777778,
             "#fb9f3a"
            ],
            [
             0.8888888888888888,
             "#fdca26"
            ],
            [
             1.0,
             "#f0f921"
            ]
           ],
           "sequentialminus": [
            [
             0.0,
             "#0d0887"
            ],
            [
             0.1111111111111111,
             "#46039f"
            ],
            [
             0.2222222222222222,
             "#7201a8"
            ],
            [
             0.3333333333333333,
             "#9c179e"
            ],
            [
             0.4444444444444444,
             "#bd3786"
            ],
            [
             0.5555555555555556,
             "#d8576b"
            ],
            [
             0.6666666666666666,
             "#ed7953"
            ],
            [
             0.7777777777777778,
             "#fb9f3a"
            ],
            [
             0.8888888888888888,
             "#fdca26"
            ],
            [
             1.0,
             "#f0f921"
            ]
           ],
           "diverging": [
            [
             0,
             "#8e0152"
            ],
            [
             0.1,
             "#c51b7d"
            ],
            [
             0.2,
             "#de77ae"
            ],
            [
             0.3,
             "#f1b6da"
            ],
            [
             0.4,
             "#fde0ef"
            ],
            [
             0.5,
             "#f7f7f7"
            ],
            [
             0.6,
             "#e6f5d0"
            ],
            [
             0.7,
             "#b8e186"
            ],
            [
             0.8,
             "#7fbc41"
            ],
            [
             0.9,
             "#4d9221"
            ],
            [
             1,
             "#276419"
            ]
           ]
          },
          "xaxis": {
           "gridcolor": "#283442",
           "linecolor": "#506784",
           "ticks": "",
           "title": {
            "standoff": 15
           },
           "zerolinecolor": "#283442",
           "automargin": true,
           "zerolinewidth": 2
          },
          "yaxis": {
           "gridcolor": "#283442",
           "linecolor": "#506784",
           "ticks": "",
           "title": {
            "standoff": 15
           },
           "zerolinecolor": "#283442",
           "automargin": true,
           "zerolinewidth": 2
          },
          "scene": {
           "xaxis": {
            "backgroundcolor": "rgb(17,17,17)",
            "gridcolor": "#506784",
            "linecolor": "#506784",
            "showbackground": true,
            "ticks": "",
            "zerolinecolor": "#C8D4E3",
            "gridwidth": 2
           },
           "yaxis": {
            "backgroundcolor": "rgb(17,17,17)",
            "gridcolor": "#506784",
            "linecolor": "#506784",
            "showbackground": true,
            "ticks": "",
            "zerolinecolor": "#C8D4E3",
            "gridwidth": 2
           },
           "zaxis": {
            "backgroundcolor": "rgb(17,17,17)",
            "gridcolor": "#506784",
            "linecolor": "#506784",
            "showbackground": true,
            "ticks": "",
            "zerolinecolor": "#C8D4E3",
            "gridwidth": 2
           }
          },
          "shapedefaults": {
           "line": {
            "color": "#f2f5fa"
           }
          },
          "annotationdefaults": {
           "arrowcolor": "#f2f5fa",
           "arrowhead": 0,
           "arrowwidth": 1
          },
          "geo": {
           "bgcolor": "rgb(17,17,17)",
           "landcolor": "rgb(17,17,17)",
           "subunitcolor": "#506784",
           "showland": true,
           "showlakes": true,
           "lakecolor": "rgb(17,17,17)"
          },
          "title": {
           "x": 0.05
          },
          "updatemenudefaults": {
           "bgcolor": "#506784",
           "borderwidth": 0
          },
          "sliderdefaults": {
           "bgcolor": "#C8D4E3",
           "borderwidth": 1,
           "bordercolor": "rgb(17,17,17)",
           "tickwidth": 0
          },
          "mapbox": {
           "style": "dark"
          }
         }
        },
        "xaxis": {
         "anchor": "y",
         "domain": [
          0.0,
          1.0
         ],
         "title": {
          "text": "실제 이벤트 소통시간 (분)"
         },
         "tickfont": {
          "size": 14,
          "color": "white"
         }
        },
        "yaxis": {
         "anchor": "x",
         "domain": [
          0.0,
          1.0
         ],
         "title": {
          "text": "평균 오차 (초)"
         },
         "tickfont": {
          "size": 14,
          "color": "white"
         }
        },
        "annotations": [
         {
          "font": {
           "size": 16
          },
          "showarrow": false,
          "text": "소",
          "x": 0.5,
          "xanchor": "center",
          "xref": "paper",
          "y": 1.0,
          "yanchor": "bottom",
          "yref": "paper"
         },
         {
          "align": "center",
          "font": {
           "color": "indianred",
           "size": 14
          },
          "showarrow": false,
          "text": "AI 모델 예측 평균 오차: 25.7초<br>현 BIS 예측 평균 오차: 33.4초<br>현 BIS 대비 AI 모델 정확도 향상: 23.1%",
          "x": 0.5,
          "xref": "paper",
          "y": 1.05,
          "yref": "paper"
         }
        ],
        "title": {
         "text": "AI 모델과 BIS 시스템의 소통시간 예측 오차 비교"
        },
        "margin": {
         "t": 150
        },
        "barmode": "group",
        "height": 600,
        "legend": {
         "orientation": "h",
         "yanchor": "bottom",
         "y": 1.02,
         "xanchor": "right",
         "x": 1
        }
       },
       "config": {
        "plotlyServerURL": "https://plot.ly"
       }
      },
      "text/html": [
       "<div>                            <div id=\"c23ec238-31f0-4005-a379-57ba77b3e04d\" class=\"plotly-graph-div\" style=\"height:600px; width:100%;\"></div>            <script type=\"text/javascript\">                require([\"plotly\"], function(Plotly) {                    window.PLOTLYENV=window.PLOTLYENV || {};                                    if (document.getElementById(\"c23ec238-31f0-4005-a379-57ba77b3e04d\")) {                    Plotly.newPlot(                        \"c23ec238-31f0-4005-a379-57ba77b3e04d\",                        [{\"marker\":{\"color\":\"indianred\"},\"name\":\"AI \\ubaa8\\ub378\",\"text\":[\"19\\ucd08\\u003cbr\\u003e(9004\\uac1c)\",\"21\\ucd08\\u003cbr\\u003e(9393\\uac1c)\",\"31\\ucd08\\u003cbr\\u003e(5886\\uac1c)\",\"52\\ucd08\\u003cbr\\u003e(1679\\uac1c)\",\"83\\ucd08\\u003cbr\\u003e(429\\uac1c)\",\"97\\ucd08\\u003cbr\\u003e(5\\uac1c)\",\"254\\ucd08\\u003cbr\\u003e(2\\uac1c)\"],\"textposition\":\"outside\",\"x\":[\"0-1\\ubd84\\u003cbr\\u003e9004\\uac1c\",\"1-2\\ubd84\\u003cbr\\u003e9393\\uac1c\",\"2-3\\ubd84\\u003cbr\\u003e5886\\uac1c\",\"3-4\\ubd84\\u003cbr\\u003e1679\\uac1c\",\"4-5\\ubd84\\u003cbr\\u003e429\\uac1c\",\"5-6\\ubd84\\u003cbr\\u003e5\\uac1c\",\"6-7\\ubd84\\u003cbr\\u003e2\\uac1c\"],\"y\":[19,21,31,52,83,97,254],\"type\":\"bar\",\"xaxis\":\"x\",\"yaxis\":\"y\"},{\"marker\":{\"color\":\"lightsalmon\"},\"name\":\"\\ud604 BIS\",\"text\":[\"24\\ucd08\\u003cbr\\u003e(9004\\uac1c)\",\"30\\ucd08\\u003cbr\\u003e(9393\\uac1c)\",\"42\\ucd08\\u003cbr\\u003e(5886\\uac1c)\",\"58\\ucd08\\u003cbr\\u003e(1679\\uac1c)\",\"82\\ucd08\\u003cbr\\u003e(429\\uac1c)\",\"48\\ucd08\\u003cbr\\u003e(5\\uac1c)\",\"636\\ucd08\\u003cbr\\u003e(2\\uac1c)\"],\"textposition\":\"outside\",\"x\":[\"0-1\\ubd84\\u003cbr\\u003e9004\\uac1c\",\"1-2\\ubd84\\u003cbr\\u003e9393\\uac1c\",\"2-3\\ubd84\\u003cbr\\u003e5886\\uac1c\",\"3-4\\ubd84\\u003cbr\\u003e1679\\uac1c\",\"4-5\\ubd84\\u003cbr\\u003e429\\uac1c\",\"5-6\\ubd84\\u003cbr\\u003e5\\uac1c\",\"6-7\\ubd84\\u003cbr\\u003e2\\uac1c\"],\"y\":[24,30,42,58,82,48,636],\"type\":\"bar\",\"xaxis\":\"x\",\"yaxis\":\"y\"}],                        {\"template\":{\"data\":{\"histogram2dcontour\":[{\"type\":\"histogram2dcontour\",\"colorbar\":{\"outlinewidth\":0,\"ticks\":\"\"},\"colorscale\":[[0.0,\"#0d0887\"],[0.1111111111111111,\"#46039f\"],[0.2222222222222222,\"#7201a8\"],[0.3333333333333333,\"#9c179e\"],[0.4444444444444444,\"#bd3786\"],[0.5555555555555556,\"#d8576b\"],[0.6666666666666666,\"#ed7953\"],[0.7777777777777778,\"#fb9f3a\"],[0.8888888888888888,\"#fdca26\"],[1.0,\"#f0f921\"]]}],\"choropleth\":[{\"type\":\"choropleth\",\"colorbar\":{\"outlinewidth\":0,\"ticks\":\"\"}}],\"histogram2d\":[{\"type\":\"histogram2d\",\"colorbar\":{\"outlinewidth\":0,\"ticks\":\"\"},\"colorscale\":[[0.0,\"#0d0887\"],[0.1111111111111111,\"#46039f\"],[0.2222222222222222,\"#7201a8\"],[0.3333333333333333,\"#9c179e\"],[0.4444444444444444,\"#bd3786\"],[0.5555555555555556,\"#d8576b\"],[0.6666666666666666,\"#ed7953\"],[0.7777777777777778,\"#fb9f3a\"],[0.8888888888888888,\"#fdca26\"],[1.0,\"#f0f921\"]]}],\"heatmap\":[{\"type\":\"heatmap\",\"colorbar\":{\"outlinewidth\":0,\"ticks\":\"\"},\"colorscale\":[[0.0,\"#0d0887\"],[0.1111111111111111,\"#46039f\"],[0.2222222222222222,\"#7201a8\"],[0.3333333333333333,\"#9c179e\"],[0.4444444444444444,\"#bd3786\"],[0.5555555555555556,\"#d8576b\"],[0.6666666666666666,\"#ed7953\"],[0.7777777777777778,\"#fb9f3a\"],[0.8888888888888888,\"#fdca26\"],[1.0,\"#f0f921\"]]}],\"heatmapgl\":[{\"type\":\"heatmapgl\",\"colorbar\":{\"outlinewidth\":0,\"ticks\":\"\"},\"colorscale\":[[0.0,\"#0d0887\"],[0.1111111111111111,\"#46039f\"],[0.2222222222222222,\"#7201a8\"],[0.3333333333333333,\"#9c179e\"],[0.4444444444444444,\"#bd3786\"],[0.5555555555555556,\"#d8576b\"],[0.6666666666666666,\"#ed7953\"],[0.7777777777777778,\"#fb9f3a\"],[0.8888888888888888,\"#fdca26\"],[1.0,\"#f0f921\"]]}],\"contourcarpet\":[{\"type\":\"contourcarpet\",\"colorbar\":{\"outlinewidth\":0,\"ticks\":\"\"}}],\"contour\":[{\"type\":\"contour\",\"colorbar\":{\"outlinewidth\":0,\"ticks\":\"\"},\"colorscale\":[[0.0,\"#0d0887\"],[0.1111111111111111,\"#46039f\"],[0.2222222222222222,\"#7201a8\"],[0.3333333333333333,\"#9c179e\"],[0.4444444444444444,\"#bd3786\"],[0.5555555555555556,\"#d8576b\"],[0.6666666666666666,\"#ed7953\"],[0.7777777777777778,\"#fb9f3a\"],[0.8888888888888888,\"#fdca26\"],[1.0,\"#f0f921\"]]}],\"surface\":[{\"type\":\"surface\",\"colorbar\":{\"outlinewidth\":0,\"ticks\":\"\"},\"colorscale\":[[0.0,\"#0d0887\"],[0.1111111111111111,\"#46039f\"],[0.2222222222222222,\"#7201a8\"],[0.3333333333333333,\"#9c179e\"],[0.4444444444444444,\"#bd3786\"],[0.5555555555555556,\"#d8576b\"],[0.6666666666666666,\"#ed7953\"],[0.7777777777777778,\"#fb9f3a\"],[0.8888888888888888,\"#fdca26\"],[1.0,\"#f0f921\"]]}],\"mesh3d\":[{\"type\":\"mesh3d\",\"colorbar\":{\"outlinewidth\":0,\"ticks\":\"\"}}],\"scatter\":[{\"marker\":{\"line\":{\"color\":\"#283442\"}},\"type\":\"scatter\"}],\"parcoords\":[{\"type\":\"parcoords\",\"line\":{\"colorbar\":{\"outlinewidth\":0,\"ticks\":\"\"}}}],\"scatterpolargl\":[{\"type\":\"scatterpolargl\",\"marker\":{\"colorbar\":{\"outlinewidth\":0,\"ticks\":\"\"}}}],\"bar\":[{\"error_x\":{\"color\":\"#f2f5fa\"},\"error_y\":{\"color\":\"#f2f5fa\"},\"marker\":{\"line\":{\"color\":\"rgb(17,17,17)\",\"width\":0.5},\"pattern\":{\"fillmode\":\"overlay\",\"size\":10,\"solidity\":0.2}},\"type\":\"bar\"}],\"scattergeo\":[{\"type\":\"scattergeo\",\"marker\":{\"colorbar\":{\"outlinewidth\":0,\"ticks\":\"\"}}}],\"scatterpolar\":[{\"type\":\"scatterpolar\",\"marker\":{\"colorbar\":{\"outlinewidth\":0,\"ticks\":\"\"}}}],\"histogram\":[{\"marker\":{\"pattern\":{\"fillmode\":\"overlay\",\"size\":10,\"solidity\":0.2}},\"type\":\"histogram\"}],\"scattergl\":[{\"marker\":{\"line\":{\"color\":\"#283442\"}},\"type\":\"scattergl\"}],\"scatter3d\":[{\"type\":\"scatter3d\",\"line\":{\"colorbar\":{\"outlinewidth\":0,\"ticks\":\"\"}},\"marker\":{\"colorbar\":{\"outlinewidth\":0,\"ticks\":\"\"}}}],\"scattermapbox\":[{\"type\":\"scattermapbox\",\"marker\":{\"colorbar\":{\"outlinewidth\":0,\"ticks\":\"\"}}}],\"scatterternary\":[{\"type\":\"scatterternary\",\"marker\":{\"colorbar\":{\"outlinewidth\":0,\"ticks\":\"\"}}}],\"scattercarpet\":[{\"type\":\"scattercarpet\",\"marker\":{\"colorbar\":{\"outlinewidth\":0,\"ticks\":\"\"}}}],\"carpet\":[{\"aaxis\":{\"endlinecolor\":\"#A2B1C6\",\"gridcolor\":\"#506784\",\"linecolor\":\"#506784\",\"minorgridcolor\":\"#506784\",\"startlinecolor\":\"#A2B1C6\"},\"baxis\":{\"endlinecolor\":\"#A2B1C6\",\"gridcolor\":\"#506784\",\"linecolor\":\"#506784\",\"minorgridcolor\":\"#506784\",\"startlinecolor\":\"#A2B1C6\"},\"type\":\"carpet\"}],\"table\":[{\"cells\":{\"fill\":{\"color\":\"#506784\"},\"line\":{\"color\":\"rgb(17,17,17)\"}},\"header\":{\"fill\":{\"color\":\"#2a3f5f\"},\"line\":{\"color\":\"rgb(17,17,17)\"}},\"type\":\"table\"}],\"barpolar\":[{\"marker\":{\"line\":{\"color\":\"rgb(17,17,17)\",\"width\":0.5},\"pattern\":{\"fillmode\":\"overlay\",\"size\":10,\"solidity\":0.2}},\"type\":\"barpolar\"}],\"pie\":[{\"automargin\":true,\"type\":\"pie\"}]},\"layout\":{\"autotypenumbers\":\"strict\",\"colorway\":[\"#636efa\",\"#EF553B\",\"#00cc96\",\"#ab63fa\",\"#FFA15A\",\"#19d3f3\",\"#FF6692\",\"#B6E880\",\"#FF97FF\",\"#FECB52\"],\"font\":{\"color\":\"#f2f5fa\"},\"hovermode\":\"closest\",\"hoverlabel\":{\"align\":\"left\"},\"paper_bgcolor\":\"rgb(17,17,17)\",\"plot_bgcolor\":\"rgb(17,17,17)\",\"polar\":{\"bgcolor\":\"rgb(17,17,17)\",\"angularaxis\":{\"gridcolor\":\"#506784\",\"linecolor\":\"#506784\",\"ticks\":\"\"},\"radialaxis\":{\"gridcolor\":\"#506784\",\"linecolor\":\"#506784\",\"ticks\":\"\"}},\"ternary\":{\"bgcolor\":\"rgb(17,17,17)\",\"aaxis\":{\"gridcolor\":\"#506784\",\"linecolor\":\"#506784\",\"ticks\":\"\"},\"baxis\":{\"gridcolor\":\"#506784\",\"linecolor\":\"#506784\",\"ticks\":\"\"},\"caxis\":{\"gridcolor\":\"#506784\",\"linecolor\":\"#506784\",\"ticks\":\"\"}},\"coloraxis\":{\"colorbar\":{\"outlinewidth\":0,\"ticks\":\"\"}},\"colorscale\":{\"sequential\":[[0.0,\"#0d0887\"],[0.1111111111111111,\"#46039f\"],[0.2222222222222222,\"#7201a8\"],[0.3333333333333333,\"#9c179e\"],[0.4444444444444444,\"#bd3786\"],[0.5555555555555556,\"#d8576b\"],[0.6666666666666666,\"#ed7953\"],[0.7777777777777778,\"#fb9f3a\"],[0.8888888888888888,\"#fdca26\"],[1.0,\"#f0f921\"]],\"sequentialminus\":[[0.0,\"#0d0887\"],[0.1111111111111111,\"#46039f\"],[0.2222222222222222,\"#7201a8\"],[0.3333333333333333,\"#9c179e\"],[0.4444444444444444,\"#bd3786\"],[0.5555555555555556,\"#d8576b\"],[0.6666666666666666,\"#ed7953\"],[0.7777777777777778,\"#fb9f3a\"],[0.8888888888888888,\"#fdca26\"],[1.0,\"#f0f921\"]],\"diverging\":[[0,\"#8e0152\"],[0.1,\"#c51b7d\"],[0.2,\"#de77ae\"],[0.3,\"#f1b6da\"],[0.4,\"#fde0ef\"],[0.5,\"#f7f7f7\"],[0.6,\"#e6f5d0\"],[0.7,\"#b8e186\"],[0.8,\"#7fbc41\"],[0.9,\"#4d9221\"],[1,\"#276419\"]]},\"xaxis\":{\"gridcolor\":\"#283442\",\"linecolor\":\"#506784\",\"ticks\":\"\",\"title\":{\"standoff\":15},\"zerolinecolor\":\"#283442\",\"automargin\":true,\"zerolinewidth\":2},\"yaxis\":{\"gridcolor\":\"#283442\",\"linecolor\":\"#506784\",\"ticks\":\"\",\"title\":{\"standoff\":15},\"zerolinecolor\":\"#283442\",\"automargin\":true,\"zerolinewidth\":2},\"scene\":{\"xaxis\":{\"backgroundcolor\":\"rgb(17,17,17)\",\"gridcolor\":\"#506784\",\"linecolor\":\"#506784\",\"showbackground\":true,\"ticks\":\"\",\"zerolinecolor\":\"#C8D4E3\",\"gridwidth\":2},\"yaxis\":{\"backgroundcolor\":\"rgb(17,17,17)\",\"gridcolor\":\"#506784\",\"linecolor\":\"#506784\",\"showbackground\":true,\"ticks\":\"\",\"zerolinecolor\":\"#C8D4E3\",\"gridwidth\":2},\"zaxis\":{\"backgroundcolor\":\"rgb(17,17,17)\",\"gridcolor\":\"#506784\",\"linecolor\":\"#506784\",\"showbackground\":true,\"ticks\":\"\",\"zerolinecolor\":\"#C8D4E3\",\"gridwidth\":2}},\"shapedefaults\":{\"line\":{\"color\":\"#f2f5fa\"}},\"annotationdefaults\":{\"arrowcolor\":\"#f2f5fa\",\"arrowhead\":0,\"arrowwidth\":1},\"geo\":{\"bgcolor\":\"rgb(17,17,17)\",\"landcolor\":\"rgb(17,17,17)\",\"subunitcolor\":\"#506784\",\"showland\":true,\"showlakes\":true,\"lakecolor\":\"rgb(17,17,17)\"},\"title\":{\"x\":0.05},\"updatemenudefaults\":{\"bgcolor\":\"#506784\",\"borderwidth\":0},\"sliderdefaults\":{\"bgcolor\":\"#C8D4E3\",\"borderwidth\":1,\"bordercolor\":\"rgb(17,17,17)\",\"tickwidth\":0},\"mapbox\":{\"style\":\"dark\"}}},\"xaxis\":{\"anchor\":\"y\",\"domain\":[0.0,1.0],\"title\":{\"text\":\"\\uc2e4\\uc81c \\uc774\\ubca4\\ud2b8 \\uc18c\\ud1b5\\uc2dc\\uac04 (\\ubd84)\"},\"tickfont\":{\"size\":14,\"color\":\"white\"}},\"yaxis\":{\"anchor\":\"x\",\"domain\":[0.0,1.0],\"title\":{\"text\":\"\\ud3c9\\uade0 \\uc624\\ucc28 (\\ucd08)\"},\"tickfont\":{\"size\":14,\"color\":\"white\"}},\"annotations\":[{\"font\":{\"size\":16},\"showarrow\":false,\"text\":\"\\uc18c\",\"x\":0.5,\"xanchor\":\"center\",\"xref\":\"paper\",\"y\":1.0,\"yanchor\":\"bottom\",\"yref\":\"paper\"},{\"align\":\"center\",\"font\":{\"color\":\"indianred\",\"size\":14},\"showarrow\":false,\"text\":\"AI \\ubaa8\\ub378 \\uc608\\uce21 \\ud3c9\\uade0 \\uc624\\ucc28: 25.7\\ucd08\\u003cbr\\u003e\\ud604 BIS \\uc608\\uce21 \\ud3c9\\uade0 \\uc624\\ucc28: 33.4\\ucd08\\u003cbr\\u003e\\ud604 BIS \\ub300\\ube44 AI \\ubaa8\\ub378 \\uc815\\ud655\\ub3c4 \\ud5a5\\uc0c1: 23.1%\",\"x\":0.5,\"xref\":\"paper\",\"y\":1.05,\"yref\":\"paper\"}],\"title\":{\"text\":\"AI \\ubaa8\\ub378\\uacfc BIS \\uc2dc\\uc2a4\\ud15c\\uc758 \\uc18c\\ud1b5\\uc2dc\\uac04 \\uc608\\uce21 \\uc624\\ucc28 \\ube44\\uad50\"},\"margin\":{\"t\":150},\"barmode\":\"group\",\"height\":600,\"legend\":{\"orientation\":\"h\",\"yanchor\":\"bottom\",\"y\":1.02,\"xanchor\":\"right\",\"x\":1}},                        {\"responsive\": true}                    ).then(function(){\n",
       "                            \n",
       "var gd = document.getElementById('c23ec238-31f0-4005-a379-57ba77b3e04d');\n",
       "var x = new MutationObserver(function (mutations, observer) {{\n",
       "        var display = window.getComputedStyle(gd).display;\n",
       "        if (!display || display === 'none') {{\n",
       "            console.log([gd, 'removed!']);\n",
       "            Plotly.purge(gd);\n",
       "            observer.disconnect();\n",
       "        }}\n",
       "}});\n",
       "\n",
       "// Listen for the removal of the full notebook cells\n",
       "var notebookContainer = gd.closest('#notebook-container');\n",
       "if (notebookContainer) {{\n",
       "    x.observe(notebookContainer, {childList: true});\n",
       "}}\n",
       "\n",
       "// Listen for the clearing of the current output cell\n",
       "var outputEl = gd.closest('.output');\n",
       "if (outputEl) {{\n",
       "    x.observe(outputEl, {childList: true});\n",
       "}}\n",
       "\n",
       "                        })                };                });            </script>        </div>"
      ]
     },
     "metadata": {},
     "output_type": "display_data"
    }
   ],
   "execution_count": 3
  },
  {
   "metadata": {},
   "cell_type": "code",
   "outputs": [],
   "execution_count": null,
   "source": "",
   "id": "38003acecb9a407d"
  },
  {
   "metadata": {
    "ExecuteTime": {
     "end_time": "2024-10-08T02:16:06.495505Z",
     "start_time": "2024-10-08T02:16:06.482603Z"
    }
   },
   "cell_type": "code",
   "source": [
    "# '12-13분'에 해당하는 실제 CSV 데이터의 행들을 필터링\n",
    "travel_filtered_rows = df_filtered_travel[df_filtered_travel['TRAVEL_BIN'] == '6-7분']\n",
    "\n",
    "# 필터된 데이터 출력\n",
    "print(travel_filtered_rows)"
   ],
   "id": "1ee9c9ba0ad9156b",
   "outputs": [
    {
     "name": "stdout",
     "output_type": "stream",
     "text": [
      "        TRAVEL_TIME_EVENT_MIN  DIFF_EVENT_AI  DIFF_EVENT_BIS TRAVEL_BIN\n",
      "25694                6.700000          294.0          1153.0       6-7분\n",
      "285422               6.741667          213.5           119.5       6-7분\n"
     ]
    }
   ],
   "execution_count": 4
  },
  {
   "metadata": {},
   "cell_type": "code",
   "outputs": [],
   "execution_count": null,
   "source": "",
   "id": "78ff12bef2d4310c"
  }
 ],
 "metadata": {
  "kernelspec": {
   "display_name": "Python 3",
   "language": "python",
   "name": "python3"
  },
  "language_info": {
   "codemirror_mode": {
    "name": "ipython",
    "version": 2
   },
   "file_extension": ".py",
   "mimetype": "text/x-python",
   "name": "python",
   "nbconvert_exporter": "python",
   "pygments_lexer": "ipython2",
   "version": "2.7.6"
  }
 },
 "nbformat": 4,
 "nbformat_minor": 5
}
